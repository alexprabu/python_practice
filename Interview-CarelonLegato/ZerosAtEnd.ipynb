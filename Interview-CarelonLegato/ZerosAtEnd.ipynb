{
 "cells": [
  {
   "cell_type": "markdown",
   "id": "15acae9a-4ba8-4567-823c-f357b74921b6",
   "metadata": {},
   "source": [
    "Question #1:\n",
    "    \n",
    "    From a given list of numbers, move zeros to the end of the list.\n",
    "    \n",
    "    For example,\n",
    "    If the given list of numbers is:\n",
    "        lst = [1, 0, 2, 0, 4, 0, 6, 5]\n",
    "    Then the output should be:\n",
    "        [1, 2, 4, 6, 5, 0, 0, 0]"
   ]
  },
  {
   "cell_type": "code",
   "execution_count": 1,
   "id": "bf0e894f-624b-455d-9fe5-77259abdb573",
   "metadata": {},
   "outputs": [],
   "source": [
    "lst = [1, 0, 2, 0, 4, 0, 6, 5]"
   ]
  },
  {
   "cell_type": "code",
   "execution_count": 2,
   "id": "e0b9852e-03f7-42c5-a8ba-36639c03e73b",
   "metadata": {},
   "outputs": [
    {
     "data": {
      "text/plain": [
       "[1, 0, 2, 0, 4, 0, 6, 5]"
      ]
     },
     "execution_count": 2,
     "metadata": {},
     "output_type": "execute_result"
    }
   ],
   "source": [
    "lst"
   ]
  },
  {
   "cell_type": "code",
   "execution_count": 4,
   "id": "39cc88f9-40a0-4076-ade0-fe743283c39a",
   "metadata": {},
   "outputs": [
    {
     "name": "stdout",
     "output_type": "stream",
     "text": [
      "[0, 0, 0]\n",
      "[1, 2, 4, 6, 5]\n"
     ]
    }
   ],
   "source": [
    "zeroLst = []\n",
    "numLst = []\n",
    "for i in lst:\n",
    "    if(i==0):\n",
    "        zeroLst.append(i)\n",
    "    else:\n",
    "        numLst.append(i)\n",
    "\n",
    "print(zeroLst)\n",
    "print(numLst)"
   ]
  },
  {
   "cell_type": "code",
   "execution_count": 5,
   "id": "0cbeb910-c760-4f6f-961d-c5c792de907b",
   "metadata": {},
   "outputs": [],
   "source": [
    "lst = numLst + zeroLst"
   ]
  },
  {
   "cell_type": "code",
   "execution_count": 6,
   "id": "9cf991aa-999a-48f9-8520-d74246213acc",
   "metadata": {},
   "outputs": [
    {
     "name": "stdout",
     "output_type": "stream",
     "text": [
      "[1, 2, 4, 6, 5, 0, 0, 0]\n"
     ]
    }
   ],
   "source": [
    "print(lst)"
   ]
  },
  {
   "cell_type": "code",
   "execution_count": null,
   "id": "3f07f76c-ffc9-4d30-b263-8447a53f1ab2",
   "metadata": {},
   "outputs": [],
   "source": []
  },
  {
   "cell_type": "code",
   "execution_count": null,
   "id": "64841bfb-a849-49fd-a8ab-ed0c1b8a6718",
   "metadata": {},
   "outputs": [],
   "source": []
  },
  {
   "cell_type": "code",
   "execution_count": null,
   "id": "14614ff5-f006-4696-b1b8-12e3c8a5b339",
   "metadata": {},
   "outputs": [],
   "source": []
  }
 ],
 "metadata": {
  "kernelspec": {
   "display_name": "Python 3 (ipykernel)",
   "language": "python",
   "name": "python3"
  },
  "language_info": {
   "codemirror_mode": {
    "name": "ipython",
    "version": 3
   },
   "file_extension": ".py",
   "mimetype": "text/x-python",
   "name": "python",
   "nbconvert_exporter": "python",
   "pygments_lexer": "ipython3",
   "version": "3.11.4"
  }
 },
 "nbformat": 4,
 "nbformat_minor": 5
}
