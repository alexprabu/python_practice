{
 "cells": [
  {
   "cell_type": "markdown",
   "id": "ac6d9873-923a-41e7-8803-d000526c1c92",
   "metadata": {},
   "source": [
    "Question #2\n",
    "    \n",
    "    we have a list of numbers and a target value. Write a Python program to find all the combinations of list elements\n",
    "    whose sum equals the target value.\n",
    "         \n",
    "        Input ##\n",
    "        numbers = [1, 5, 6, 3, 2, 4]\n",
    "        target value = 7\n",
    "         \n",
    "        OUTPUT##\n",
    "        All the combinations of list numbers whose sum is 7 are\n",
    "         \n",
    "        1 and 6\n",
    "        5 and 2\n",
    "        4 and 3"
   ]
  },
  {
   "cell_type": "code",
   "execution_count": 2,
   "id": "9a2a8f5d-4d90-4ade-8bfe-b334fa288f14",
   "metadata": {},
   "outputs": [],
   "source": [
    "numbers = [1, 5, 6, 3, 2, 4]\n",
    "\n",
    "target = 7"
   ]
  },
  {
   "cell_type": "code",
   "execution_count": 3,
   "id": "11e9741c-6979-48f1-9c9d-28e9582c8230",
   "metadata": {},
   "outputs": [
    {
     "name": "stdout",
     "output_type": "stream",
     "text": [
      "[1, 5, 6, 3, 2, 4]\n"
     ]
    }
   ],
   "source": [
    "print(numbers)"
   ]
  },
  {
   "cell_type": "code",
   "execution_count": 33,
   "id": "038ebcec-8959-4cba-8a64-675b1432950d",
   "metadata": {},
   "outputs": [
    {
     "name": "stdout",
     "output_type": "stream",
     "text": [
      "<class 'list'>\n"
     ]
    }
   ],
   "source": [
    "print(type(numbers))\n",
    "import numpy as np\n",
    "\n",
    "len = np.size(numbers)"
   ]
  },
  {
   "cell_type": "code",
   "execution_count": 32,
   "id": "4f59dcb1-0854-4122-8010-565e5d99cbe1",
   "metadata": {},
   "outputs": [
    {
     "name": "stdout",
     "output_type": "stream",
     "text": [
      "[[4, 3], [5, 2]]\n"
     ]
    }
   ],
   "source": [
    "combLst = []\n",
    "for i in range(len):\n",
    "    for j in range(1, i+1):\n",
    "        # print(i, j)\n",
    "        comb = i+j\n",
    "        lst = []\n",
    "        if(i+j) == 7:\n",
    "            combLst.append([i,j])\n",
    "print(combLst)"
   ]
  },
  {
   "cell_type": "code",
   "execution_count": null,
   "id": "b16fbec7-f031-4650-85e6-112df3afcd03",
   "metadata": {},
   "outputs": [],
   "source": []
  },
  {
   "cell_type": "code",
   "execution_count": null,
   "id": "e4bbea70-725e-4e3f-bd1d-d6d43c9200f3",
   "metadata": {},
   "outputs": [],
   "source": []
  },
  {
   "cell_type": "code",
   "execution_count": null,
   "id": "1b9510ea-50f1-43af-9c5b-36f17ff54a6e",
   "metadata": {},
   "outputs": [],
   "source": []
  },
  {
   "cell_type": "code",
   "execution_count": null,
   "id": "568563f1-90c7-4d59-a5ae-0a8d32494276",
   "metadata": {},
   "outputs": [],
   "source": []
  },
  {
   "cell_type": "code",
   "execution_count": null,
   "id": "a43cb3f9-67ff-4bbf-849b-6da470396c3f",
   "metadata": {},
   "outputs": [],
   "source": []
  }
 ],
 "metadata": {
  "kernelspec": {
   "display_name": "Python 3 (ipykernel)",
   "language": "python",
   "name": "python3"
  },
  "language_info": {
   "codemirror_mode": {
    "name": "ipython",
    "version": 3
   },
   "file_extension": ".py",
   "mimetype": "text/x-python",
   "name": "python",
   "nbconvert_exporter": "python",
   "pygments_lexer": "ipython3",
   "version": "3.11.4"
  }
 },
 "nbformat": 4,
 "nbformat_minor": 5
}
