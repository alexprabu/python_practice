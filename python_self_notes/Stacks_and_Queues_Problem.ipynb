{
 "cells": [
  {
   "cell_type": "code",
   "execution_count": null,
   "metadata": {},
   "outputs": [],
   "source": []
  },
  {
   "cell_type": "code",
   "execution_count": 1,
   "metadata": {},
   "outputs": [
    {
     "name": "stdout",
     "output_type": "stream",
     "text": [
      "3 5 10 10\n"
     ]
    }
   ],
   "source": [
    "while True:\n",
    "    try:\n",
    "        t, p, nt, np = list(map(int, input().split(\" \")))\n",
    "        if (t <= 0 or t > 100) or (p <= 0 or p>10) or (nt <= 0) or (np <= 0):\n",
    "            raise ValueError\n",
    "        break\n",
    "    except ValueError:\n",
    "        print(\"Values must match these conditions: 0 <= t < 100, 0 <= p < 10,0 <= nt,0 <= np  \")"
   ]
  },
  {
   "cell_type": "code",
   "execution_count": 2,
   "metadata": {},
   "outputs": [
    {
     "name": "stdout",
     "output_type": "stream",
     "text": [
      "2 7 1\n"
     ]
    }
   ],
   "source": [
    "trains_capacity = list(map(int, input().split(\" \")[:t]))"
   ]
  },
  {
   "cell_type": "code",
   "execution_count": 3,
   "metadata": {
    "scrolled": true
   },
   "outputs": [
    {
     "name": "stdout",
     "output_type": "stream",
     "text": [
      "3 2 1 3 1\n"
     ]
    }
   ],
   "source": [
    "planes_capacity = list(map(int, input().split(\" \")[:p]))"
   ]
  },
  {
   "cell_type": "code",
   "execution_count": 4,
   "metadata": {},
   "outputs": [
    {
     "name": "stdout",
     "output_type": "stream",
     "text": [
      "2 2 2 1 3 2 2 2 1 2\n"
     ]
    }
   ],
   "source": [
    "items_of_trains = list(map(int, input().split(\" \")[:nt]))"
   ]
  },
  {
   "cell_type": "code",
   "execution_count": 5,
   "metadata": {},
   "outputs": [
    {
     "name": "stdout",
     "output_type": "stream",
     "text": [
      "1 5 1 4 4 2 1 3 2 4\n"
     ]
    }
   ],
   "source": [
    "items_of_planes = list(map(int, input().split(\" \")[:np]))"
   ]
  },
  {
   "cell_type": "code",
   "execution_count": 6,
   "metadata": {},
   "outputs": [],
   "source": [
    "if nt >= 5:\n",
    "    stack_capacity = 5\n",
    "else:\n",
    "    stack_capacity = nt\n",
    "\n",
    "stacks = []\n",
    "temp_list = []\n",
    "for item in items_of_trains:\n",
    "    temp_list.append(item)\n",
    "    if len(temp_list) == stack_capacity:\n",
    "        stacks.append(temp_list)\n",
    "        temp_list = []"
   ]
  },
  {
   "cell_type": "code",
   "execution_count": 7,
   "metadata": {},
   "outputs": [
    {
     "name": "stdout",
     "output_type": "stream",
     "text": [
      "[[2, 2, 2, 1, 3], [2, 2, 2, 1, 2]]\n"
     ]
    }
   ],
   "source": [
    "print(stacks)"
   ]
  },
  {
   "cell_type": "code",
   "execution_count": 8,
   "metadata": {},
   "outputs": [],
   "source": [
    "train_nos = list(set(items_of_trains))\n",
    "train_nos.sort() #sorting because trains/planes closer to the dock have the smaller train/plane numbers "
   ]
  },
  {
   "cell_type": "code",
   "execution_count": 9,
   "metadata": {},
   "outputs": [],
   "source": [
    "train_dict = dict(zip(train_nos, trains_capacity)) #This dictionary is for train numbers and corresponding train capacity\n",
    "result_dict_trains = dict.fromkeys(train_nos, 0) #This dictionary is for train numbers and corresponding total loading time."
   ]
  },
  {
   "cell_type": "code",
   "execution_count": 10,
   "metadata": {},
   "outputs": [],
   "source": [
    "from queue import Queue   #Importing queue module\n",
    "q = Queue(maxsize = np)\n",
    "temp = [q.put(i) for i in items_of_planes]"
   ]
  },
  {
   "cell_type": "code",
   "execution_count": 11,
   "metadata": {},
   "outputs": [],
   "source": [
    "plane_nos = list(set(items_of_planes))\n",
    "plane_nos.sort()"
   ]
  },
  {
   "cell_type": "code",
   "execution_count": 12,
   "metadata": {},
   "outputs": [],
   "source": [
    "plane_dict = dict(zip(plane_nos, planes_capacity)) #This dictionary is for plane numbers and corresponding plane capacity\n",
    "result_dict_planes = dict.fromkeys(plane_nos, 0) #This dictionary is for plane numbers and corresponding total loading time."
   ]
  },
  {
   "cell_type": "code",
   "execution_count": 13,
   "metadata": {},
   "outputs": [],
   "source": [
    "def calculate_results(transport, item, d, result_dict, time):\n",
    "    if d[item] == 1:\n",
    "            for k, v in result_dict.items():\n",
    "                if k==item:\n",
    "                    result_dict[k] = v + item * (int(time/2)) #Last item for this train/plane, hence return time need not to be calculated\n",
    "                else:\n",
    "                    if d[k] > 0:\n",
    "                        result_dict[k] = v + item * time #Here we need to calculate return time for other items also\n",
    "\n",
    "    else:\n",
    "        for k, v in result_dict.items():\n",
    "            if d[k] > 0:\n",
    "                result_dict[k] = v + item * time\n",
    "            else:\n",
    "                result_dict[k] = v + 0 #In this scenario train/plane already filled, hence no additional time calculated\n",
    "    d[item] = d[item]-1\n",
    "    \n",
    "    \n",
    "    if transport == \"train\":\n",
    "        result_dict_trains = result_dict\n",
    "    else:\n",
    "        result_dict_planes = result_dict"
   ]
  },
  {
   "cell_type": "code",
   "execution_count": 14,
   "metadata": {},
   "outputs": [
    {
     "name": "stdout",
     "output_type": "stream",
     "text": [
      "3\n",
      "1\n",
      "2\n",
      "2\n",
      "2\n",
      "2\n",
      "1\n",
      "2\n",
      "2\n",
      "2\n"
     ]
    }
   ],
   "source": [
    "for stack in stacks:  \n",
    "    for i in range(len(stack)):\n",
    "        item = stack.pop()\n",
    "        print(item)\n",
    "        calculate_results(\"train\", item, train_dict, result_dict_trains, 2)"
   ]
  },
  {
   "cell_type": "code",
   "execution_count": 15,
   "metadata": {},
   "outputs": [],
   "source": [
    "for i in range(q.qsize()):\n",
    "    item = q.get()    \n",
    "    calculate_results(\"plane\", item, plane_dict, result_dict_planes, 10)"
   ]
  },
  {
   "cell_type": "code",
   "execution_count": 16,
   "metadata": {},
   "outputs": [
    {
     "name": "stdout",
     "output_type": "stream",
     "text": [
      "25 36 3\n"
     ]
    }
   ],
   "source": [
    "print(*result_dict_trains.values(), sep= \" \")"
   ]
  },
  {
   "cell_type": "code",
   "execution_count": 17,
   "metadata": {},
   "outputs": [
    {
     "name": "stdout",
     "output_type": "stream",
     "text": [
      "175 220 195 250 35\n"
     ]
    }
   ],
   "source": [
    "print(*result_dict_planes.values(), sep= \" \")"
   ]
  },
  {
   "cell_type": "code",
   "execution_count": null,
   "metadata": {},
   "outputs": [],
   "source": []
  }
 ],
 "metadata": {
  "kernelspec": {
   "display_name": "Python 3",
   "language": "python",
   "name": "python3"
  },
  "language_info": {
   "codemirror_mode": {
    "name": "ipython",
    "version": 3
   },
   "file_extension": ".py",
   "mimetype": "text/x-python",
   "name": "python",
   "nbconvert_exporter": "python",
   "pygments_lexer": "ipython3",
   "version": "3.7.4"
  }
 },
 "nbformat": 4,
 "nbformat_minor": 2
}
