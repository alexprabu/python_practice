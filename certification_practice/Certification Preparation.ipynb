{
 "cells": [
  {
   "cell_type": "markdown",
   "metadata": {},
   "source": [
    "#### 1 PYTHON INTERVIEW QUIZ QUESTIONS - 1250 questions (Melcose sir's word doc, refer: google drive)\n",
    "\n",
    "### Questions Covered:\n",
    "\n",
    "\n",
    "    1. \n",
    "    2.\n",
    "    3.\n",
    "    4.\n",
    "    5. Q 839 - Q (50 Questions)\n"
   ]
  },
  {
   "cell_type": "code",
   "execution_count": 1,
   "metadata": {},
   "outputs": [
    {
     "name": "stdout",
     "output_type": "stream",
     "text": [
      "AA\tBB\n",
      "CC~DD\n",
      "~\n"
     ]
    }
   ],
   "source": [
    "print(\"AA\\tBB\\nCC\\x7EDD\")\n",
    "print(\"\\x7E\")\n"
   ]
  },
  {
   "cell_type": "code",
   "execution_count": 2,
   "metadata": {},
   "outputs": [
    {
     "data": {
      "text/plain": [
       "'ax'"
      ]
     },
     "execution_count": 2,
     "metadata": {},
     "output_type": "execute_result"
    }
   ],
   "source": [
    "'a' + 'x' if '123'.isdigit() else 'y' + 'b'"
   ]
  },
  {
   "cell_type": "code",
   "execution_count": 3,
   "metadata": {},
   "outputs": [
    {
     "name": "stdout",
     "output_type": "stream",
     "text": [
      "Shopping List\n",
      "item1: Rice\n",
      "item2: Sugar\n"
     ]
    }
   ],
   "source": [
    "print('Shopping List')\n",
    "print(\"item1:\",\"Rice\")\n",
    "print(\"item2:\",\"Sugar\")"
   ]
  },
  {
   "cell_type": "code",
   "execution_count": 4,
   "metadata": {},
   "outputs": [
    {
     "name": "stdout",
     "output_type": "stream",
     "text": [
      "            Shopping List\n",
      "Shopping List            \n"
     ]
    }
   ],
   "source": [
    "print('{0:>25}'.format('Shopping List'))\n",
    "print('{0:<25}'.format('Shopping List'))"
   ]
  },
  {
   "cell_type": "code",
   "execution_count": 5,
   "metadata": {},
   "outputs": [
    {
     "name": "stdout",
     "output_type": "stream",
     "text": [
      "      Shopping List      \n",
      "item1   |    Rice\n",
      "item2   |   Sugar\n"
     ]
    }
   ],
   "source": [
    "print('{0:^25}'.format('Shopping List'))\n",
    "print('{0:8}|{1:>8}'.format(\"item1\",\"Rice\"))\n",
    "print('{0:8}|{1:>8}'.format(\"item2\",\"Sugar\"))"
   ]
  },
  {
   "cell_type": "code",
   "execution_count": 6,
   "metadata": {},
   "outputs": [],
   "source": [
    "f = open('test_file.txt', 'w')\n",
    "f.write(\"Hello, World!\")\n",
    "f.close()"
   ]
  },
  {
   "cell_type": "code",
   "execution_count": 7,
   "metadata": {},
   "outputs": [
    {
     "name": "stdout",
     "output_type": "stream",
     "text": [
      "Hello, World!\n"
     ]
    }
   ],
   "source": [
    "f = open('test_file.txt', 'r')\n",
    "print(f.read())\n",
    "f.close()"
   ]
  },
  {
   "cell_type": "code",
   "execution_count": 8,
   "metadata": {},
   "outputs": [],
   "source": [
    "f = open('test_file.txt', 'a')\n",
    "f.write(\"Hello, World!\")\n",
    "f.close()"
   ]
  },
  {
   "cell_type": "code",
   "execution_count": 9,
   "metadata": {},
   "outputs": [
    {
     "name": "stdout",
     "output_type": "stream",
     "text": [
      "Hello, World!Hello, World!\n"
     ]
    }
   ],
   "source": [
    "f = open('test_file.txt', 'r')\n",
    "print(f.read())\n",
    "f.close()"
   ]
  },
  {
   "cell_type": "code",
   "execution_count": 10,
   "metadata": {},
   "outputs": [],
   "source": [
    "f = open('test_file.txt', 'a+')\n",
    "f.write(\"How are you?\")\n",
    "f.close()"
   ]
  },
  {
   "cell_type": "code",
   "execution_count": 11,
   "metadata": {},
   "outputs": [
    {
     "name": "stdout",
     "output_type": "stream",
     "text": [
      "Hello, World!Hello, World!How are you?\n"
     ]
    }
   ],
   "source": [
    "f = open('test_file.txt', 'r')\n",
    "print(f.read())\n",
    "f.close()"
   ]
  },
  {
   "cell_type": "code",
   "execution_count": 12,
   "metadata": {},
   "outputs": [],
   "source": [
    "f = open('test_file.txt', 'r+')\n",
    "f.write(\"Hello, World!\")\n",
    "f.close()"
   ]
  },
  {
   "cell_type": "code",
   "execution_count": 13,
   "metadata": {},
   "outputs": [
    {
     "name": "stdout",
     "output_type": "stream",
     "text": [
      "Hello, World!Hello, World!How are you?\n"
     ]
    }
   ],
   "source": [
    "f = open('test_file.txt', 'r')\n",
    "print(f.read())\n",
    "f.close()"
   ]
  },
  {
   "cell_type": "code",
   "execution_count": 14,
   "metadata": {},
   "outputs": [],
   "source": [
    "f = open('test_file.txt', 'w+')\n",
    "f.write(\"Hello, World!\")\n",
    "f.close()"
   ]
  },
  {
   "cell_type": "code",
   "execution_count": 15,
   "metadata": {},
   "outputs": [
    {
     "name": "stdout",
     "output_type": "stream",
     "text": [
      "Hello, World!\n"
     ]
    }
   ],
   "source": [
    "f = open('test_file.txt', 'r')\n",
    "print(f.read())\n",
    "f.close()"
   ]
  },
  {
   "cell_type": "code",
   "execution_count": 16,
   "metadata": {},
   "outputs": [
    {
     "ename": "FileExistsError",
     "evalue": "[Errno 17] File exists: 'test_file.txt'",
     "output_type": "error",
     "traceback": [
      "\u001b[1;31m---------------------------------------------------------------------------\u001b[0m",
      "\u001b[1;31mFileExistsError\u001b[0m                           Traceback (most recent call last)",
      "\u001b[1;32m<ipython-input-16-0e3ff44a245f>\u001b[0m in \u001b[0;36m<module>\u001b[1;34m\u001b[0m\n\u001b[1;32m----> 1\u001b[1;33m \u001b[0mf\u001b[0m \u001b[1;33m=\u001b[0m \u001b[0mopen\u001b[0m\u001b[1;33m(\u001b[0m\u001b[1;34m'test_file.txt'\u001b[0m\u001b[1;33m,\u001b[0m \u001b[1;34m'x'\u001b[0m\u001b[1;33m)\u001b[0m\u001b[1;33m\u001b[0m\u001b[1;33m\u001b[0m\u001b[0m\n\u001b[0m\u001b[0;32m      2\u001b[0m \u001b[0mf\u001b[0m\u001b[1;33m.\u001b[0m\u001b[0mwrite\u001b[0m\u001b[1;33m(\u001b[0m\u001b[1;34m\"Hello, World!\"\u001b[0m\u001b[1;33m)\u001b[0m\u001b[1;33m\u001b[0m\u001b[1;33m\u001b[0m\u001b[0m\n\u001b[0;32m      3\u001b[0m \u001b[0mf\u001b[0m\u001b[1;33m.\u001b[0m\u001b[0mclose\u001b[0m\u001b[1;33m(\u001b[0m\u001b[1;33m)\u001b[0m\u001b[1;33m\u001b[0m\u001b[1;33m\u001b[0m\u001b[0m\n",
      "\u001b[1;31mFileExistsError\u001b[0m: [Errno 17] File exists: 'test_file.txt'"
     ]
    }
   ],
   "source": [
    "f = open('test_file.txt', 'x')\n",
    "f.write(\"Hello, World!\")\n",
    "f.close()"
   ]
  },
  {
   "cell_type": "code",
   "execution_count": 17,
   "metadata": {},
   "outputs": [],
   "source": [
    "f = open('test_file.txt', 'w')\n",
    "f.write(\"sample line1 \\n sample line2 \\n sample line3\")\n",
    "f.close()"
   ]
  },
  {
   "cell_type": "code",
   "execution_count": 18,
   "metadata": {},
   "outputs": [
    {
     "name": "stdout",
     "output_type": "stream",
     "text": [
      "sample line1 \n",
      " sample line2 \n",
      " sample line3\n"
     ]
    }
   ],
   "source": [
    "f = open('test_file.txt', 'r')\n",
    "print(f.read())\n",
    "f.close()"
   ]
  },
  {
   "cell_type": "code",
   "execution_count": 19,
   "metadata": {},
   "outputs": [
    {
     "name": "stdout",
     "output_type": "stream",
     "text": [
      "['sample line1 \\n', ' sample line2 \\n', ' sample line3']\n",
      "----------------------------------------------------------------------------------------------------\n",
      "sample line1 \n",
      "\n",
      " sample line2 \n",
      "\n",
      " sample line3\n"
     ]
    }
   ],
   "source": [
    "f = open('test_file.txt', 'r')\n",
    "ls = f.readlines()\n",
    "print(ls)\n",
    "print('-'*100)\n",
    "for line in ls:\n",
    "    print(line)\n",
    "f.close()"
   ]
  },
  {
   "cell_type": "code",
   "execution_count": 20,
   "metadata": {},
   "outputs": [
    {
     "name": "stdout",
     "output_type": "stream",
     "text": [
      "sample line1 \n",
      " sample line2 \n",
      " sample line3\n"
     ]
    }
   ],
   "source": [
    "f = open('test_file.txt', 'r')\n",
    "print(f.read())\n"
   ]
  },
  {
   "cell_type": "code",
   "execution_count": 21,
   "metadata": {},
   "outputs": [
    {
     "name": "stdout",
     "output_type": "stream",
     "text": [
      "\n"
     ]
    }
   ],
   "source": [
    "print(f.read())"
   ]
  },
  {
   "cell_type": "code",
   "execution_count": 22,
   "metadata": {},
   "outputs": [
    {
     "data": {
      "text/plain": [
       "0"
      ]
     },
     "execution_count": 22,
     "metadata": {},
     "output_type": "execute_result"
    }
   ],
   "source": [
    "f.seek(0)"
   ]
  },
  {
   "cell_type": "code",
   "execution_count": 23,
   "metadata": {},
   "outputs": [
    {
     "name": "stdout",
     "output_type": "stream",
     "text": [
      "sample line1 \n",
      " sample line2 \n",
      " sample line3\n"
     ]
    }
   ],
   "source": [
    "print(f.read())"
   ]
  },
  {
   "cell_type": "code",
   "execution_count": 24,
   "metadata": {},
   "outputs": [
    {
     "data": {
      "text/plain": [
       "5"
      ]
     },
     "execution_count": 24,
     "metadata": {},
     "output_type": "execute_result"
    }
   ],
   "source": [
    "f.seek(5)"
   ]
  },
  {
   "cell_type": "code",
   "execution_count": 25,
   "metadata": {},
   "outputs": [
    {
     "name": "stdout",
     "output_type": "stream",
     "text": [
      "e line1 \n",
      " sample line2 \n",
      " sample line3\n"
     ]
    }
   ],
   "source": [
    "print(f.read())"
   ]
  },
  {
   "cell_type": "code",
   "execution_count": 26,
   "metadata": {},
   "outputs": [
    {
     "data": {
      "text/plain": [
       "44"
      ]
     },
     "execution_count": 26,
     "metadata": {},
     "output_type": "execute_result"
    }
   ],
   "source": [
    "f.tell()"
   ]
  },
  {
   "cell_type": "code",
   "execution_count": 27,
   "metadata": {},
   "outputs": [
    {
     "data": {
      "text/plain": [
       "0"
      ]
     },
     "execution_count": 27,
     "metadata": {},
     "output_type": "execute_result"
    }
   ],
   "source": [
    "f.seek(0)"
   ]
  },
  {
   "cell_type": "code",
   "execution_count": 28,
   "metadata": {},
   "outputs": [
    {
     "data": {
      "text/plain": [
       "0"
      ]
     },
     "execution_count": 28,
     "metadata": {},
     "output_type": "execute_result"
    }
   ],
   "source": [
    "f.tell()"
   ]
  },
  {
   "cell_type": "code",
   "execution_count": 29,
   "metadata": {},
   "outputs": [
    {
     "name": "stdout",
     "output_type": "stream",
     "text": [
      "sample line1 \n",
      " sample line2 \n",
      " sample line3\n"
     ]
    }
   ],
   "source": [
    "with open('test_file.txt', 'r') as f:\n",
    "    print(f.read())"
   ]
  },
  {
   "cell_type": "code",
   "execution_count": 30,
   "metadata": {},
   "outputs": [
    {
     "name": "stdout",
     "output_type": "stream",
     "text": [
      "w\n"
     ]
    }
   ],
   "source": [
    "f = open('test_file.txt', 'w')\n",
    "print(f.mode)\n",
    "f.close()"
   ]
  },
  {
   "cell_type": "code",
   "execution_count": null,
   "metadata": {},
   "outputs": [],
   "source": []
  },
  {
   "cell_type": "code",
   "execution_count": 31,
   "metadata": {},
   "outputs": [],
   "source": [
    "f = open('test_file.csv', 'w')\n",
    "f.write(\"a,b,c,d,e,f\")\n",
    "f.close()"
   ]
  },
  {
   "cell_type": "code",
   "execution_count": 32,
   "metadata": {},
   "outputs": [],
   "source": [
    "import csv"
   ]
  },
  {
   "cell_type": "code",
   "execution_count": 33,
   "metadata": {},
   "outputs": [],
   "source": [
    "f = open('test_file.csv', 'r')\n",
    "dataFromCSV = csv.reader(f)"
   ]
  },
  {
   "cell_type": "code",
   "execution_count": 34,
   "metadata": {},
   "outputs": [
    {
     "name": "stdout",
     "output_type": "stream",
     "text": [
      "['a', 'b', 'c', 'd', 'e', 'f']\n"
     ]
    }
   ],
   "source": [
    "for row in dataFromCSV:\n",
    "    print(row)"
   ]
  },
  {
   "cell_type": "code",
   "execution_count": 35,
   "metadata": {},
   "outputs": [
    {
     "name": "stdout",
     "output_type": "stream",
     "text": [
      "a,b,c,d,e,f\n"
     ]
    }
   ],
   "source": [
    "import csv\n",
    "with open('test_file.csv') as csvfile:\n",
    "    spamreader = csv.reader(csvfile, delimiter=' ', quotechar='|')\n",
    "    for row in spamreader:\n",
    "        print(', '.join(row))"
   ]
  },
  {
   "cell_type": "code",
   "execution_count": null,
   "metadata": {},
   "outputs": [],
   "source": []
  },
  {
   "cell_type": "code",
   "execution_count": 36,
   "metadata": {},
   "outputs": [
    {
     "name": "stdout",
     "output_type": "stream",
     "text": [
      "35\n",
      "8\n",
      "test_command_line.py\n"
     ]
    }
   ],
   "source": [
    "!python test_command_line.py 3 5"
   ]
  },
  {
   "cell_type": "code",
   "execution_count": null,
   "metadata": {},
   "outputs": [],
   "source": []
  },
  {
   "cell_type": "code",
   "execution_count": 37,
   "metadata": {},
   "outputs": [],
   "source": [
    "ls = []\n",
    "for i in range(10):\n",
    "    ls.append(i)"
   ]
  },
  {
   "cell_type": "code",
   "execution_count": 38,
   "metadata": {},
   "outputs": [
    {
     "name": "stdout",
     "output_type": "stream",
     "text": [
      "[0, 1, 2, 3, 4, 5, 6, 7, 8, 9]\n"
     ]
    }
   ],
   "source": [
    "print(ls)"
   ]
  },
  {
   "cell_type": "code",
   "execution_count": 39,
   "metadata": {},
   "outputs": [
    {
     "data": {
      "text/plain": [
       "[0, 2, 4, 6, 8]"
      ]
     },
     "execution_count": 39,
     "metadata": {},
     "output_type": "execute_result"
    }
   ],
   "source": [
    "ls[0:10:2]"
   ]
  },
  {
   "cell_type": "code",
   "execution_count": null,
   "metadata": {},
   "outputs": [],
   "source": []
  },
  {
   "cell_type": "code",
   "execution_count": null,
   "metadata": {},
   "outputs": [],
   "source": []
  },
  {
   "cell_type": "code",
   "execution_count": 40,
   "metadata": {},
   "outputs": [
    {
     "data": {
      "text/plain": [
       "[5, 6, 7, 8, 9]"
      ]
     },
     "execution_count": 40,
     "metadata": {},
     "output_type": "execute_result"
    }
   ],
   "source": [
    "ls[5:]"
   ]
  },
  {
   "cell_type": "code",
   "execution_count": 41,
   "metadata": {},
   "outputs": [],
   "source": [
    "from math import sqrt as squareRoot"
   ]
  },
  {
   "cell_type": "code",
   "execution_count": null,
   "metadata": {},
   "outputs": [],
   "source": []
  },
  {
   "cell_type": "code",
   "execution_count": 42,
   "metadata": {},
   "outputs": [],
   "source": [
    "import os\n",
    "def get_first_line(filename, mode):\n",
    "    if os.path.isfile(filename):\n",
    "        with open(filename, mode) as file:\n",
    "            return file.readlines()\n",
    "    else:\n",
    "        return None"
   ]
  },
  {
   "cell_type": "code",
   "execution_count": 43,
   "metadata": {},
   "outputs": [
    {
     "data": {
      "text/plain": [
       "[]"
      ]
     },
     "execution_count": 43,
     "metadata": {},
     "output_type": "execute_result"
    }
   ],
   "source": [
    "get_first_line('test_file.txt', 'r')"
   ]
  },
  {
   "cell_type": "code",
   "execution_count": 44,
   "metadata": {},
   "outputs": [
    {
     "name": "stdout",
     "output_type": "stream",
     "text": [
      "25\n",
      "50\n"
     ]
    }
   ],
   "source": [
    "x = 50\n",
    "def fun1():\n",
    "    x = 25\n",
    "    print(x)\n",
    "    \n",
    "fun1()\n",
    "print(x)"
   ]
  },
  {
   "cell_type": "code",
   "execution_count": 45,
   "metadata": {},
   "outputs": [
    {
     "ename": "UnboundLocalError",
     "evalue": "local variable 'x' referenced before assignment",
     "output_type": "error",
     "traceback": [
      "\u001b[1;31m---------------------------------------------------------------------------\u001b[0m",
      "\u001b[1;31mUnboundLocalError\u001b[0m                         Traceback (most recent call last)",
      "\u001b[1;32m<ipython-input-45-ca1ff5502493>\u001b[0m in \u001b[0;36m<module>\u001b[1;34m\u001b[0m\n\u001b[0;32m      4\u001b[0m     \u001b[0mprint\u001b[0m\u001b[1;33m(\u001b[0m\u001b[0mx\u001b[0m\u001b[1;33m)\u001b[0m\u001b[1;33m\u001b[0m\u001b[1;33m\u001b[0m\u001b[0m\n\u001b[0;32m      5\u001b[0m \u001b[1;33m\u001b[0m\u001b[0m\n\u001b[1;32m----> 6\u001b[1;33m \u001b[0mmyfunc\u001b[0m\u001b[1;33m(\u001b[0m\u001b[1;33m)\u001b[0m\u001b[1;33m\u001b[0m\u001b[1;33m\u001b[0m\u001b[0m\n\u001b[0m\u001b[0;32m      7\u001b[0m \u001b[0mprint\u001b[0m\u001b[1;33m(\u001b[0m\u001b[0mx\u001b[0m\u001b[1;33m)\u001b[0m\u001b[1;33m\u001b[0m\u001b[1;33m\u001b[0m\u001b[0m\n",
      "\u001b[1;32m<ipython-input-45-ca1ff5502493>\u001b[0m in \u001b[0;36mmyfunc\u001b[1;34m()\u001b[0m\n\u001b[0;32m      1\u001b[0m \u001b[0mx\u001b[0m \u001b[1;33m=\u001b[0m \u001b[1;36m75\u001b[0m\u001b[1;33m\u001b[0m\u001b[1;33m\u001b[0m\u001b[0m\n\u001b[0;32m      2\u001b[0m \u001b[1;32mdef\u001b[0m \u001b[0mmyfunc\u001b[0m\u001b[1;33m(\u001b[0m\u001b[1;33m)\u001b[0m\u001b[1;33m:\u001b[0m\u001b[1;33m\u001b[0m\u001b[1;33m\u001b[0m\u001b[0m\n\u001b[1;32m----> 3\u001b[1;33m     \u001b[0mx\u001b[0m \u001b[1;33m=\u001b[0m \u001b[0mx\u001b[0m \u001b[1;33m+\u001b[0m \u001b[1;36m1\u001b[0m\u001b[1;33m\u001b[0m\u001b[1;33m\u001b[0m\u001b[0m\n\u001b[0m\u001b[0;32m      4\u001b[0m     \u001b[0mprint\u001b[0m\u001b[1;33m(\u001b[0m\u001b[0mx\u001b[0m\u001b[1;33m)\u001b[0m\u001b[1;33m\u001b[0m\u001b[1;33m\u001b[0m\u001b[0m\n\u001b[0;32m      5\u001b[0m \u001b[1;33m\u001b[0m\u001b[0m\n",
      "\u001b[1;31mUnboundLocalError\u001b[0m: local variable 'x' referenced before assignment"
     ]
    }
   ],
   "source": [
    "x = 75\n",
    "def myfunc():\n",
    "    x = x + 1\n",
    "    print(x)\n",
    "\n",
    "myfunc()\n",
    "print(x)"
   ]
  },
  {
   "cell_type": "code",
   "execution_count": null,
   "metadata": {},
   "outputs": [],
   "source": []
  },
  {
   "cell_type": "code",
   "execution_count": 46,
   "metadata": {},
   "outputs": [
    {
     "name": "stdout",
     "output_type": "stream",
     "text": [
      "['Apple', 'Banana', 'Mango']\n"
     ]
    }
   ],
   "source": [
    "ls = ['Apple','Banana', 'Mango']\n",
    "print(ls)"
   ]
  },
  {
   "cell_type": "code",
   "execution_count": 47,
   "metadata": {},
   "outputs": [
    {
     "name": "stdout",
     "output_type": "stream",
     "text": [
      "Apple\n",
      "Banana\n",
      "Mango\n"
     ]
    }
   ],
   "source": [
    "for item in ls:\n",
    "    print(item)\n",
    "#     print(ls)"
   ]
  },
  {
   "cell_type": "code",
   "execution_count": 48,
   "metadata": {},
   "outputs": [
    {
     "name": "stdout",
     "output_type": "stream",
     "text": [
      "['Apple', 'Banana', 'Mango']\n",
      "['Apple', 'Banana', 'Apple']\n",
      "['Apple', 'Banana', 'Banana']\n",
      "['Apple', 'Banana', 'Banana']\n"
     ]
    }
   ],
   "source": [
    "print(ls)\n",
    "for ls[2] in ls:\n",
    "    print(ls)"
   ]
  },
  {
   "cell_type": "code",
   "execution_count": 49,
   "metadata": {},
   "outputs": [
    {
     "name": "stdout",
     "output_type": "stream",
     "text": [
      "0\n",
      "5\n"
     ]
    }
   ],
   "source": [
    "for i in range(0,10,5):\n",
    "    print(i)"
   ]
  },
  {
   "cell_type": "code",
   "execution_count": 50,
   "metadata": {},
   "outputs": [],
   "source": [
    "\n",
    "def get_rating(age):\n",
    "    rating = \"\"\n",
    "    if age == None:\n",
    "        rating = 'C'\n",
    "    elif age < 13:\n",
    "        rating = 'C'\n",
    "    elif age < 18:\n",
    "        rating = 'T'\n",
    "    else:\n",
    "        rating = 'A'\n",
    "    return rating"
   ]
  },
  {
   "cell_type": "code",
   "execution_count": 51,
   "metadata": {},
   "outputs": [
    {
     "data": {
      "text/plain": [
       "'T'"
      ]
     },
     "execution_count": 51,
     "metadata": {},
     "output_type": "execute_result"
    }
   ],
   "source": [
    "get_rating(13)"
   ]
  },
  {
   "cell_type": "code",
   "execution_count": 52,
   "metadata": {},
   "outputs": [
    {
     "ename": "SyntaxError",
     "evalue": "invalid syntax (<ipython-input-52-e677cfcae335>, line 3)",
     "output_type": "error",
     "traceback": [
      "\u001b[1;36m  File \u001b[1;32m\"<ipython-input-52-e677cfcae335>\"\u001b[1;36m, line \u001b[1;32m3\u001b[0m\n\u001b[1;33m    get_rating(i+=15)\u001b[0m\n\u001b[1;37m                 ^\u001b[0m\n\u001b[1;31mSyntaxError\u001b[0m\u001b[1;31m:\u001b[0m invalid syntax\n"
     ]
    }
   ],
   "source": [
    "i = 15\n",
    "i+=15\n",
    "get_rating(i+=15)"
   ]
  },
  {
   "cell_type": "code",
   "execution_count": 53,
   "metadata": {
    "scrolled": true
   },
   "outputs": [
    {
     "name": "stdout",
     "output_type": "stream",
     "text": [
      "\n",
      "Here is a list of the Python keywords.  Enter any keyword to get more help.\n",
      "\n",
      "False               class               from                or\n",
      "None                continue            global              pass\n",
      "True                def                 if                  raise\n",
      "and                 del                 import              return\n",
      "as                  elif                in                  try\n",
      "assert              else                is                  while\n",
      "async               except              lambda              with\n",
      "await               finally             nonlocal            yield\n",
      "break               for                 not                 \n",
      "\n"
     ]
    }
   ],
   "source": [
    "help(\"keywords\")"
   ]
  },
  {
   "cell_type": "code",
   "execution_count": 54,
   "metadata": {},
   "outputs": [
    {
     "name": "stdout",
     "output_type": "stream",
     "text": [
      "0\n"
     ]
    }
   ],
   "source": [
    "print(2%2)"
   ]
  },
  {
   "cell_type": "code",
   "execution_count": 55,
   "metadata": {},
   "outputs": [
    {
     "name": "stdout",
     "output_type": "stream",
     "text": [
      "2\n",
      "print:  2\n",
      "3\n",
      "2 3\n",
      "print:  3\n",
      "4\n",
      "2 4\n",
      "5\n",
      "2 5\n",
      "3 5\n",
      "4 5\n",
      "print:  5\n",
      "6\n",
      "2 6\n",
      "7\n",
      "2 7\n",
      "3 7\n",
      "4 7\n",
      "5 7\n",
      "6 7\n",
      "print:  7\n",
      "8\n",
      "2 8\n",
      "9\n",
      "2 9\n",
      "3 9\n",
      "10\n",
      "2 10\n",
      "11\n",
      "2 11\n",
      "3 11\n",
      "4 11\n",
      "5 11\n",
      "6 11\n",
      "7 11\n",
      "8 11\n",
      "9 11\n",
      "10 11\n",
      "print:  11\n",
      "12\n",
      "2 12\n",
      "13\n",
      "2 13\n",
      "3 13\n",
      "4 13\n",
      "5 13\n",
      "6 13\n",
      "7 13\n",
      "8 13\n",
      "9 13\n",
      "10 13\n",
      "11 13\n",
      "12 13\n",
      "print:  13\n",
      "14\n",
      "2 14\n",
      "15\n",
      "2 15\n",
      "3 15\n",
      "16\n",
      "2 16\n",
      "17\n",
      "2 17\n",
      "3 17\n",
      "4 17\n",
      "5 17\n",
      "6 17\n",
      "7 17\n",
      "8 17\n",
      "9 17\n",
      "10 17\n",
      "11 17\n",
      "12 17\n",
      "13 17\n",
      "14 17\n",
      "15 17\n",
      "16 17\n",
      "print:  17\n",
      "18\n",
      "2 18\n",
      "19\n",
      "2 19\n",
      "3 19\n",
      "4 19\n",
      "5 19\n",
      "6 19\n",
      "7 19\n",
      "8 19\n",
      "9 19\n",
      "10 19\n",
      "11 19\n",
      "12 19\n",
      "13 19\n",
      "14 19\n",
      "15 19\n",
      "16 19\n",
      "17 19\n",
      "18 19\n",
      "print:  19\n",
      "20\n",
      "2 20\n",
      "21\n",
      "2 21\n",
      "3 21\n",
      "22\n",
      "2 22\n",
      "23\n",
      "2 23\n",
      "3 23\n",
      "4 23\n",
      "5 23\n",
      "6 23\n",
      "7 23\n",
      "8 23\n",
      "9 23\n",
      "10 23\n",
      "11 23\n",
      "12 23\n",
      "13 23\n",
      "14 23\n",
      "15 23\n",
      "16 23\n",
      "17 23\n",
      "18 23\n",
      "19 23\n",
      "20 23\n",
      "21 23\n",
      "22 23\n",
      "print:  23\n",
      "24\n",
      "2 24\n",
      "25\n",
      "2 25\n",
      "3 25\n",
      "4 25\n",
      "5 25\n",
      "26\n",
      "2 26\n",
      "27\n",
      "2 27\n",
      "3 27\n",
      "28\n",
      "2 28\n",
      "29\n",
      "2 29\n",
      "3 29\n",
      "4 29\n",
      "5 29\n",
      "6 29\n",
      "7 29\n",
      "8 29\n",
      "9 29\n",
      "10 29\n",
      "11 29\n",
      "12 29\n",
      "13 29\n",
      "14 29\n",
      "15 29\n",
      "16 29\n",
      "17 29\n",
      "18 29\n",
      "19 29\n",
      "20 29\n",
      "21 29\n",
      "22 29\n",
      "23 29\n",
      "24 29\n",
      "25 29\n",
      "26 29\n",
      "27 29\n",
      "28 29\n",
      "print:  29\n",
      "30\n",
      "2 30\n",
      "31\n",
      "2 31\n",
      "3 31\n",
      "4 31\n",
      "5 31\n",
      "6 31\n",
      "7 31\n",
      "8 31\n",
      "9 31\n",
      "10 31\n",
      "11 31\n",
      "12 31\n",
      "13 31\n",
      "14 31\n",
      "15 31\n",
      "16 31\n",
      "17 31\n",
      "18 31\n",
      "19 31\n",
      "20 31\n",
      "21 31\n",
      "22 31\n",
      "23 31\n",
      "24 31\n",
      "25 31\n",
      "26 31\n",
      "27 31\n",
      "28 31\n",
      "29 31\n",
      "30 31\n",
      "print:  31\n",
      "32\n",
      "2 32\n",
      "33\n",
      "2 33\n",
      "3 33\n",
      "34\n",
      "2 34\n",
      "35\n",
      "2 35\n",
      "3 35\n",
      "4 35\n",
      "5 35\n",
      "36\n",
      "2 36\n",
      "37\n",
      "2 37\n",
      "3 37\n",
      "4 37\n",
      "5 37\n",
      "6 37\n",
      "7 37\n",
      "8 37\n",
      "9 37\n",
      "10 37\n",
      "11 37\n",
      "12 37\n",
      "13 37\n",
      "14 37\n",
      "15 37\n",
      "16 37\n",
      "17 37\n",
      "18 37\n",
      "19 37\n",
      "20 37\n",
      "21 37\n",
      "22 37\n",
      "23 37\n",
      "24 37\n",
      "25 37\n",
      "26 37\n",
      "27 37\n",
      "28 37\n",
      "29 37\n",
      "30 37\n",
      "31 37\n",
      "32 37\n",
      "33 37\n",
      "34 37\n",
      "35 37\n",
      "36 37\n",
      "print:  37\n",
      "38\n",
      "2 38\n",
      "39\n",
      "2 39\n",
      "3 39\n",
      "40\n",
      "2 40\n",
      "41\n",
      "2 41\n",
      "3 41\n",
      "4 41\n",
      "5 41\n",
      "6 41\n",
      "7 41\n",
      "8 41\n",
      "9 41\n",
      "10 41\n",
      "11 41\n",
      "12 41\n",
      "13 41\n",
      "14 41\n",
      "15 41\n",
      "16 41\n",
      "17 41\n",
      "18 41\n",
      "19 41\n",
      "20 41\n",
      "21 41\n",
      "22 41\n",
      "23 41\n",
      "24 41\n",
      "25 41\n",
      "26 41\n",
      "27 41\n",
      "28 41\n",
      "29 41\n",
      "30 41\n",
      "31 41\n",
      "32 41\n",
      "33 41\n",
      "34 41\n",
      "35 41\n",
      "36 41\n",
      "37 41\n",
      "38 41\n",
      "39 41\n",
      "40 41\n",
      "print:  41\n",
      "42\n",
      "2 42\n",
      "43\n",
      "2 43\n",
      "3 43\n",
      "4 43\n",
      "5 43\n",
      "6 43\n",
      "7 43\n",
      "8 43\n",
      "9 43\n",
      "10 43\n",
      "11 43\n",
      "12 43\n",
      "13 43\n",
      "14 43\n",
      "15 43\n",
      "16 43\n",
      "17 43\n",
      "18 43\n",
      "19 43\n",
      "20 43\n",
      "21 43\n",
      "22 43\n",
      "23 43\n",
      "24 43\n",
      "25 43\n",
      "26 43\n",
      "27 43\n",
      "28 43\n",
      "29 43\n",
      "30 43\n",
      "31 43\n",
      "32 43\n",
      "33 43\n",
      "34 43\n",
      "35 43\n",
      "36 43\n",
      "37 43\n",
      "38 43\n",
      "39 43\n",
      "40 43\n",
      "41 43\n",
      "42 43\n",
      "print:  43\n",
      "44\n",
      "2 44\n",
      "45\n",
      "2 45\n",
      "3 45\n",
      "46\n",
      "2 46\n",
      "47\n",
      "2 47\n",
      "3 47\n",
      "4 47\n",
      "5 47\n",
      "6 47\n",
      "7 47\n",
      "8 47\n",
      "9 47\n",
      "10 47\n",
      "11 47\n",
      "12 47\n",
      "13 47\n",
      "14 47\n",
      "15 47\n",
      "16 47\n",
      "17 47\n",
      "18 47\n",
      "19 47\n",
      "20 47\n",
      "21 47\n",
      "22 47\n",
      "23 47\n",
      "24 47\n",
      "25 47\n",
      "26 47\n",
      "27 47\n",
      "28 47\n",
      "29 47\n",
      "30 47\n",
      "31 47\n",
      "32 47\n",
      "33 47\n",
      "34 47\n",
      "35 47\n",
      "36 47\n",
      "37 47\n",
      "38 47\n",
      "39 47\n",
      "40 47\n",
      "41 47\n",
      "42 47\n",
      "43 47\n",
      "44 47\n",
      "45 47\n",
      "46 47\n",
      "print:  47\n",
      "48\n",
      "2 48\n",
      "49\n",
      "2 49\n",
      "3 49\n",
      "4 49\n",
      "5 49\n",
      "6 49\n",
      "7 49\n",
      "50\n",
      "2 50\n",
      "51\n",
      "2 51\n",
      "3 51\n",
      "52\n",
      "2 52\n",
      "53\n",
      "2 53\n",
      "3 53\n",
      "4 53\n",
      "5 53\n",
      "6 53\n",
      "7 53\n",
      "8 53\n",
      "9 53\n",
      "10 53\n",
      "11 53\n",
      "12 53\n",
      "13 53\n",
      "14 53\n",
      "15 53\n",
      "16 53\n",
      "17 53\n",
      "18 53\n",
      "19 53\n",
      "20 53\n",
      "21 53\n",
      "22 53\n",
      "23 53\n",
      "24 53\n",
      "25 53\n",
      "26 53\n",
      "27 53\n",
      "28 53\n",
      "29 53\n",
      "30 53\n",
      "31 53\n",
      "32 53\n",
      "33 53\n",
      "34 53\n",
      "35 53\n",
      "36 53\n",
      "37 53\n",
      "38 53\n",
      "39 53\n",
      "40 53\n",
      "41 53\n",
      "42 53\n",
      "43 53\n",
      "44 53\n",
      "45 53\n",
      "46 53\n",
      "47 53\n",
      "48 53\n",
      "49 53\n",
      "50 53\n",
      "51 53\n",
      "52 53\n",
      "print:  53\n",
      "54\n",
      "2 54\n",
      "55\n",
      "2 55\n",
      "3 55\n",
      "4 55\n",
      "5 55\n",
      "56\n",
      "2 56\n",
      "57\n",
      "2 57\n",
      "3 57\n",
      "58\n",
      "2 58\n",
      "59\n",
      "2 59\n",
      "3 59\n",
      "4 59\n",
      "5 59\n",
      "6 59\n",
      "7 59\n",
      "8 59\n",
      "9 59\n",
      "10 59\n",
      "11 59\n",
      "12 59\n",
      "13 59\n",
      "14 59\n",
      "15 59\n",
      "16 59\n",
      "17 59\n",
      "18 59\n",
      "19 59\n",
      "20 59\n",
      "21 59\n",
      "22 59\n",
      "23 59\n",
      "24 59\n",
      "25 59\n",
      "26 59\n",
      "27 59\n",
      "28 59\n",
      "29 59\n",
      "30 59\n",
      "31 59\n",
      "32 59\n",
      "33 59\n",
      "34 59\n",
      "35 59\n",
      "36 59\n",
      "37 59\n",
      "38 59\n",
      "39 59\n",
      "40 59\n",
      "41 59\n",
      "42 59\n",
      "43 59\n",
      "44 59\n",
      "45 59\n",
      "46 59\n",
      "47 59\n",
      "48 59\n",
      "49 59\n",
      "50 59\n",
      "51 59\n",
      "52 59\n",
      "53 59\n",
      "54 59\n",
      "55 59\n",
      "56 59\n",
      "57 59\n",
      "58 59\n",
      "print:  59\n",
      "60\n",
      "2 60\n",
      "61\n",
      "2 61\n",
      "3 61\n",
      "4 61\n",
      "5 61\n",
      "6 61\n",
      "7 61\n",
      "8 61\n",
      "9 61\n",
      "10 61\n",
      "11 61\n",
      "12 61\n",
      "13 61\n",
      "14 61\n",
      "15 61\n",
      "16 61\n",
      "17 61\n",
      "18 61\n",
      "19 61\n",
      "20 61\n",
      "21 61\n",
      "22 61\n",
      "23 61\n",
      "24 61\n",
      "25 61\n",
      "26 61\n",
      "27 61\n",
      "28 61\n",
      "29 61\n",
      "30 61\n",
      "31 61\n",
      "32 61\n",
      "33 61\n",
      "34 61\n",
      "35 61\n",
      "36 61\n",
      "37 61\n",
      "38 61\n",
      "39 61\n",
      "40 61\n",
      "41 61\n",
      "42 61\n",
      "43 61\n",
      "44 61\n",
      "45 61\n",
      "46 61\n",
      "47 61\n",
      "48 61\n",
      "49 61\n",
      "50 61\n",
      "51 61\n",
      "52 61\n",
      "53 61\n",
      "54 61\n",
      "55 61\n",
      "56 61\n",
      "57 61\n",
      "58 61\n",
      "59 61\n",
      "60 61\n",
      "print:  61\n",
      "62\n",
      "2 62\n",
      "63\n",
      "2 63\n",
      "3 63\n",
      "64\n",
      "2 64\n",
      "65\n",
      "2 65\n",
      "3 65\n",
      "4 65\n",
      "5 65\n",
      "66\n",
      "2 66\n",
      "67\n",
      "2 67\n",
      "3 67\n",
      "4 67\n",
      "5 67\n",
      "6 67\n",
      "7 67\n",
      "8 67\n",
      "9 67\n",
      "10 67\n",
      "11 67\n",
      "12 67\n",
      "13 67\n",
      "14 67\n",
      "15 67\n",
      "16 67\n",
      "17 67\n",
      "18 67\n",
      "19 67\n",
      "20 67\n",
      "21 67\n",
      "22 67\n",
      "23 67\n",
      "24 67\n",
      "25 67\n",
      "26 67\n",
      "27 67\n",
      "28 67\n",
      "29 67\n",
      "30 67\n",
      "31 67\n",
      "32 67\n",
      "33 67\n",
      "34 67\n",
      "35 67\n",
      "36 67\n",
      "37 67\n",
      "38 67\n",
      "39 67\n",
      "40 67\n",
      "41 67\n",
      "42 67\n",
      "43 67\n",
      "44 67\n",
      "45 67\n",
      "46 67\n",
      "47 67\n",
      "48 67\n",
      "49 67\n",
      "50 67\n",
      "51 67\n",
      "52 67\n",
      "53 67\n",
      "54 67\n",
      "55 67\n",
      "56 67\n",
      "57 67\n",
      "58 67\n",
      "59 67\n",
      "60 67\n",
      "61 67\n",
      "62 67\n",
      "63 67\n",
      "64 67\n",
      "65 67\n",
      "66 67\n",
      "print:  67\n",
      "68\n",
      "2 68\n",
      "69\n",
      "2 69\n",
      "3 69\n",
      "70\n",
      "2 70\n",
      "71\n",
      "2 71\n",
      "3 71\n",
      "4 71\n",
      "5 71\n",
      "6 71\n",
      "7 71\n",
      "8 71\n",
      "9 71\n",
      "10 71\n",
      "11 71\n",
      "12 71\n",
      "13 71\n",
      "14 71\n",
      "15 71\n",
      "16 71\n",
      "17 71\n",
      "18 71\n",
      "19 71\n",
      "20 71\n",
      "21 71\n",
      "22 71\n",
      "23 71\n",
      "24 71\n",
      "25 71\n",
      "26 71\n",
      "27 71\n",
      "28 71\n",
      "29 71\n",
      "30 71\n",
      "31 71\n",
      "32 71\n",
      "33 71\n",
      "34 71\n",
      "35 71\n",
      "36 71\n",
      "37 71\n",
      "38 71\n",
      "39 71\n",
      "40 71\n",
      "41 71\n",
      "42 71\n",
      "43 71\n",
      "44 71\n",
      "45 71\n",
      "46 71\n",
      "47 71\n",
      "48 71\n",
      "49 71\n",
      "50 71\n",
      "51 71\n",
      "52 71\n",
      "53 71\n",
      "54 71\n",
      "55 71\n",
      "56 71\n",
      "57 71\n",
      "58 71\n",
      "59 71\n",
      "60 71\n",
      "61 71\n",
      "62 71\n",
      "63 71\n",
      "64 71\n",
      "65 71\n",
      "66 71\n",
      "67 71\n",
      "68 71\n",
      "69 71\n",
      "70 71\n",
      "print:  71\n",
      "72\n",
      "2 72\n",
      "73\n",
      "2 73\n",
      "3 73\n",
      "4 73\n",
      "5 73\n",
      "6 73\n",
      "7 73\n",
      "8 73\n",
      "9 73\n",
      "10 73\n",
      "11 73\n",
      "12 73\n",
      "13 73\n",
      "14 73\n",
      "15 73\n",
      "16 73\n",
      "17 73\n",
      "18 73\n",
      "19 73\n",
      "20 73\n",
      "21 73\n",
      "22 73\n",
      "23 73\n",
      "24 73\n",
      "25 73\n",
      "26 73\n",
      "27 73\n",
      "28 73\n",
      "29 73\n",
      "30 73\n",
      "31 73\n",
      "32 73\n",
      "33 73\n",
      "34 73\n",
      "35 73\n",
      "36 73\n",
      "37 73\n",
      "38 73\n",
      "39 73\n",
      "40 73\n",
      "41 73\n",
      "42 73\n",
      "43 73\n",
      "44 73\n",
      "45 73\n",
      "46 73\n",
      "47 73\n",
      "48 73\n",
      "49 73\n",
      "50 73\n",
      "51 73\n",
      "52 73\n",
      "53 73\n",
      "54 73\n",
      "55 73\n",
      "56 73\n",
      "57 73\n",
      "58 73\n",
      "59 73\n",
      "60 73\n",
      "61 73\n",
      "62 73\n",
      "63 73\n",
      "64 73\n",
      "65 73\n",
      "66 73\n",
      "67 73\n",
      "68 73\n",
      "69 73\n",
      "70 73\n",
      "71 73\n",
      "72 73\n",
      "print:  73\n",
      "74\n",
      "2 74\n",
      "75\n",
      "2 75\n",
      "3 75\n",
      "76\n",
      "2 76\n",
      "77\n",
      "2 77\n",
      "3 77\n",
      "4 77\n",
      "5 77\n",
      "6 77\n",
      "7 77\n",
      "78\n",
      "2 78\n",
      "79\n",
      "2 79\n",
      "3 79\n",
      "4 79\n",
      "5 79\n",
      "6 79\n",
      "7 79\n",
      "8 79\n",
      "9 79\n",
      "10 79\n",
      "11 79\n",
      "12 79\n",
      "13 79\n",
      "14 79\n",
      "15 79\n",
      "16 79\n",
      "17 79\n",
      "18 79\n",
      "19 79\n",
      "20 79\n",
      "21 79\n",
      "22 79\n",
      "23 79\n",
      "24 79\n",
      "25 79\n",
      "26 79\n",
      "27 79\n",
      "28 79\n",
      "29 79\n",
      "30 79\n",
      "31 79\n",
      "32 79\n",
      "33 79\n",
      "34 79\n",
      "35 79\n",
      "36 79\n",
      "37 79\n",
      "38 79\n",
      "39 79\n",
      "40 79\n",
      "41 79\n",
      "42 79\n",
      "43 79\n",
      "44 79\n",
      "45 79\n",
      "46 79\n",
      "47 79\n",
      "48 79\n",
      "49 79\n",
      "50 79\n",
      "51 79\n",
      "52 79\n",
      "53 79\n",
      "54 79\n",
      "55 79\n",
      "56 79\n",
      "57 79\n",
      "58 79\n",
      "59 79\n",
      "60 79\n",
      "61 79\n",
      "62 79\n",
      "63 79\n",
      "64 79\n",
      "65 79\n",
      "66 79\n",
      "67 79\n",
      "68 79\n",
      "69 79\n",
      "70 79\n",
      "71 79\n",
      "72 79\n",
      "73 79\n",
      "74 79\n",
      "75 79\n",
      "76 79\n",
      "77 79\n",
      "78 79\n",
      "print:  79\n",
      "80\n",
      "2 80\n",
      "81\n",
      "2 81\n",
      "3 81\n",
      "82\n",
      "2 82\n",
      "83\n",
      "2 83\n",
      "3 83\n",
      "4 83\n",
      "5 83\n",
      "6 83\n",
      "7 83\n",
      "8 83\n",
      "9 83\n",
      "10 83\n",
      "11 83\n",
      "12 83\n",
      "13 83\n",
      "14 83\n",
      "15 83\n",
      "16 83\n",
      "17 83\n",
      "18 83\n",
      "19 83\n",
      "20 83\n",
      "21 83\n",
      "22 83\n",
      "23 83\n",
      "24 83\n",
      "25 83\n",
      "26 83\n",
      "27 83\n",
      "28 83\n",
      "29 83\n",
      "30 83\n",
      "31 83\n",
      "32 83\n",
      "33 83\n",
      "34 83\n",
      "35 83\n",
      "36 83\n",
      "37 83\n",
      "38 83\n",
      "39 83\n",
      "40 83\n",
      "41 83\n",
      "42 83\n",
      "43 83\n",
      "44 83\n",
      "45 83\n",
      "46 83\n",
      "47 83\n",
      "48 83\n",
      "49 83\n",
      "50 83\n",
      "51 83\n",
      "52 83\n",
      "53 83\n",
      "54 83\n",
      "55 83\n",
      "56 83\n",
      "57 83\n",
      "58 83\n",
      "59 83\n",
      "60 83\n",
      "61 83\n",
      "62 83\n",
      "63 83\n",
      "64 83\n",
      "65 83\n",
      "66 83\n",
      "67 83\n",
      "68 83\n",
      "69 83\n",
      "70 83\n",
      "71 83\n",
      "72 83\n",
      "73 83\n",
      "74 83\n",
      "75 83\n",
      "76 83\n",
      "77 83\n",
      "78 83\n",
      "79 83\n",
      "80 83\n",
      "81 83\n",
      "82 83\n",
      "print:  83\n",
      "84\n",
      "2 84\n",
      "85\n",
      "2 85\n",
      "3 85\n",
      "4 85\n",
      "5 85\n",
      "86\n",
      "2 86\n",
      "87\n",
      "2 87\n",
      "3 87\n",
      "88\n",
      "2 88\n",
      "89\n",
      "2 89\n",
      "3 89\n",
      "4 89\n",
      "5 89\n",
      "6 89\n",
      "7 89\n",
      "8 89\n",
      "9 89\n",
      "10 89\n",
      "11 89\n",
      "12 89\n",
      "13 89\n",
      "14 89\n",
      "15 89\n",
      "16 89\n",
      "17 89\n",
      "18 89\n",
      "19 89\n",
      "20 89\n",
      "21 89\n",
      "22 89\n",
      "23 89\n",
      "24 89\n",
      "25 89\n",
      "26 89\n",
      "27 89\n",
      "28 89\n",
      "29 89\n",
      "30 89\n",
      "31 89\n",
      "32 89\n",
      "33 89\n",
      "34 89\n",
      "35 89\n",
      "36 89\n",
      "37 89\n",
      "38 89\n",
      "39 89\n",
      "40 89\n",
      "41 89\n",
      "42 89\n",
      "43 89\n",
      "44 89\n",
      "45 89\n",
      "46 89\n",
      "47 89\n",
      "48 89\n",
      "49 89\n",
      "50 89\n",
      "51 89\n",
      "52 89\n",
      "53 89\n",
      "54 89\n",
      "55 89\n",
      "56 89\n",
      "57 89\n",
      "58 89\n",
      "59 89\n",
      "60 89\n",
      "61 89\n",
      "62 89\n",
      "63 89\n",
      "64 89\n",
      "65 89\n",
      "66 89\n",
      "67 89\n",
      "68 89\n",
      "69 89\n",
      "70 89\n",
      "71 89\n",
      "72 89\n",
      "73 89\n",
      "74 89\n",
      "75 89\n",
      "76 89\n",
      "77 89\n",
      "78 89\n",
      "79 89\n",
      "80 89\n",
      "81 89\n",
      "82 89\n",
      "83 89\n",
      "84 89\n",
      "85 89\n",
      "86 89\n",
      "87 89\n",
      "88 89\n",
      "print:  89\n",
      "90\n",
      "2 90\n",
      "91\n",
      "2 91\n",
      "3 91\n",
      "4 91\n",
      "5 91\n",
      "6 91\n",
      "7 91\n",
      "92\n",
      "2 92\n",
      "93\n",
      "2 93\n",
      "3 93\n",
      "94\n",
      "2 94\n",
      "95\n",
      "2 95\n",
      "3 95\n",
      "4 95\n",
      "5 95\n",
      "96\n",
      "2 96\n",
      "97\n",
      "2 97\n",
      "3 97\n",
      "4 97\n",
      "5 97\n",
      "6 97\n",
      "7 97\n",
      "8 97\n",
      "9 97\n",
      "10 97\n",
      "11 97\n",
      "12 97\n",
      "13 97\n",
      "14 97\n",
      "15 97\n",
      "16 97\n",
      "17 97\n",
      "18 97\n",
      "19 97\n",
      "20 97\n",
      "21 97\n",
      "22 97\n",
      "23 97\n",
      "24 97\n",
      "25 97\n",
      "26 97\n",
      "27 97\n",
      "28 97\n",
      "29 97\n",
      "30 97\n",
      "31 97\n",
      "32 97\n",
      "33 97\n",
      "34 97\n",
      "35 97\n",
      "36 97\n",
      "37 97\n",
      "38 97\n",
      "39 97\n",
      "40 97\n",
      "41 97\n",
      "42 97\n",
      "43 97\n",
      "44 97\n",
      "45 97\n",
      "46 97\n",
      "47 97\n",
      "48 97\n",
      "49 97\n",
      "50 97\n",
      "51 97\n",
      "52 97\n",
      "53 97\n",
      "54 97\n",
      "55 97\n",
      "56 97\n",
      "57 97\n",
      "58 97\n",
      "59 97\n",
      "60 97\n",
      "61 97\n",
      "62 97\n",
      "63 97\n",
      "64 97\n",
      "65 97\n",
      "66 97\n",
      "67 97\n",
      "68 97\n",
      "69 97\n",
      "70 97\n",
      "71 97\n",
      "72 97\n",
      "73 97\n",
      "74 97\n",
      "75 97\n",
      "76 97\n",
      "77 97\n",
      "78 97\n",
      "79 97\n",
      "80 97\n",
      "81 97\n",
      "82 97\n",
      "83 97\n",
      "84 97\n",
      "85 97\n",
      "86 97\n",
      "87 97\n",
      "88 97\n",
      "89 97\n",
      "90 97\n",
      "91 97\n",
      "92 97\n",
      "93 97\n",
      "94 97\n",
      "95 97\n",
      "96 97\n",
      "print:  97\n",
      "98\n",
      "2 98\n",
      "99\n",
      "2 99\n",
      "3 99\n",
      "100\n",
      "2 100\n"
     ]
    }
   ],
   "source": [
    "p = 2\n",
    "while p<=100:\n",
    "    is_prime = True\n",
    "    print(p)\n",
    "    for i in range(2, p):\n",
    "        print(i, p)\n",
    "        if p%i == 0:\n",
    "            is_prime = False\n",
    "            break\n",
    "    if is_prime == True:\n",
    "        print(\"print: \",p)\n",
    "    p += 1"
   ]
  },
  {
   "cell_type": "code",
   "execution_count": 56,
   "metadata": {},
   "outputs": [
    {
     "name": "stdout",
     "output_type": "stream",
     "text": [
      "2\n"
     ]
    }
   ],
   "source": [
    "for i in range(2,3, 1):\n",
    "    print(i)"
   ]
  },
  {
   "cell_type": "code",
   "execution_count": 57,
   "metadata": {},
   "outputs": [
    {
     "data": {
      "text/plain": [
       "[]"
      ]
     },
     "execution_count": 57,
     "metadata": {},
     "output_type": "execute_result"
    }
   ],
   "source": [
    "ls = ['a','b','c']\n",
    "ls[1:1]"
   ]
  },
  {
   "cell_type": "code",
   "execution_count": null,
   "metadata": {},
   "outputs": [],
   "source": []
  },
  {
   "cell_type": "code",
   "execution_count": null,
   "metadata": {},
   "outputs": [],
   "source": []
  },
  {
   "cell_type": "code",
   "execution_count": 58,
   "metadata": {},
   "outputs": [
    {
     "name": "stdout",
     "output_type": "stream",
     "text": [
      "3\n",
      "List:  0\n",
      "List:  1\n",
      "List:  2\n",
      "List:  2\n"
     ]
    }
   ],
   "source": [
    "ls = [0,1,2,3]\n",
    "print(ls[3])\n",
    "for ls[3] in ls:\n",
    "#     print(\"i: \", i)\n",
    "    print(\"List: \", ls[3])"
   ]
  },
  {
   "cell_type": "code",
   "execution_count": 59,
   "metadata": {},
   "outputs": [
    {
     "name": "stdout",
     "output_type": "stream",
     "text": [
      "Please enter your name: ALEX\n",
      "UPPER\n"
     ]
    }
   ],
   "source": [
    "name = input(\"Please enter your name: \") #This case will fail if we give only numbers and symbols\n",
    "\n",
    "if name.upper() == name:\n",
    "    print('UPPER')\n",
    "elif name.lower() == name:\n",
    "    print('lower')\n",
    "else:\n",
    "    print('MiXEd')"
   ]
  },
  {
   "cell_type": "code",
   "execution_count": 60,
   "metadata": {},
   "outputs": [
    {
     "name": "stdout",
     "output_type": "stream",
     "text": [
      "test9\n"
     ]
    }
   ],
   "source": [
    "totalitems = float(input(\"test\"))"
   ]
  },
  {
   "cell_type": "code",
   "execution_count": null,
   "metadata": {},
   "outputs": [],
   "source": []
  },
  {
   "cell_type": "code",
   "execution_count": 61,
   "metadata": {},
   "outputs": [
    {
     "name": "stdout",
     "output_type": "stream",
     "text": [
      "enter the room number: 1\n",
      "Foyer\n"
     ]
    }
   ],
   "source": [
    "rooms = {1:\"Foyer\", 2:\"Conference Room\"}\n",
    "room = int(input(\"enter the room number: \"))\n",
    "if not room in rooms:\n",
    "    print(\"NA\")\n",
    "else:\n",
    "    print(rooms[room])"
   ]
  },
  {
   "cell_type": "code",
   "execution_count": 62,
   "metadata": {},
   "outputs": [
    {
     "name": "stdout",
     "output_type": "stream",
     "text": [
      "<class 'str'>\n"
     ]
    }
   ],
   "source": [
    "x1 = \"20\"\n",
    "y1 = 3\n",
    "a = x1 * y1\n",
    "\n",
    "print(type(a))"
   ]
  },
  {
   "cell_type": "code",
   "execution_count": 63,
   "metadata": {},
   "outputs": [
    {
     "name": "stdout",
     "output_type": "stream",
     "text": [
      "<class 'float'>\n"
     ]
    }
   ],
   "source": [
    "a = 2.4\n",
    "b = 1\n",
    "c = a/b\n",
    "print(type(c))"
   ]
  },
  {
   "cell_type": "code",
   "execution_count": 64,
   "metadata": {},
   "outputs": [
    {
     "name": "stdout",
     "output_type": "stream",
     "text": [
      "10000000000\n"
     ]
    }
   ],
   "source": [
    "print(int(+1E10))"
   ]
  },
  {
   "cell_type": "code",
   "execution_count": 65,
   "metadata": {},
   "outputs": [
    {
     "name": "stdout",
     "output_type": "stream",
     "text": [
      "[(1, 199), (2, 3), (5, 8888)]\n",
      "[(2, 3), (1, 199), (5, 8888)]\n"
     ]
    }
   ],
   "source": [
    "ls = [(5,8888),(2,3),(1,199)]\n",
    "ls.sort()\n",
    "print(ls)\n",
    "\n",
    "sorted_ls = sorted(ls,key=lambda x:x[1])\n",
    "print(sorted_ls)"
   ]
  },
  {
   "cell_type": "code",
   "execution_count": null,
   "metadata": {},
   "outputs": [],
   "source": []
  },
  {
   "cell_type": "code",
   "execution_count": 66,
   "metadata": {},
   "outputs": [
    {
     "name": "stdout",
     "output_type": "stream",
     "text": [
      "['N', 'i', 'r', 'a', 'l']\n",
      "Niral\n"
     ]
    }
   ],
   "source": [
    "ls = ['N','i','r','a','l']\n",
    "print(str(ls))\n",
    "st = \"\".join(ls)\n",
    "print(st)\n"
   ]
  },
  {
   "cell_type": "code",
   "execution_count": null,
   "metadata": {},
   "outputs": [],
   "source": []
  },
  {
   "cell_type": "code",
   "execution_count": 67,
   "metadata": {},
   "outputs": [
    {
     "name": "stdout",
     "output_type": "stream",
     "text": [
      "this executes \n"
     ]
    }
   ],
   "source": [
    "a = 10\n",
    "assert a<11\n",
    "print(\"this executes \")"
   ]
  },
  {
   "cell_type": "code",
   "execution_count": 68,
   "metadata": {},
   "outputs": [],
   "source": [
    "a='3\\''\n"
   ]
  },
  {
   "cell_type": "code",
   "execution_count": 69,
   "metadata": {},
   "outputs": [
    {
     "data": {
      "text/plain": [
       "\"3'\""
      ]
     },
     "execution_count": 69,
     "metadata": {},
     "output_type": "execute_result"
    }
   ],
   "source": [
    "a"
   ]
  },
  {
   "cell_type": "code",
   "execution_count": 70,
   "metadata": {},
   "outputs": [],
   "source": [
    "ls1 = [1,2,3,4,5]\n",
    "ls2 = ['N','i','r','a','l']"
   ]
  },
  {
   "cell_type": "code",
   "execution_count": 71,
   "metadata": {},
   "outputs": [
    {
     "name": "stdout",
     "output_type": "stream",
     "text": [
      "False\n",
      "False\n"
     ]
    }
   ],
   "source": [
    "print(ls1 is ls2)\n",
    "print(ls1 == ls2)"
   ]
  },
  {
   "cell_type": "code",
   "execution_count": 72,
   "metadata": {},
   "outputs": [],
   "source": [
    "ls1 = ls2"
   ]
  },
  {
   "cell_type": "code",
   "execution_count": 73,
   "metadata": {},
   "outputs": [
    {
     "name": "stdout",
     "output_type": "stream",
     "text": [
      "True\n",
      "True\n"
     ]
    }
   ],
   "source": [
    "print(ls1 is ls2)\n",
    "print(ls1 == ls2)"
   ]
  },
  {
   "cell_type": "code",
   "execution_count": null,
   "metadata": {},
   "outputs": [],
   "source": []
  },
  {
   "cell_type": "code",
   "execution_count": 74,
   "metadata": {},
   "outputs": [
    {
     "name": "stdout",
     "output_type": "stream",
     "text": [
      "enter the val: 6\n",
      "enter x: 3\n",
      "6\n"
     ]
    }
   ],
   "source": [
    "expr = input(\"enter the val: \")\n",
    "x = int(input(\"enter x: \"))\n",
    "y = eval(expr)\n",
    "print(y)"
   ]
  },
  {
   "cell_type": "code",
   "execution_count": 75,
   "metadata": {},
   "outputs": [
    {
     "data": {
      "text/plain": [
       "(2+3j)"
      ]
     },
     "execution_count": 75,
     "metadata": {},
     "output_type": "execute_result"
    }
   ],
   "source": [
    "complex(2,3)"
   ]
  },
  {
   "cell_type": "code",
   "execution_count": 76,
   "metadata": {},
   "outputs": [
    {
     "data": {
      "text/plain": [
       "-5"
      ]
     },
     "execution_count": 76,
     "metadata": {},
     "output_type": "execute_result"
    }
   ],
   "source": [
    "~4"
   ]
  },
  {
   "cell_type": "code",
   "execution_count": 77,
   "metadata": {},
   "outputs": [
    {
     "data": {
      "text/plain": [
       "2417851639229258349412352"
      ]
     },
     "execution_count": 77,
     "metadata": {},
     "output_type": "execute_result"
    }
   ],
   "source": [
    "2**3**4"
   ]
  },
  {
   "cell_type": "code",
   "execution_count": null,
   "metadata": {},
   "outputs": [],
   "source": []
  },
  {
   "cell_type": "code",
   "execution_count": 78,
   "metadata": {},
   "outputs": [
    {
     "data": {
      "text/plain": [
       "2417851639229258349412352"
      ]
     },
     "execution_count": 78,
     "metadata": {},
     "output_type": "execute_result"
    }
   ],
   "source": [
    "2**81"
   ]
  },
  {
   "cell_type": "code",
   "execution_count": 79,
   "metadata": {},
   "outputs": [
    {
     "data": {
      "text/plain": [
       "0"
      ]
     },
     "execution_count": 79,
     "metadata": {},
     "output_type": "execute_result"
    }
   ],
   "source": [
    "2%2"
   ]
  },
  {
   "cell_type": "code",
   "execution_count": 80,
   "metadata": {},
   "outputs": [
    {
     "data": {
      "text/plain": [
       "6.0"
      ]
     },
     "execution_count": 80,
     "metadata": {},
     "output_type": "execute_result"
    }
   ],
   "source": [
    "float(4+int(2.34))"
   ]
  },
  {
   "cell_type": "code",
   "execution_count": 81,
   "metadata": {},
   "outputs": [
    {
     "data": {
      "text/plain": [
       "557"
      ]
     },
     "execution_count": 81,
     "metadata": {},
     "output_type": "execute_result"
    }
   ],
   "source": [
    "int(2+float(555))"
   ]
  },
  {
   "cell_type": "code",
   "execution_count": 82,
   "metadata": {},
   "outputs": [
    {
     "data": {
      "text/plain": [
       "'0b1000'"
      ]
     },
     "execution_count": 82,
     "metadata": {},
     "output_type": "execute_result"
    }
   ],
   "source": [
    "bin(10-2)"
   ]
  },
  {
   "cell_type": "code",
   "execution_count": 83,
   "metadata": {},
   "outputs": [
    {
     "data": {
      "text/plain": [
       "'0b1000'"
      ]
     },
     "execution_count": 83,
     "metadata": {},
     "output_type": "execute_result"
    }
   ],
   "source": [
    "bin(12^4)"
   ]
  },
  {
   "cell_type": "code",
   "execution_count": 84,
   "metadata": {},
   "outputs": [
    {
     "data": {
      "text/plain": [
       "16"
      ]
     },
     "execution_count": 84,
     "metadata": {},
     "output_type": "execute_result"
    }
   ],
   "source": [
    "0b1000 + 0b1000"
   ]
  },
  {
   "cell_type": "code",
   "execution_count": 85,
   "metadata": {},
   "outputs": [
    {
     "data": {
      "text/plain": [
       "'0b10000'"
      ]
     },
     "execution_count": 85,
     "metadata": {},
     "output_type": "execute_result"
    }
   ],
   "source": [
    "bin(16)"
   ]
  },
  {
   "cell_type": "code",
   "execution_count": 86,
   "metadata": {},
   "outputs": [
    {
     "data": {
      "text/plain": [
       "'0b10000b1000'"
      ]
     },
     "execution_count": 86,
     "metadata": {},
     "output_type": "execute_result"
    }
   ],
   "source": [
    "bin(10-2)+bin(12^4)"
   ]
  },
  {
   "cell_type": "code",
   "execution_count": 87,
   "metadata": {},
   "outputs": [
    {
     "data": {
      "text/plain": [
       "'-0b101100'"
      ]
     },
     "execution_count": 87,
     "metadata": {},
     "output_type": "execute_result"
    }
   ],
   "source": [
    "bin(-44)"
   ]
  },
  {
   "cell_type": "code",
   "execution_count": 88,
   "metadata": {},
   "outputs": [
    {
     "name": "stdout",
     "output_type": "stream",
     "text": [
      "[1, 4, 9, 16, 25]\n"
     ]
    }
   ],
   "source": [
    "myList = [1,2,3,4,5]\n",
    "output =  [x**2 for x in myList]\n",
    "print(output)"
   ]
  },
  {
   "cell_type": "code",
   "execution_count": 89,
   "metadata": {},
   "outputs": [
    {
     "name": "stdout",
     "output_type": "stream",
     "text": [
      "1\n",
      "2\n",
      "3\n",
      "4\n",
      "5\n",
      "6\n"
     ]
    }
   ],
   "source": [
    "i = 1\n",
    "while True:\n",
    "    if i%0o7 == 0: # 0o7 Octal number\n",
    "        break\n",
    "    print(i)\n",
    "    i += 1\n"
   ]
  },
  {
   "cell_type": "code",
   "execution_count": 90,
   "metadata": {},
   "outputs": [
    {
     "name": "stdout",
     "output_type": "stream",
     "text": [
      "i before:  5\n",
      "9\n",
      "5\n",
      "5\n",
      "i before:  6\n",
      "9\n",
      "6\n",
      "6\n",
      "i before:  7\n",
      "9\n",
      "7\n",
      "7\n",
      "i before:  8\n",
      "9\n",
      "8\n",
      "8\n",
      "i before:  9\n",
      "9\n",
      "0\n",
      "inside break\n"
     ]
    }
   ],
   "source": [
    "i = 5\n",
    "while True:\n",
    "    print(\"i before: \", i)\n",
    "    print(int(0o11))\n",
    "    print(i%0o11)\n",
    "    if i%0o11 == 0:\n",
    "        print(\"inside break\")\n",
    "        break\n",
    "    print(i)\n",
    "    i += 1"
   ]
  },
  {
   "cell_type": "code",
   "execution_count": 91,
   "metadata": {},
   "outputs": [
    {
     "name": "stdout",
     "output_type": "stream",
     "text": [
      "[1, 4, 9, 16]\n"
     ]
    }
   ],
   "source": [
    "ls = [1, 4, 9, 16, 25]\n",
    "ls = ls[:-1]\n",
    "print(ls)"
   ]
  },
  {
   "cell_type": "code",
   "execution_count": null,
   "metadata": {},
   "outputs": [],
   "source": []
  },
  {
   "cell_type": "code",
   "execution_count": 92,
   "metadata": {},
   "outputs": [
    {
     "name": "stdout",
     "output_type": "stream",
     "text": [
      "<class 'list'>\n",
      "<class 'list'>\n",
      "None\n"
     ]
    }
   ],
   "source": [
    "expr = [5, '4+3', '3', '2+2', '2**3', '12/6', 1, '9-4']\n",
    "print(type(expr))\n",
    "# print(expr.sort())\n",
    "newList = []\n",
    "for i in expr:\n",
    "   newList.append(eval(str(i)))\n",
    "print(type(ls))\n",
    "print(ls.sort())"
   ]
  },
  {
   "cell_type": "code",
   "execution_count": 93,
   "metadata": {},
   "outputs": [],
   "source": [
    "expr = [5, '4+3', '3', '2+2', '2**3', '12/6', 1, '9-4']\n",
    "ls = []\n",
    "for item in expr:\n",
    "    ls.append(eval(str(item)))"
   ]
  },
  {
   "cell_type": "code",
   "execution_count": 94,
   "metadata": {},
   "outputs": [],
   "source": [
    "ls.sort()"
   ]
  },
  {
   "cell_type": "code",
   "execution_count": 95,
   "metadata": {},
   "outputs": [
    {
     "name": "stdout",
     "output_type": "stream",
     "text": [
      "[5, 4, 3, 2, 1]\n"
     ]
    }
   ],
   "source": [
    "a=[1,2,3,4,5]\n",
    "b = a[::-1]\n",
    "print(b)\n"
   ]
  },
  {
   "cell_type": "code",
   "execution_count": 96,
   "metadata": {},
   "outputs": [
    {
     "name": "stdout",
     "output_type": "stream",
     "text": [
      "Hello\n"
     ]
    }
   ],
   "source": [
    "class test:\n",
    "    def testmethod(self):\n",
    "        print(\"Hello\")\n",
    "        \n",
    "obj = test()\n",
    "obj.testmethod()"
   ]
  },
  {
   "cell_type": "code",
   "execution_count": 97,
   "metadata": {},
   "outputs": [],
   "source": [
    "d = dict()"
   ]
  },
  {
   "cell_type": "code",
   "execution_count": 98,
   "metadata": {},
   "outputs": [],
   "source": [
    "d['abc'] = 123\n",
    "d['xyz'] = 456"
   ]
  },
  {
   "cell_type": "code",
   "execution_count": 99,
   "metadata": {},
   "outputs": [
    {
     "name": "stdout",
     "output_type": "stream",
     "text": [
      "{'abc': 123, 'xyz': 456}\n",
      "dict_keys(['abc', 'xyz'])\n",
      "dict_values([123, 456])\n"
     ]
    }
   ],
   "source": [
    "print(d)\n",
    "print(d.keys())\n",
    "print(d.values())"
   ]
  },
  {
   "cell_type": "code",
   "execution_count": 100,
   "metadata": {},
   "outputs": [
    {
     "name": "stdout",
     "output_type": "stream",
     "text": [
      "abc 123\n",
      "abc : 123\n",
      "xyz 456\n",
      "xyz : 456\n"
     ]
    }
   ],
   "source": [
    "for i in d:\n",
    "    print(i, d[i])\n",
    "    print(\"%s : %d\"%(i, d[i]))"
   ]
  },
  {
   "cell_type": "code",
   "execution_count": 101,
   "metadata": {},
   "outputs": [
    {
     "name": "stdout",
     "output_type": "stream",
     "text": [
      "0 abc 123\n",
      "1 xyz 456\n"
     ]
    }
   ],
   "source": [
    "for index, key in enumerate(d):\n",
    "    print(index, key, d[key])"
   ]
  },
  {
   "cell_type": "code",
   "execution_count": 102,
   "metadata": {},
   "outputs": [
    {
     "name": "stdout",
     "output_type": "stream",
     "text": [
      "True\n"
     ]
    }
   ],
   "source": [
    "print(\"xyz\" in d)"
   ]
  },
  {
   "cell_type": "code",
   "execution_count": 103,
   "metadata": {},
   "outputs": [],
   "source": [
    "del d[\"xyz\"]"
   ]
  },
  {
   "cell_type": "code",
   "execution_count": 104,
   "metadata": {},
   "outputs": [
    {
     "name": "stdout",
     "output_type": "stream",
     "text": [
      "False\n"
     ]
    }
   ],
   "source": [
    "print(\"xyz\" in d)"
   ]
  },
  {
   "cell_type": "code",
   "execution_count": 105,
   "metadata": {},
   "outputs": [
    {
     "name": "stdout",
     "output_type": "stream",
     "text": [
      "{'abc': 123}\n"
     ]
    }
   ],
   "source": [
    "print(d)"
   ]
  },
  {
   "cell_type": "markdown",
   "metadata": {},
   "source": [
    "#### break, continue, pass in Python \n",
    "\n",
    "   <b>break:</b> takes you out of the current loop.\n",
    "   \n",
    "   <b>continue:</b>  ends the current iteration in the loop and moves to the next iteration.\n",
    "   \n",
    "   <b>pass:</b> The pass statement does nothing. It can be used when a statement is required. syntactically but the program requires no action."
   ]
  },
  {
   "cell_type": "code",
   "execution_count": null,
   "metadata": {},
   "outputs": [],
   "source": []
  },
  {
   "cell_type": "markdown",
   "metadata": {},
   "source": [
    "#### map, filter, lambda\n",
    "\n",
    "\n",
    "   <b>map:</b> The map() function applies a function to every member of iterable and returns the result. If there are multiple arguments, map() returns a list consisting of tuples containing the corresponding items from all iterables.\n",
    "   \n",
    "   <b>filter:</b>  It takes a function returning True or False and applies it to a sequence, returning a list of only those members of the sequence for which the function returned True.\n",
    "   \n",
    "   <b>lambda:</b> Python provides the ability to create a simple (no statements allowed internally) <b>anonymous (without name) inline function</b> called lambda function. Using lambda and map you can have two for loops in one line."
   ]
  },
  {
   "cell_type": "code",
   "execution_count": 106,
   "metadata": {},
   "outputs": [
    {
     "name": "stdout",
     "output_type": "stream",
     "text": [
      "[1, 4, 9, 16, 25]\n"
     ]
    }
   ],
   "source": [
    "def sqr(n):\n",
    "    return n**2\n",
    "\n",
    "numbers = (1,2,3,4,5)\n",
    "m = map(sqr, numbers)\n",
    "print(list(m))"
   ]
  },
  {
   "cell_type": "code",
   "execution_count": 107,
   "metadata": {},
   "outputs": [
    {
     "name": "stdout",
     "output_type": "stream",
     "text": [
      "[2, 4, 6, 8, 10]\n"
     ]
    }
   ],
   "source": [
    "numbers = (1,2,3,4,5)\n",
    "m = map(lambda x: x+x, numbers)\n",
    "print(list(m))"
   ]
  },
  {
   "cell_type": "code",
   "execution_count": 108,
   "metadata": {},
   "outputs": [
    {
     "name": "stdout",
     "output_type": "stream",
     "text": [
      "[7, 9, 11, 13, 15]\n"
     ]
    }
   ],
   "source": [
    "numbers1 = [1,2,3,4,5]\n",
    "numbers2 = [6,7,8,9,10]\n",
    "m = map(lambda x,y: x+y, numbers1, numbers2)\n",
    "print(list(m))"
   ]
  },
  {
   "cell_type": "code",
   "execution_count": 109,
   "metadata": {},
   "outputs": [
    {
     "name": "stdout",
     "output_type": "stream",
     "text": [
      "[['A', 'l', 'e', 'x'], ['N', 'i', 'r', 'a', 'l'], ['S', 'u', 'g', 'i']]\n"
     ]
    }
   ],
   "source": [
    "ls = ['Alex','Niral','Sugi']\n",
    "print(list(map(list,ls))) #note here we used list built-in function"
   ]
  },
  {
   "cell_type": "markdown",
   "metadata": {},
   "source": [
    "#### reduce\n",
    "\n",
    "\n",
    "The reduce(fun,seq) function is used to apply a particular function passed in its argument to all of the list elements mentioned in the sequence passed along.This function is defined in “functools” module.\n",
    "\n",
    "     Working :  \n",
    "\n",
    "        At first step, first two elements of sequence are picked and the result is obtained.\n",
    "        \n",
    "        Next step is to apply the same function to the previously attained result and the number just \n",
    "        succeeding the second element and the result is again stored.\n",
    "        \n",
    "        This process continues till no more elements are left in the container.\n",
    "        \n",
    "        The final returned result is returned and printed on console.\n",
    "\n",
    "​\n",
    "\n",
    "Docstring:\n",
    "reduce(function, sequence[, initial]) -> value\n",
    "\n",
    "Apply a function of two arguments cumulatively to the items of a sequence,\n",
    "from left to right, so as to reduce the sequence to a single value.\n",
    "For example, reduce(lambda x, y: x+y, [1, 2, 3, 4, 5]) calculates\n",
    "((((1+2)+3)+4)+5).  If initial is present, it is placed before the items\n",
    "of the sequence in the calculation, and serves as a default when the\n",
    "sequence is empty."
   ]
  },
  {
   "cell_type": "code",
   "execution_count": 110,
   "metadata": {},
   "outputs": [],
   "source": [
    "import functools\n",
    "from functools import reduce"
   ]
  },
  {
   "cell_type": "code",
   "execution_count": 111,
   "metadata": {},
   "outputs": [
    {
     "name": "stdout",
     "output_type": "stream",
     "text": [
      "The sum of the list elements is : 15\n"
     ]
    }
   ],
   "source": [
    "lis = [1,2,3,4,5]\n",
    "\n",
    "# using reduce to compute sum of list\n",
    "print(\"The sum of the list elements is : \", end=\"\")\n",
    "\n",
    "print(reduce(lambda x,y: x+y, lis))"
   ]
  },
  {
   "cell_type": "code",
   "execution_count": 112,
   "metadata": {},
   "outputs": [
    {
     "name": "stdout",
     "output_type": "stream",
     "text": [
      "The maximum element of the list is : 5\n"
     ]
    }
   ],
   "source": [
    "# using reduce to compute maximum element from list\n",
    "print(\"The maximum element of the list is : \", end=\"\")\n",
    "\n",
    "print(reduce(lambda x,y: x if x>y else y, lis))"
   ]
  },
  {
   "cell_type": "code",
   "execution_count": 113,
   "metadata": {},
   "outputs": [
    {
     "name": "stdout",
     "output_type": "stream",
     "text": [
      "The sum of the list elements is : 17\n",
      "The product of list elements is : 180\n",
      "The concatenated product is : firstmiddlelast\n"
     ]
    }
   ],
   "source": [
    "# importing operator for operator functions\n",
    "import operator\n",
    " \n",
    "# initializing list\n",
    "lis = [1, 3, 5, 6, 2, ]\n",
    " \n",
    "# using reduce to compute sum of list\n",
    "# using operator functions\n",
    "print(\"The sum of the list elements is : \", end=\"\")\n",
    "print(functools.reduce(operator.add, lis))\n",
    " \n",
    "# using reduce to compute product\n",
    "# using operator functions\n",
    "print(\"The product of list elements is : \", end=\"\")\n",
    "print(functools.reduce(operator.mul, lis))\n",
    " \n",
    "# using reduce to concatenate string\n",
    "print(\"The concatenated product is : \", end=\"\")\n",
    "print(functools.reduce(operator.add, [\"first\", \"middle\", \"last\"]))"
   ]
  },
  {
   "cell_type": "code",
   "execution_count": 114,
   "metadata": {},
   "outputs": [
    {
     "name": "stdout",
     "output_type": "stream",
     "text": [
      "15\n"
     ]
    }
   ],
   "source": [
    "# Note that the initializer, when not None, is used as the first value instead of the first value from iterable , and after the whole iterable.\n",
    "tup = (2,1,0,2,2,0,0,2)\n",
    "print(reduce(lambda x, y: x+y, tup,6))"
   ]
  },
  {
   "cell_type": "markdown",
   "metadata": {},
   "source": [
    "#### filter()\n",
    "The filter() method filters the given sequence with the help of a function that tests each element in the sequence to be true or not.\n",
    "\n",
    "        syntax:\n",
    "\n",
    "        filter(function, sequence)\n",
    "        Parameters:\n",
    "        function: function that tests if each element of a \n",
    "        sequence true or not.\n",
    "        sequence: sequence which needs to be filtered, it can \n",
    "        be sets, lists, tuples, or containers of any iterators.\n",
    "        Returns:\n",
    "        returns an iterator that is already filtered."
   ]
  },
  {
   "cell_type": "code",
   "execution_count": 115,
   "metadata": {},
   "outputs": [
    {
     "name": "stdout",
     "output_type": "stream",
     "text": [
      "['N', 'i', 'r', 'a', 'l', 'y', 'a', ' ', 'A', 'l', 'e', 'x']\n",
      "The filtered vowels are:\n",
      "i\n",
      "a\n",
      "a\n",
      "A\n",
      "e\n"
     ]
    }
   ],
   "source": [
    "def fun(letter):\n",
    "    vowels = ['a','e','i','o','u']\n",
    "    if letter.lower() in vowels:\n",
    "        return True\n",
    "    else:\n",
    "        return False\n",
    "    \n",
    "sequence = list('Niralya Alex')\n",
    "print(sequence)\n",
    "filtered = filter(fun, sequence)\n",
    "\n",
    "\n",
    "print('The filtered vowels are:')\n",
    "for s in filtered:\n",
    "    print(s)    \n",
    "    \n",
    "    \n"
   ]
  },
  {
   "cell_type": "code",
   "execution_count": 116,
   "metadata": {},
   "outputs": [
    {
     "name": "stdout",
     "output_type": "stream",
     "text": [
      "[1, 3, 5, 13]\n",
      "[0, 2, 8]\n"
     ]
    }
   ],
   "source": [
    "seq = [0, 1, 2, 3, 5, 8, 13]\n",
    "\n",
    "odd = filter(lambda x: x%2 != 0, seq)\n",
    "even = filter(lambda x: x%2 == 0, seq) \n",
    "\n",
    "# odd = filter(lambda x: x%2, seq)\n",
    "# even = filter(lambda x: ~x%2, seq) # ~ bitwise NOT operator\n",
    "\n",
    "print(list(odd))\n",
    "print(list(even))"
   ]
  },
  {
   "cell_type": "code",
   "execution_count": null,
   "metadata": {},
   "outputs": [],
   "source": []
  },
  {
   "cell_type": "markdown",
   "metadata": {},
   "source": [
    "#### Lambda Functions\n",
    "\n",
    "Python Lambda Functions are anonymous function means that the function is without a name. As we already know that the def keyword is used to define a normal function in Python. Similarly, the lambda keyword is used to define an anonymous function in Python. \n",
    "\n",
    "\n",
    "    This function can have any number of arguments but only one expression, which is evaluated and returned.\n",
    "    \n",
    "    One is free to use lambda functions wherever function objects are required.\n",
    "    \n",
    "    You need to keep in your knowledge that lambda functions are syntactically restricted to a single expression.\n",
    "    \n",
    "    It has various uses in particular fields of programming besides other types of expressions in functions.\n",
    "\n"
   ]
  },
  {
   "cell_type": "code",
   "execution_count": 117,
   "metadata": {},
   "outputs": [
    {
     "name": "stdout",
     "output_type": "stream",
     "text": [
      "Stay focused..!\n"
     ]
    }
   ],
   "source": [
    "x = 'Stay focused..!'\n",
    "\n",
    "(lambda x:print(x))(x)"
   ]
  },
  {
   "cell_type": "code",
   "execution_count": 118,
   "metadata": {},
   "outputs": [
    {
     "name": "stdout",
     "output_type": "stream",
     "text": [
      "27\n"
     ]
    }
   ],
   "source": [
    "def cube(x):\n",
    "    return x*x*x\n",
    "\n",
    "print(cube(3))"
   ]
  },
  {
   "cell_type": "code",
   "execution_count": 119,
   "metadata": {},
   "outputs": [
    {
     "name": "stdout",
     "output_type": "stream",
     "text": [
      "27\n"
     ]
    }
   ],
   "source": [
    "lambda_cube  = lambda x:x*x*x\n",
    "print(lambda_cube (3))"
   ]
  },
  {
   "cell_type": "code",
   "execution_count": 120,
   "metadata": {},
   "outputs": [
    {
     "name": "stdout",
     "output_type": "stream",
     "text": [
      "[<function <listcomp>.<lambda> at 0x000001782B0670D8>, <function <listcomp>.<lambda> at 0x000001782B067318>, <function <listcomp>.<lambda> at 0x000001782B0673A8>, <function <listcomp>.<lambda> at 0x000001782B067558>, <function <listcomp>.<lambda> at 0x000001782B067AF8>, <function <listcomp>.<lambda> at 0x000001782B067948>, <function <listcomp>.<lambda> at 0x000001782B067828>, <function <listcomp>.<lambda> at 0x000001782B067D38>, <function <listcomp>.<lambda> at 0x000001782B067C18>, <function <listcomp>.<lambda> at 0x000001782B0671F8>]\n",
      "10\n",
      "20\n",
      "30\n",
      "40\n",
      "50\n",
      "60\n",
      "70\n",
      "80\n",
      "90\n",
      "100\n"
     ]
    }
   ],
   "source": [
    "#printing table of 10 using lambda and list comprehension. closely watch i and j variables\n",
    "functions = [lambda j=i:j*10 for i in range(1,11)]\n",
    "print(functions)\n",
    "\n",
    "for fun in functions:\n",
    "    print(fun())"
   ]
  },
  {
   "cell_type": "code",
   "execution_count": 121,
   "metadata": {},
   "outputs": [
    {
     "name": "stdout",
     "output_type": "stream",
     "text": [
      "4\n"
     ]
    }
   ],
   "source": [
    "maxx = lambda x,y: x if x>y else y\n",
    "print(maxx(2,4))"
   ]
  },
  {
   "cell_type": "code",
   "execution_count": 122,
   "metadata": {},
   "outputs": [
    {
     "name": "stdout",
     "output_type": "stream",
     "text": [
      "['madam', 'refer', 'aa', 'noon']\n",
      "['madam', 'refer', 'aa', 'noon']\n"
     ]
    }
   ],
   "source": [
    "#Given a list of strings, filter all palindromes.\n",
    "\n",
    "my_list = [\"madam\", \"hello\", \"refer\", \"practice\", \"aa\",\"noon\"]\n",
    "\n",
    "list1 = filter(lambda x: (x == \"\".join(reversed(x))), my_list)\n",
    "print(list(list1))\n",
    "\n",
    "list2 = filter(lambda x:(x == x[::-1]), my_list)\n",
    "print(list(list2))"
   ]
  },
  {
   "cell_type": "markdown",
   "metadata": {},
   "source": [
    "#### zip()\n",
    "Python zip() method takes iterable or containers and returns a single iterator object, having mapped values from all the containers. \n",
    "\n",
    "It is used to map the similar index of multiple containers so that they can be used just using a single entity. \n",
    "\n",
    "Syntax :  zip(*iterators) \n",
    "\n",
    "Parameters : Python iterables or containers ( list, string etc ) \n",
    "Return Value : Returns a single iterator object, having mapped values from all the \n",
    "containers."
   ]
  },
  {
   "cell_type": "code",
   "execution_count": 123,
   "metadata": {},
   "outputs": [
    {
     "name": "stdout",
     "output_type": "stream",
     "text": [
      "[('Manjeet', 4), ('Nikhil', 1), ('Shambhavi', 3), ('Astha', 2)]\n"
     ]
    }
   ],
   "source": [
    "\n",
    "name = [ \"Manjeet\", \"Nikhil\", \"Shambhavi\", \"Astha\" ]\n",
    "roll_no = [ 4, 1, 3, 2 ]\n",
    "\n",
    "mapped = zip(name, roll_no)\n",
    "print(list(mapped))"
   ]
  },
  {
   "cell_type": "code",
   "execution_count": 124,
   "metadata": {},
   "outputs": [
    {
     "name": "stdout",
     "output_type": "stream",
     "text": [
      "0 Mukesh 24\n",
      "1 Roni 50\n",
      "2 Chari 18\n"
     ]
    }
   ],
   "source": [
    "\n",
    "names = ['Mukesh', 'Roni', 'Chari']\n",
    "ages = [24, 50, 18]\n",
    "\n",
    "for i, (name, age) in enumerate(zip(names, ages)):\n",
    "    print(i, name, age)"
   ]
  },
  {
   "cell_type": "code",
   "execution_count": 125,
   "metadata": {},
   "outputs": [
    {
     "name": "stdout",
     "output_type": "stream",
     "text": [
      "{'reliance': 2175, 'infosys': 1127, 'tcs': 2750}\n"
     ]
    }
   ],
   "source": [
    "\n",
    "stocks = ['reliance', 'infosys', 'tcs']\n",
    "prices = [2175, 1127, 2750]\n",
    "\n",
    "new_dict = {stocks:prices for stocks, prices in zip(stocks, prices)}\n",
    "print(new_dict)"
   ]
  },
  {
   "cell_type": "markdown",
   "metadata": {},
   "source": [
    "#### How to unzip?\n",
    "Unzipping means converting the zipped values back to the individual self as they were. This is done with the help of “*” operator."
   ]
  },
  {
   "cell_type": "code",
   "execution_count": 126,
   "metadata": {},
   "outputs": [
    {
     "name": "stdout",
     "output_type": "stream",
     "text": [
      "[('Manjeet', 4, 40), ('Nikhil', 1, 50), ('Shambhavi', 3, 60), ('Astha', 2, 70)]\n",
      "('Manjeet', 'Nikhil', 'Shambhavi', 'Astha')\n",
      "(4, 1, 3, 2)\n",
      "(40, 50, 60, 70)\n"
     ]
    }
   ],
   "source": [
    "name = [\"Manjeet\", \"Nikhil\", \"Shambhavi\", \"Astha\"]\n",
    "roll_no = [4, 1, 3, 2]\n",
    "marks = [40, 50, 60, 70]\n",
    "\n",
    "mapped = zip(name, roll_no, marks)\n",
    "mapped = list(mapped)\n",
    "\n",
    "print(mapped)\n",
    "\n",
    "#unzip\n",
    "n, r, m = zip(*mapped)\n",
    "print(n)\n",
    "print(r)\n",
    "print(m)"
   ]
  },
  {
   "cell_type": "code",
   "execution_count": null,
   "metadata": {},
   "outputs": [],
   "source": []
  },
  {
   "cell_type": "code",
   "execution_count": null,
   "metadata": {},
   "outputs": [],
   "source": []
  },
  {
   "cell_type": "code",
   "execution_count": null,
   "metadata": {},
   "outputs": [],
   "source": []
  },
  {
   "cell_type": "code",
   "execution_count": null,
   "metadata": {},
   "outputs": [],
   "source": []
  },
  {
   "cell_type": "code",
   "execution_count": null,
   "metadata": {},
   "outputs": [],
   "source": []
  },
  {
   "cell_type": "code",
   "execution_count": null,
   "metadata": {},
   "outputs": [],
   "source": []
  },
  {
   "cell_type": "markdown",
   "metadata": {},
   "source": [
    "#### Enumerate()\n",
    "Often, when dealing with iterators, we also get a need to keep a count of iterations. Python eases the programmers’ task by providing a built-in function enumerate() for this task. \n",
    "Enumerate() method adds a counter to an iterable and returns it in a form of enumerating object. This enumerated object can then be used directly for loops or converted into a list of tuples using the list() method.\n",
    "\n",
    "\n",
    "        Syntax: \n",
    "\n",
    "            enumerate(iterable, start=0)\n",
    "\n",
    "            Parameters:\n",
    "            Iterable: any object that supports iteration\n",
    "            Start: the index value from which the counter is \n",
    "                          to be started, by default it is 0"
   ]
  },
  {
   "cell_type": "code",
   "execution_count": 127,
   "metadata": {},
   "outputs": [
    {
     "name": "stdout",
     "output_type": "stream",
     "text": [
      "<class 'enumerate'>\n",
      "[(0, 'eat'), (1, 'sleep'), (2, 'repeat')]\n",
      "[(10, 'g'), (11, 'e'), (12, 'e'), (13, 'k')]\n"
     ]
    }
   ],
   "source": [
    "l1 = [\"eat\",\"sleep\",\"repeat\"]\n",
    "s1 = \"geek\"\n",
    "\n",
    "obj1 = enumerate(l1)\n",
    "obj2 = enumerate(s1, 10)\n",
    "\n",
    "print(type(obj1))\n",
    "\n",
    "print(list(obj1))\n",
    "print(list(obj2))"
   ]
  },
  {
   "cell_type": "code",
   "execution_count": 128,
   "metadata": {},
   "outputs": [
    {
     "name": "stdout",
     "output_type": "stream",
     "text": [
      "(0, 'eat')\n",
      "(1, 'sleep')\n",
      "(2, 'repeat')\n"
     ]
    }
   ],
   "source": [
    "lst = [\"eat\",\"sleep\",\"repeat\"]\n",
    "for ele in enumerate(lst):\n",
    "    print(ele)"
   ]
  },
  {
   "cell_type": "code",
   "execution_count": 129,
   "metadata": {},
   "outputs": [
    {
     "name": "stdout",
     "output_type": "stream",
     "text": [
      "0 eat\n",
      "1 sleep\n",
      "2 repeat\n"
     ]
    }
   ],
   "source": [
    "for i, ele in enumerate(lst):\n",
    "    print(i, ele)"
   ]
  },
  {
   "cell_type": "code",
   "execution_count": 130,
   "metadata": {},
   "outputs": [
    {
     "name": "stdout",
     "output_type": "stream",
     "text": [
      "100 eat\n",
      "101 sleep\n",
      "102 repeat\n"
     ]
    }
   ],
   "source": [
    "for i, ele in enumerate(lst, 100):\n",
    "    print(i, ele)"
   ]
  },
  {
   "cell_type": "code",
   "execution_count": null,
   "metadata": {},
   "outputs": [],
   "source": []
  },
  {
   "cell_type": "markdown",
   "metadata": {},
   "source": [
    "### Python Arrays\n",
    "\n",
    "An array is a collection of items stored at contiguous memory locations. The idea is to store multiple items of the same type together. This makes it easier to calculate the position of each element by simply adding an offset to a base value, i.e., the memory location of the first element of the array (generally denoted by the name of the array)."
   ]
  },
  {
   "cell_type": "code",
   "execution_count": 131,
   "metadata": {},
   "outputs": [],
   "source": [
    "import array as arr"
   ]
  },
  {
   "cell_type": "code",
   "execution_count": 132,
   "metadata": {},
   "outputs": [
    {
     "name": "stdout",
     "output_type": "stream",
     "text": [
      "array('i', [1, 2, 3, 4, 5, 6, 7])\n"
     ]
    }
   ],
   "source": [
    "array1 = arr.array('i',[1,2,3,4,5,6,7])\n",
    "\n",
    "print(array1)"
   ]
  },
  {
   "cell_type": "code",
   "execution_count": 133,
   "metadata": {},
   "outputs": [
    {
     "name": "stdout",
     "output_type": "stream",
     "text": [
      "array('d', [1.0, 2.5, 23.3])\n"
     ]
    }
   ],
   "source": [
    "array2 = arr.array('d',[1.0,2.5,23.3])\n",
    "\n",
    "print(array2)"
   ]
  },
  {
   "cell_type": "markdown",
   "metadata": {},
   "source": [
    "#### hashable | hash value | hash function\n",
    "\n",
    "hashable is a feature of Python objects that tells if the object has a hash value or not. If the object has a hash value then it can be used as a key for a dictionary or as an element in a set.\n",
    "\n",
    "\n",
    "An object is hashable if it has a hash value that does not change during its entire lifetime. Python has a built-in hash method ( __hash__() ) that can be compared to other objects. For comparing it needs __eq__() or __cmp__() method and if the hashable objects are equal then they have the same hash value. All immutable built-in objects in Python are hashable like tuples while the mutable containers like lists and dictionaries are not hashable. \n",
    "\n",
    "\n",
    "Objects which are instances of the user-defined class are hashable by default, they all compare unequal, and their hash value is their id()."
   ]
  },
  {
   "cell_type": "code",
   "execution_count": 140,
   "metadata": {},
   "outputs": [
    {
     "name": "stdout",
     "output_type": "stream",
     "text": [
      "1615629732024\n",
      "1615662344216\n"
     ]
    }
   ],
   "source": [
    "t1 = (1,2,3)\n",
    "t2 = (1,2,3)\n",
    "\n",
    "print(id(t1))\n",
    "print(id(t2))"
   ]
  },
  {
   "cell_type": "code",
   "execution_count": 141,
   "metadata": {},
   "outputs": [
    {
     "name": "stdout",
     "output_type": "stream",
     "text": [
      "2528502973977326415\n",
      "2528502973977326415\n"
     ]
    }
   ],
   "source": [
    "\n",
    "print(t1.__hash__())\n",
    "print(t2.__hash__())\n"
   ]
  },
  {
   "cell_type": "code",
   "execution_count": 142,
   "metadata": {},
   "outputs": [
    {
     "name": "stdout",
     "output_type": "stream",
     "text": [
      "1615659698568\n",
      "1615672801928\n"
     ]
    }
   ],
   "source": [
    "l1 = [1,2,3]\n",
    "l2 = [1,2,3]\n",
    "\n",
    "print(id(l1))\n",
    "print(id(l2))"
   ]
  },
  {
   "cell_type": "code",
   "execution_count": 144,
   "metadata": {},
   "outputs": [
    {
     "ename": "TypeError",
     "evalue": "'NoneType' object is not callable",
     "output_type": "error",
     "traceback": [
      "\u001b[1;31m---------------------------------------------------------------------------\u001b[0m",
      "\u001b[1;31mTypeError\u001b[0m                                 Traceback (most recent call last)",
      "\u001b[1;32m<ipython-input-144-e137a200e9dd>\u001b[0m in \u001b[0;36m<module>\u001b[1;34m\u001b[0m\n\u001b[1;32m----> 1\u001b[1;33m \u001b[0mprint\u001b[0m\u001b[1;33m(\u001b[0m\u001b[0ml1\u001b[0m\u001b[1;33m.\u001b[0m\u001b[0m__hash__\u001b[0m\u001b[1;33m(\u001b[0m\u001b[1;33m)\u001b[0m\u001b[1;33m)\u001b[0m \u001b[1;31m#will throw error, coz mutable containers like lists and dictionaries are not hashable.\u001b[0m\u001b[1;33m\u001b[0m\u001b[1;33m\u001b[0m\u001b[0m\n\u001b[0m\u001b[0;32m      2\u001b[0m \u001b[0mprint\u001b[0m\u001b[1;33m(\u001b[0m\u001b[0ml2\u001b[0m\u001b[1;33m.\u001b[0m\u001b[0m__hash__\u001b[0m\u001b[1;33m(\u001b[0m\u001b[1;33m)\u001b[0m\u001b[1;33m)\u001b[0m\u001b[1;33m\u001b[0m\u001b[1;33m\u001b[0m\u001b[0m\n",
      "\u001b[1;31mTypeError\u001b[0m: 'NoneType' object is not callable"
     ]
    }
   ],
   "source": [
    "print(l1.__hash__()) #will throw error, coz mutable containers like lists and dictionaries are not hashable.\n",
    "print(l2.__hash__())"
   ]
  },
  {
   "cell_type": "code",
   "execution_count": 149,
   "metadata": {},
   "outputs": [
    {
     "name": "stdout",
     "output_type": "stream",
     "text": [
      "-9223371935875370074\n",
      "1615670491752\n",
      "-9223371935875370074\n"
     ]
    }
   ],
   "source": [
    "lamb = lambda x: 1\n",
    "\n",
    "print(hash(lamb))\n",
    "\n",
    "print(id(lamb))\n",
    "\n",
    "print(lamb.__hash__())\n",
    "\n",
    "#Hence, lambda functions are hashable."
   ]
  },
  {
   "cell_type": "code",
   "execution_count": 150,
   "metadata": {},
   "outputs": [
    {
     "name": "stdout",
     "output_type": "stream",
     "text": [
      "<class 'function'>\n",
      "-9223371935875370164\n",
      "-9223371935875370164\n"
     ]
    }
   ],
   "source": [
    "def fun():\n",
    "    pass\n",
    "\n",
    "print(type(fun))\n",
    "\n",
    "print(hash(fun))\n",
    "\n",
    "print(fun.__hash__())\n",
    "\n",
    "#Therefore, any user defined function is hashable as its hash value remains same during its lifetime."
   ]
  },
  {
   "cell_type": "markdown",
   "metadata": {},
   "source": [
    "### Math module"
   ]
  },
  {
   "cell_type": "code",
   "execution_count": 154,
   "metadata": {},
   "outputs": [
    {
     "data": {
      "text/plain": [
       "4"
      ]
     },
     "execution_count": 154,
     "metadata": {},
     "output_type": "execute_result"
    }
   ],
   "source": [
    "import math\n",
    "\n",
    "math.ceil(3.4)"
   ]
  },
  {
   "cell_type": "code",
   "execution_count": 160,
   "metadata": {},
   "outputs": [
    {
     "name": "stdout",
     "output_type": "stream",
     "text": [
      "3.0  ---->  3\n",
      "3.1  ---->  4\n",
      "3.2  ---->  4\n",
      "3.3  ---->  4\n",
      "3.4  ---->  4\n",
      "3.5  ---->  4\n",
      "3.6  ---->  4\n",
      "3.7  ---->  4\n",
      "3.8  ---->  4\n",
      "3.9  ---->  4\n",
      "4.0  ---->  4\n"
     ]
    }
   ],
   "source": [
    "import numpy as np\n",
    "\n",
    "for i in np.linspace(3,4,11):\n",
    "    print(i, \" ----> \", math.ceil(i))\n",
    "    "
   ]
  },
  {
   "cell_type": "code",
   "execution_count": 161,
   "metadata": {},
   "outputs": [
    {
     "name": "stdout",
     "output_type": "stream",
     "text": [
      "3.0  ---->  3\n",
      "3.1  ---->  3\n",
      "3.2  ---->  3\n",
      "3.3  ---->  3\n",
      "3.4  ---->  3\n",
      "3.5  ---->  3\n",
      "3.6  ---->  3\n",
      "3.7  ---->  3\n",
      "3.8  ---->  3\n",
      "3.9  ---->  3\n",
      "4.0  ---->  4\n"
     ]
    }
   ],
   "source": [
    "import numpy as np\n",
    "\n",
    "for i in np.linspace(3,4,11):\n",
    "    print(i, \" ----> \", math.floor(i))"
   ]
  },
  {
   "cell_type": "code",
   "execution_count": 163,
   "metadata": {},
   "outputs": [
    {
     "name": "stdout",
     "output_type": "stream",
     "text": [
      "-3.0\n"
     ]
    }
   ],
   "source": [
    "#The copysign function returns a float whose absolute value is that of the first argument and the sign is that of the second argument.\n",
    "\n",
    "print(math.copysign(3, -1))"
   ]
  },
  {
   "cell_type": "code",
   "execution_count": 164,
   "metadata": {},
   "outputs": [
    {
     "name": "stdout",
     "output_type": "stream",
     "text": [
      "3.4\n"
     ]
    }
   ],
   "source": [
    "#A negative floating point number is returned as a positive floating point number.\n",
    "\n",
    "print(math.fabs(-3.4))"
   ]
  },
  {
   "cell_type": "markdown",
   "metadata": {},
   "source": [
    "#### abs()\n",
    "\n",
    "Python abs() function is used to return the absolute value of a number, i.e., it will remove the negative sign of the number.  \n",
    "\n",
    "Syntax: abs(number)\n",
    "number: Can be an integer, a floating-point\n",
    "\n",
    "number or a complex number"
   ]
  },
  {
   "cell_type": "code",
   "execution_count": 167,
   "metadata": {},
   "outputs": [
    {
     "name": "stdout",
     "output_type": "stream",
     "text": [
      "1\n"
     ]
    }
   ],
   "source": [
    "x = math.factorial(0)\n",
    "print(x)"
   ]
  },
  {
   "cell_type": "code",
   "execution_count": 169,
   "metadata": {},
   "outputs": [
    {
     "data": {
      "text/plain": [
       "24"
      ]
     },
     "execution_count": 169,
     "metadata": {},
     "output_type": "execute_result"
    }
   ],
   "source": [
    "math.factorial(4.0)"
   ]
  },
  {
   "cell_type": "code",
   "execution_count": 170,
   "metadata": {},
   "outputs": [
    {
     "ename": "ValueError",
     "evalue": "factorial() only accepts integral values",
     "output_type": "error",
     "traceback": [
      "\u001b[1;31m---------------------------------------------------------------------------\u001b[0m",
      "\u001b[1;31mValueError\u001b[0m                                Traceback (most recent call last)",
      "\u001b[1;32m<ipython-input-170-0539e0bc82ed>\u001b[0m in \u001b[0;36m<module>\u001b[1;34m\u001b[0m\n\u001b[0;32m      1\u001b[0m \u001b[1;31m# Factorial is only defined for non-negative integers.\u001b[0m\u001b[1;33m\u001b[0m\u001b[1;33m\u001b[0m\u001b[1;33m\u001b[0m\u001b[0m\n\u001b[1;32m----> 2\u001b[1;33m \u001b[0mprint\u001b[0m\u001b[1;33m(\u001b[0m\u001b[0mmath\u001b[0m\u001b[1;33m.\u001b[0m\u001b[0mfactorial\u001b[0m\u001b[1;33m(\u001b[0m\u001b[1;36m4.5\u001b[0m\u001b[1;33m)\u001b[0m\u001b[1;33m)\u001b[0m\u001b[1;33m\u001b[0m\u001b[1;33m\u001b[0m\u001b[0m\n\u001b[0m",
      "\u001b[1;31mValueError\u001b[0m: factorial() only accepts integral values"
     ]
    }
   ],
   "source": [
    "# Factorial is only defined for non-negative integers.\n",
    "print(math.factorial(4.5))"
   ]
  },
  {
   "cell_type": "code",
   "execution_count": 177,
   "metadata": {},
   "outputs": [
    {
     "data": {
      "text/plain": [
       "8"
      ]
     },
     "execution_count": 177,
     "metadata": {},
     "output_type": "execute_result"
    }
   ],
   "source": [
    "math.floor(0o10)\n",
    "\n",
    "#0o10 is 8 and floor(8) is 8."
   ]
  },
  {
   "cell_type": "code",
   "execution_count": 176,
   "metadata": {},
   "outputs": [
    {
     "data": {
      "text/plain": [
       "40320"
      ]
     },
     "execution_count": 176,
     "metadata": {},
     "output_type": "execute_result"
    }
   ],
   "source": [
    "math.factorial(0o10)"
   ]
  },
  {
   "cell_type": "code",
   "execution_count": 180,
   "metadata": {},
   "outputs": [
    {
     "name": "stdout",
     "output_type": "stream",
     "text": [
      "(0.7631625, 2)\n"
     ]
    }
   ],
   "source": [
    "x = 3.05265\n",
    "print(math.frexp(x) )"
   ]
  },
  {
   "cell_type": "code",
   "execution_count": 182,
   "metadata": {},
   "outputs": [
    {
     "data": {
      "text/plain": [
       "2.0"
      ]
     },
     "execution_count": 182,
     "metadata": {},
     "output_type": "execute_result"
    }
   ],
   "source": [
    "math.fsum([.1 for i in range(20)])\n",
    "\n",
    "\n",
    "# The function fsum returns an accurate floating point sum of the elements of its argument."
   ]
  },
  {
   "cell_type": "code",
   "execution_count": 184,
   "metadata": {},
   "outputs": [
    {
     "data": {
      "text/plain": [
       "2.0000000000000004"
      ]
     },
     "execution_count": 184,
     "metadata": {},
     "output_type": "execute_result"
    }
   ],
   "source": [
    "sum([.1 for i in range(20)])"
   ]
  },
  {
   "cell_type": "code",
   "execution_count": 183,
   "metadata": {},
   "outputs": [
    {
     "data": {
      "text/plain": [
       "[0.1,\n",
       " 0.1,\n",
       " 0.1,\n",
       " 0.1,\n",
       " 0.1,\n",
       " 0.1,\n",
       " 0.1,\n",
       " 0.1,\n",
       " 0.1,\n",
       " 0.1,\n",
       " 0.1,\n",
       " 0.1,\n",
       " 0.1,\n",
       " 0.1,\n",
       " 0.1,\n",
       " 0.1,\n",
       " 0.1,\n",
       " 0.1,\n",
       " 0.1,\n",
       " 0.1]"
      ]
     },
     "execution_count": 183,
     "metadata": {},
     "output_type": "execute_result"
    }
   ],
   "source": [
    "[.1 for i in range(20)]"
   ]
  },
  {
   "cell_type": "code",
   "execution_count": 186,
   "metadata": {},
   "outputs": [
    {
     "data": {
      "text/plain": [
       "False"
      ]
     },
     "execution_count": 186,
     "metadata": {},
     "output_type": "execute_result"
    }
   ],
   "source": [
    "math.isfinite(float('inf')) #infinity is not a finite number"
   ]
  },
  {
   "cell_type": "code",
   "execution_count": 187,
   "metadata": {},
   "outputs": [
    {
     "data": {
      "text/plain": [
       "False"
      ]
     },
     "execution_count": 187,
     "metadata": {},
     "output_type": "execute_result"
    }
   ],
   "source": [
    "math.isfinite(float('nan')) #nan not a number"
   ]
  },
  {
   "cell_type": "code",
   "execution_count": 189,
   "metadata": {},
   "outputs": [
    {
     "data": {
      "text/plain": [
       "True"
      ]
     },
     "execution_count": 189,
     "metadata": {},
     "output_type": "execute_result"
    }
   ],
   "source": [
    "math.isfinite(float('0.0'))"
   ]
  },
  {
   "cell_type": "code",
   "execution_count": 190,
   "metadata": {},
   "outputs": [
    {
     "data": {
      "text/plain": [
       "nan"
      ]
     },
     "execution_count": 190,
     "metadata": {},
     "output_type": "execute_result"
    }
   ],
   "source": [
    "-float('inf') + float('inf')"
   ]
  },
  {
   "cell_type": "code",
   "execution_count": 191,
   "metadata": {},
   "outputs": [
    {
     "data": {
      "text/plain": [
       "nan"
      ]
     },
     "execution_count": 191,
     "metadata": {},
     "output_type": "execute_result"
    }
   ],
   "source": [
    "float('inf') - float('inf')"
   ]
  },
  {
   "cell_type": "code",
   "execution_count": 192,
   "metadata": {},
   "outputs": [
    {
     "name": "stdout",
     "output_type": "stream",
     "text": [
      "True\n"
     ]
    }
   ],
   "source": [
    "print(math.isinf(float('-inf')))"
   ]
  },
  {
   "cell_type": "code",
   "execution_count": 195,
   "metadata": {},
   "outputs": [
    {
     "name": "stdout",
     "output_type": "stream",
     "text": [
      "1.0\n"
     ]
    }
   ],
   "source": [
    "x = math.ldexp(0.5, 1)\n",
    "print(x)\n",
    "\n",
    "#This is essentially the inverse of frexp()."
   ]
  },
  {
   "cell_type": "code",
   "execution_count": 196,
   "metadata": {},
   "outputs": [
    {
     "data": {
      "text/plain": [
       "(0.0, 1.0)"
      ]
     },
     "execution_count": 196,
     "metadata": {},
     "output_type": "execute_result"
    }
   ],
   "source": [
    "math.modf(1.0)"
   ]
  },
  {
   "cell_type": "code",
   "execution_count": 197,
   "metadata": {},
   "outputs": [
    {
     "data": {
      "text/plain": [
       "3"
      ]
     },
     "execution_count": 197,
     "metadata": {},
     "output_type": "execute_result"
    }
   ],
   "source": [
    "math.trunc(3.1)"
   ]
  },
  {
   "cell_type": "code",
   "execution_count": 202,
   "metadata": {},
   "outputs": [
    {
     "data": {
      "text/plain": [
       "3"
      ]
     },
     "execution_count": 202,
     "metadata": {},
     "output_type": "execute_result"
    }
   ],
   "source": [
    "math.trunc(3.9)"
   ]
  },
  {
   "cell_type": "code",
   "execution_count": 204,
   "metadata": {},
   "outputs": [
    {
     "ename": "TypeError",
     "evalue": "type str doesn't define __trunc__ method",
     "output_type": "error",
     "traceback": [
      "\u001b[1;31m---------------------------------------------------------------------------\u001b[0m",
      "\u001b[1;31mTypeError\u001b[0m                                 Traceback (most recent call last)",
      "\u001b[1;32m<ipython-input-204-3fa8b9a8d9ef>\u001b[0m in \u001b[0;36m<module>\u001b[1;34m\u001b[0m\n\u001b[1;32m----> 1\u001b[1;33m \u001b[0mprint\u001b[0m\u001b[1;33m(\u001b[0m\u001b[0mmath\u001b[0m\u001b[1;33m.\u001b[0m\u001b[0mtrunc\u001b[0m\u001b[1;33m(\u001b[0m\u001b[1;34m'3.1'\u001b[0m\u001b[1;33m)\u001b[0m\u001b[1;33m)\u001b[0m\u001b[1;33m\u001b[0m\u001b[1;33m\u001b[0m\u001b[0m\n\u001b[0m",
      "\u001b[1;31mTypeError\u001b[0m: type str doesn't define __trunc__ method"
     ]
    }
   ],
   "source": [
    "print(math.trunc('3.1'))"
   ]
  },
  {
   "cell_type": "code",
   "execution_count": 206,
   "metadata": {},
   "outputs": [
    {
     "data": {
      "text/plain": [
       "22026.465794806718"
      ]
     },
     "execution_count": 206,
     "metadata": {},
     "output_type": "execute_result"
    }
   ],
   "source": [
    "math.exp(10) #equals to math.e ** p\n",
    "\n",
    "# math.e is the constant defined in the math module"
   ]
  },
  {
   "cell_type": "code",
   "execution_count": 208,
   "metadata": {},
   "outputs": [
    {
     "data": {
      "text/plain": [
       "22025.465794806718"
      ]
     },
     "execution_count": 208,
     "metadata": {},
     "output_type": "execute_result"
    }
   ],
   "source": [
    "math.expm1(10)\n",
    "\n",
    "#One is subtracted from the result of math.exp(p) and returned."
   ]
  },
  {
   "cell_type": "code",
   "execution_count": 210,
   "metadata": {},
   "outputs": [
    {
     "data": {
      "text/plain": [
       "0.6931471805599453"
      ]
     },
     "execution_count": 210,
     "metadata": {},
     "output_type": "execute_result"
    }
   ],
   "source": [
    "math.log(2) "
   ]
  },
  {
   "cell_type": "code",
   "execution_count": 211,
   "metadata": {},
   "outputs": [
    {
     "data": {
      "text/plain": [
       "9"
      ]
     },
     "execution_count": 211,
     "metadata": {},
     "output_type": "execute_result"
    }
   ],
   "source": [
    "int(math.pow(3, 2))"
   ]
  },
  {
   "cell_type": "code",
   "execution_count": 212,
   "metadata": {},
   "outputs": [
    {
     "data": {
      "text/plain": [
       "9.0"
      ]
     },
     "execution_count": 212,
     "metadata": {},
     "output_type": "execute_result"
    }
   ],
   "source": [
    "math.pow(3, 2)"
   ]
  },
  {
   "cell_type": "code",
   "execution_count": 213,
   "metadata": {},
   "outputs": [
    {
     "data": {
      "text/plain": [
       "2.0"
      ]
     },
     "execution_count": 213,
     "metadata": {},
     "output_type": "execute_result"
    }
   ],
   "source": [
    "math.sqrt(4)"
   ]
  },
  {
   "cell_type": "code",
   "execution_count": null,
   "metadata": {},
   "outputs": [],
   "source": []
  },
  {
   "cell_type": "code",
   "execution_count": null,
   "metadata": {},
   "outputs": [],
   "source": []
  },
  {
   "cell_type": "code",
   "execution_count": null,
   "metadata": {},
   "outputs": [],
   "source": []
  },
  {
   "cell_type": "code",
   "execution_count": null,
   "metadata": {},
   "outputs": [],
   "source": []
  },
  {
   "cell_type": "code",
   "execution_count": null,
   "metadata": {},
   "outputs": [],
   "source": []
  },
  {
   "cell_type": "code",
   "execution_count": null,
   "metadata": {},
   "outputs": [],
   "source": []
  },
  {
   "cell_type": "code",
   "execution_count": null,
   "metadata": {},
   "outputs": [],
   "source": []
  },
  {
   "cell_type": "code",
   "execution_count": null,
   "metadata": {},
   "outputs": [],
   "source": []
  },
  {
   "cell_type": "code",
   "execution_count": null,
   "metadata": {},
   "outputs": [],
   "source": []
  },
  {
   "cell_type": "code",
   "execution_count": null,
   "metadata": {},
   "outputs": [],
   "source": []
  },
  {
   "cell_type": "code",
   "execution_count": null,
   "metadata": {},
   "outputs": [],
   "source": []
  },
  {
   "cell_type": "code",
   "execution_count": null,
   "metadata": {},
   "outputs": [],
   "source": []
  },
  {
   "cell_type": "code",
   "execution_count": null,
   "metadata": {},
   "outputs": [],
   "source": []
  }
 ],
 "metadata": {
  "kernelspec": {
   "display_name": "Python 3",
   "language": "python",
   "name": "python3"
  },
  "language_info": {
   "codemirror_mode": {
    "name": "ipython",
    "version": 3
   },
   "file_extension": ".py",
   "mimetype": "text/x-python",
   "name": "python",
   "nbconvert_exporter": "python",
   "pygments_lexer": "ipython3",
   "version": "3.7.4"
  }
 },
 "nbformat": 4,
 "nbformat_minor": 2
}
