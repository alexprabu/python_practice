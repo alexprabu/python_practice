{
 "cells": [
  {
   "cell_type": "code",
   "execution_count": 1,
   "metadata": {},
   "outputs": [
    {
     "name": "stdout",
     "output_type": "stream",
     "text": [
      "AA\tBB\n",
      "CC~DD\n",
      "~\n"
     ]
    }
   ],
   "source": [
    "print(\"AA\\tBB\\nCC\\x7EDD\")\n",
    "print(\"\\x7E\")\n"
   ]
  },
  {
   "cell_type": "code",
   "execution_count": 2,
   "metadata": {},
   "outputs": [
    {
     "data": {
      "text/plain": [
       "'ax'"
      ]
     },
     "execution_count": 2,
     "metadata": {},
     "output_type": "execute_result"
    }
   ],
   "source": [
    "'a' + 'x' if '123'.isdigit() else 'y' + 'b'"
   ]
  },
  {
   "cell_type": "code",
   "execution_count": 3,
   "metadata": {},
   "outputs": [
    {
     "name": "stdout",
     "output_type": "stream",
     "text": [
      "Shopping List\n",
      "item1: Rice\n",
      "item2: Sugar\n"
     ]
    }
   ],
   "source": [
    "print('Shopping List')\n",
    "print(\"item1:\",\"Rice\")\n",
    "print(\"item2:\",\"Sugar\")"
   ]
  },
  {
   "cell_type": "code",
   "execution_count": 4,
   "metadata": {},
   "outputs": [
    {
     "name": "stdout",
     "output_type": "stream",
     "text": [
      "            Shopping List\n",
      "Shopping List            \n"
     ]
    }
   ],
   "source": [
    "print('{0:>25}'.format('Shopping List'))\n",
    "print('{0:<25}'.format('Shopping List'))"
   ]
  },
  {
   "cell_type": "code",
   "execution_count": 5,
   "metadata": {},
   "outputs": [
    {
     "name": "stdout",
     "output_type": "stream",
     "text": [
      "      Shopping List      \n",
      "item1   |    Rice\n",
      "item2   |   Sugar\n"
     ]
    }
   ],
   "source": [
    "print('{0:^25}'.format('Shopping List'))\n",
    "print('{0:8}|{1:>8}'.format(\"item1\",\"Rice\"))\n",
    "print('{0:8}|{1:>8}'.format(\"item2\",\"Sugar\"))"
   ]
  },
  {
   "cell_type": "code",
   "execution_count": 6,
   "metadata": {},
   "outputs": [],
   "source": [
    "f = open('test_file.txt', 'w')\n",
    "f.write(\"Hello, World!\")\n",
    "f.close()"
   ]
  },
  {
   "cell_type": "code",
   "execution_count": 7,
   "metadata": {},
   "outputs": [
    {
     "name": "stdout",
     "output_type": "stream",
     "text": [
      "Hello, World!\n"
     ]
    }
   ],
   "source": [
    "f = open('test_file.txt', 'r')\n",
    "print(f.read())\n",
    "f.close()"
   ]
  },
  {
   "cell_type": "code",
   "execution_count": 8,
   "metadata": {},
   "outputs": [],
   "source": [
    "f = open('test_file.txt', 'a')\n",
    "f.write(\"Hello, World!\")\n",
    "f.close()"
   ]
  },
  {
   "cell_type": "code",
   "execution_count": 9,
   "metadata": {},
   "outputs": [
    {
     "name": "stdout",
     "output_type": "stream",
     "text": [
      "Hello, World!Hello, World!\n"
     ]
    }
   ],
   "source": [
    "f = open('test_file.txt', 'r')\n",
    "print(f.read())\n",
    "f.close()"
   ]
  },
  {
   "cell_type": "code",
   "execution_count": 10,
   "metadata": {},
   "outputs": [],
   "source": [
    "f = open('test_file.txt', 'a+')\n",
    "f.write(\"How are you?\")\n",
    "f.close()"
   ]
  },
  {
   "cell_type": "code",
   "execution_count": 11,
   "metadata": {},
   "outputs": [
    {
     "name": "stdout",
     "output_type": "stream",
     "text": [
      "Hello, World!Hello, World!How are you?\n"
     ]
    }
   ],
   "source": [
    "f = open('test_file.txt', 'r')\n",
    "print(f.read())\n",
    "f.close()"
   ]
  },
  {
   "cell_type": "code",
   "execution_count": 12,
   "metadata": {},
   "outputs": [],
   "source": [
    "f = open('test_file.txt', 'r+')\n",
    "f.write(\"Hello, World!\")\n",
    "f.close()"
   ]
  },
  {
   "cell_type": "code",
   "execution_count": 13,
   "metadata": {},
   "outputs": [
    {
     "name": "stdout",
     "output_type": "stream",
     "text": [
      "Hello, World!Hello, World!How are you?\n"
     ]
    }
   ],
   "source": [
    "f = open('test_file.txt', 'r')\n",
    "print(f.read())\n",
    "f.close()"
   ]
  },
  {
   "cell_type": "code",
   "execution_count": 14,
   "metadata": {},
   "outputs": [],
   "source": [
    "f = open('test_file.txt', 'w+')\n",
    "f.write(\"Hello, World!\")\n",
    "f.close()"
   ]
  },
  {
   "cell_type": "code",
   "execution_count": 15,
   "metadata": {},
   "outputs": [
    {
     "name": "stdout",
     "output_type": "stream",
     "text": [
      "Hello, World!\n"
     ]
    }
   ],
   "source": [
    "f = open('test_file.txt', 'r')\n",
    "print(f.read())\n",
    "f.close()"
   ]
  },
  {
   "cell_type": "code",
   "execution_count": 16,
   "metadata": {},
   "outputs": [
    {
     "ename": "FileExistsError",
     "evalue": "[Errno 17] File exists: 'test_file.txt'",
     "output_type": "error",
     "traceback": [
      "\u001b[1;31m---------------------------------------------------------------------------\u001b[0m",
      "\u001b[1;31mFileExistsError\u001b[0m                           Traceback (most recent call last)",
      "\u001b[1;32m<ipython-input-16-0e3ff44a245f>\u001b[0m in \u001b[0;36m<module>\u001b[1;34m\u001b[0m\n\u001b[1;32m----> 1\u001b[1;33m \u001b[0mf\u001b[0m \u001b[1;33m=\u001b[0m \u001b[0mopen\u001b[0m\u001b[1;33m(\u001b[0m\u001b[1;34m'test_file.txt'\u001b[0m\u001b[1;33m,\u001b[0m \u001b[1;34m'x'\u001b[0m\u001b[1;33m)\u001b[0m\u001b[1;33m\u001b[0m\u001b[1;33m\u001b[0m\u001b[0m\n\u001b[0m\u001b[0;32m      2\u001b[0m \u001b[0mf\u001b[0m\u001b[1;33m.\u001b[0m\u001b[0mwrite\u001b[0m\u001b[1;33m(\u001b[0m\u001b[1;34m\"Hello, World!\"\u001b[0m\u001b[1;33m)\u001b[0m\u001b[1;33m\u001b[0m\u001b[1;33m\u001b[0m\u001b[0m\n\u001b[0;32m      3\u001b[0m \u001b[0mf\u001b[0m\u001b[1;33m.\u001b[0m\u001b[0mclose\u001b[0m\u001b[1;33m(\u001b[0m\u001b[1;33m)\u001b[0m\u001b[1;33m\u001b[0m\u001b[1;33m\u001b[0m\u001b[0m\n",
      "\u001b[1;31mFileExistsError\u001b[0m: [Errno 17] File exists: 'test_file.txt'"
     ]
    }
   ],
   "source": [
    "f = open('test_file.txt', 'x')\n",
    "f.write(\"Hello, World!\")\n",
    "f.close()"
   ]
  },
  {
   "cell_type": "code",
   "execution_count": 17,
   "metadata": {},
   "outputs": [],
   "source": [
    "f = open('test_file.txt', 'w')\n",
    "f.write(\"sample line1 \\n sample line2 \\n sample line3\")\n",
    "f.close()"
   ]
  },
  {
   "cell_type": "code",
   "execution_count": 18,
   "metadata": {},
   "outputs": [
    {
     "name": "stdout",
     "output_type": "stream",
     "text": [
      "sample line1 \n",
      " sample line2 \n",
      " sample line3\n"
     ]
    }
   ],
   "source": [
    "f = open('test_file.txt', 'r')\n",
    "print(f.read())\n",
    "f.close()"
   ]
  },
  {
   "cell_type": "code",
   "execution_count": 19,
   "metadata": {},
   "outputs": [
    {
     "name": "stdout",
     "output_type": "stream",
     "text": [
      "['sample line1 \\n', ' sample line2 \\n', ' sample line3']\n",
      "----------------------------------------------------------------------------------------------------\n",
      "sample line1 \n",
      "\n",
      " sample line2 \n",
      "\n",
      " sample line3\n"
     ]
    }
   ],
   "source": [
    "f = open('test_file.txt', 'r')\n",
    "ls = f.readlines()\n",
    "print(ls)\n",
    "print('-'*100)\n",
    "for line in ls:\n",
    "    print(line)\n",
    "f.close()"
   ]
  },
  {
   "cell_type": "code",
   "execution_count": 20,
   "metadata": {},
   "outputs": [
    {
     "name": "stdout",
     "output_type": "stream",
     "text": [
      "sample line1 \n",
      " sample line2 \n",
      " sample line3\n"
     ]
    }
   ],
   "source": [
    "f = open('test_file.txt', 'r')\n",
    "print(f.read())\n"
   ]
  },
  {
   "cell_type": "code",
   "execution_count": 21,
   "metadata": {},
   "outputs": [
    {
     "name": "stdout",
     "output_type": "stream",
     "text": [
      "\n"
     ]
    }
   ],
   "source": [
    "print(f.read())"
   ]
  },
  {
   "cell_type": "code",
   "execution_count": 22,
   "metadata": {},
   "outputs": [
    {
     "data": {
      "text/plain": [
       "0"
      ]
     },
     "execution_count": 22,
     "metadata": {},
     "output_type": "execute_result"
    }
   ],
   "source": [
    "f.seek(0)"
   ]
  },
  {
   "cell_type": "code",
   "execution_count": 23,
   "metadata": {},
   "outputs": [
    {
     "name": "stdout",
     "output_type": "stream",
     "text": [
      "sample line1 \n",
      " sample line2 \n",
      " sample line3\n"
     ]
    }
   ],
   "source": [
    "print(f.read())"
   ]
  },
  {
   "cell_type": "code",
   "execution_count": 24,
   "metadata": {},
   "outputs": [
    {
     "data": {
      "text/plain": [
       "5"
      ]
     },
     "execution_count": 24,
     "metadata": {},
     "output_type": "execute_result"
    }
   ],
   "source": [
    "f.seek(5)"
   ]
  },
  {
   "cell_type": "code",
   "execution_count": 25,
   "metadata": {},
   "outputs": [
    {
     "name": "stdout",
     "output_type": "stream",
     "text": [
      "e line1 \n",
      " sample line2 \n",
      " sample line3\n"
     ]
    }
   ],
   "source": [
    "print(f.read())"
   ]
  },
  {
   "cell_type": "code",
   "execution_count": 26,
   "metadata": {},
   "outputs": [
    {
     "data": {
      "text/plain": [
       "44"
      ]
     },
     "execution_count": 26,
     "metadata": {},
     "output_type": "execute_result"
    }
   ],
   "source": [
    "f.tell()"
   ]
  },
  {
   "cell_type": "code",
   "execution_count": 27,
   "metadata": {},
   "outputs": [
    {
     "data": {
      "text/plain": [
       "0"
      ]
     },
     "execution_count": 27,
     "metadata": {},
     "output_type": "execute_result"
    }
   ],
   "source": [
    "f.seek(0)"
   ]
  },
  {
   "cell_type": "code",
   "execution_count": 28,
   "metadata": {},
   "outputs": [
    {
     "data": {
      "text/plain": [
       "0"
      ]
     },
     "execution_count": 28,
     "metadata": {},
     "output_type": "execute_result"
    }
   ],
   "source": [
    "f.tell()"
   ]
  },
  {
   "cell_type": "code",
   "execution_count": 29,
   "metadata": {},
   "outputs": [
    {
     "name": "stdout",
     "output_type": "stream",
     "text": [
      "sample line1 \n",
      " sample line2 \n",
      " sample line3\n"
     ]
    }
   ],
   "source": [
    "with open('test_file.txt', 'r') as f:\n",
    "    print(f.read())"
   ]
  },
  {
   "cell_type": "code",
   "execution_count": 30,
   "metadata": {},
   "outputs": [
    {
     "name": "stdout",
     "output_type": "stream",
     "text": [
      "w\n"
     ]
    }
   ],
   "source": [
    "f = open('test_file.txt', 'w')\n",
    "print(f.mode)\n",
    "f.close()"
   ]
  },
  {
   "cell_type": "code",
   "execution_count": null,
   "metadata": {},
   "outputs": [],
   "source": []
  },
  {
   "cell_type": "code",
   "execution_count": 31,
   "metadata": {},
   "outputs": [],
   "source": [
    "f = open('test_file.csv', 'w')\n",
    "f.write(\"a,b,c,d,e,f\")\n",
    "f.close()"
   ]
  },
  {
   "cell_type": "code",
   "execution_count": 32,
   "metadata": {},
   "outputs": [],
   "source": [
    "import csv"
   ]
  },
  {
   "cell_type": "code",
   "execution_count": 33,
   "metadata": {},
   "outputs": [],
   "source": [
    "f = open('test_file.csv', 'r')\n",
    "dataFromCSV = csv.reader(f)"
   ]
  },
  {
   "cell_type": "code",
   "execution_count": 34,
   "metadata": {},
   "outputs": [
    {
     "name": "stdout",
     "output_type": "stream",
     "text": [
      "['a', 'b', 'c', 'd', 'e', 'f']\n"
     ]
    }
   ],
   "source": [
    "for row in dataFromCSV:\n",
    "    print(row)"
   ]
  },
  {
   "cell_type": "code",
   "execution_count": 35,
   "metadata": {},
   "outputs": [
    {
     "name": "stdout",
     "output_type": "stream",
     "text": [
      "a,b,c,d,e,f\n"
     ]
    }
   ],
   "source": [
    "import csv\n",
    "with open('test_file.csv') as csvfile:\n",
    "    spamreader = csv.reader(csvfile, delimiter=' ', quotechar='|')\n",
    "    for row in spamreader:\n",
    "        print(', '.join(row))"
   ]
  },
  {
   "cell_type": "code",
   "execution_count": null,
   "metadata": {},
   "outputs": [],
   "source": []
  },
  {
   "cell_type": "code",
   "execution_count": 36,
   "metadata": {},
   "outputs": [
    {
     "name": "stdout",
     "output_type": "stream",
     "text": [
      "35\n",
      "8\n",
      "test_command_line.py\n"
     ]
    }
   ],
   "source": [
    "!python test_command_line.py 3 5"
   ]
  },
  {
   "cell_type": "code",
   "execution_count": null,
   "metadata": {},
   "outputs": [],
   "source": []
  },
  {
   "cell_type": "code",
   "execution_count": 6,
   "metadata": {},
   "outputs": [],
   "source": [
    "ls = []\n",
    "for i in range(10):\n",
    "    ls.append(i)"
   ]
  },
  {
   "cell_type": "code",
   "execution_count": 5,
   "metadata": {},
   "outputs": [
    {
     "name": "stdout",
     "output_type": "stream",
     "text": [
      "[0, 1, 2, 3, 4, 5, 6, 7, 8, 9]\n"
     ]
    }
   ],
   "source": [
    "print(ls)"
   ]
  },
  {
   "cell_type": "code",
   "execution_count": 8,
   "metadata": {},
   "outputs": [
    {
     "data": {
      "text/plain": [
       "[0, 2, 4, 6, 8]"
      ]
     },
     "execution_count": 8,
     "metadata": {},
     "output_type": "execute_result"
    }
   ],
   "source": [
    "ls[0:10:2]"
   ]
  },
  {
   "cell_type": "code",
   "execution_count": null,
   "metadata": {},
   "outputs": [],
   "source": []
  },
  {
   "cell_type": "code",
   "execution_count": null,
   "metadata": {},
   "outputs": [],
   "source": []
  },
  {
   "cell_type": "code",
   "execution_count": 9,
   "metadata": {},
   "outputs": [
    {
     "data": {
      "text/plain": [
       "[5, 6, 7, 8, 9]"
      ]
     },
     "execution_count": 9,
     "metadata": {},
     "output_type": "execute_result"
    }
   ],
   "source": [
    "ls[5:]"
   ]
  },
  {
   "cell_type": "code",
   "execution_count": 11,
   "metadata": {},
   "outputs": [],
   "source": [
    "from math import sqrt as squareRoot"
   ]
  },
  {
   "cell_type": "code",
   "execution_count": null,
   "metadata": {},
   "outputs": [],
   "source": []
  },
  {
   "cell_type": "code",
   "execution_count": 43,
   "metadata": {},
   "outputs": [],
   "source": [
    "import os\n",
    "def get_first_line(filename, mode):\n",
    "    if os.path.isfile(filename):\n",
    "        with open(filename, mode) as file:\n",
    "            return file.readlines()\n",
    "    else:\n",
    "        return None"
   ]
  },
  {
   "cell_type": "code",
   "execution_count": 44,
   "metadata": {},
   "outputs": [
    {
     "data": {
      "text/plain": [
       "['dsfsdfs \\n', 'hari\\n', 'alex\\n', '\\n', '\\n', 'tst']"
      ]
     },
     "execution_count": 44,
     "metadata": {},
     "output_type": "execute_result"
    }
   ],
   "source": [
    "get_first_line('test_file.txt', 'r')"
   ]
  },
  {
   "cell_type": "code",
   "execution_count": 45,
   "metadata": {},
   "outputs": [
    {
     "name": "stdout",
     "output_type": "stream",
     "text": [
      "25\n",
      "50\n"
     ]
    }
   ],
   "source": [
    "x = 50\n",
    "def fun1():\n",
    "    x = 25\n",
    "    print(x)\n",
    "    \n",
    "fun1()\n",
    "print(x)"
   ]
  },
  {
   "cell_type": "code",
   "execution_count": 46,
   "metadata": {},
   "outputs": [
    {
     "ename": "UnboundLocalError",
     "evalue": "local variable 'x' referenced before assignment",
     "output_type": "error",
     "traceback": [
      "\u001b[1;31m---------------------------------------------------------------------------\u001b[0m",
      "\u001b[1;31mUnboundLocalError\u001b[0m                         Traceback (most recent call last)",
      "\u001b[1;32m<ipython-input-46-ca1ff5502493>\u001b[0m in \u001b[0;36m<module>\u001b[1;34m\u001b[0m\n\u001b[0;32m      4\u001b[0m     \u001b[0mprint\u001b[0m\u001b[1;33m(\u001b[0m\u001b[0mx\u001b[0m\u001b[1;33m)\u001b[0m\u001b[1;33m\u001b[0m\u001b[1;33m\u001b[0m\u001b[0m\n\u001b[0;32m      5\u001b[0m \u001b[1;33m\u001b[0m\u001b[0m\n\u001b[1;32m----> 6\u001b[1;33m \u001b[0mmyfunc\u001b[0m\u001b[1;33m(\u001b[0m\u001b[1;33m)\u001b[0m\u001b[1;33m\u001b[0m\u001b[1;33m\u001b[0m\u001b[0m\n\u001b[0m\u001b[0;32m      7\u001b[0m \u001b[0mprint\u001b[0m\u001b[1;33m(\u001b[0m\u001b[0mx\u001b[0m\u001b[1;33m)\u001b[0m\u001b[1;33m\u001b[0m\u001b[1;33m\u001b[0m\u001b[0m\n",
      "\u001b[1;32m<ipython-input-46-ca1ff5502493>\u001b[0m in \u001b[0;36mmyfunc\u001b[1;34m()\u001b[0m\n\u001b[0;32m      1\u001b[0m \u001b[0mx\u001b[0m \u001b[1;33m=\u001b[0m \u001b[1;36m75\u001b[0m\u001b[1;33m\u001b[0m\u001b[1;33m\u001b[0m\u001b[0m\n\u001b[0;32m      2\u001b[0m \u001b[1;32mdef\u001b[0m \u001b[0mmyfunc\u001b[0m\u001b[1;33m(\u001b[0m\u001b[1;33m)\u001b[0m\u001b[1;33m:\u001b[0m\u001b[1;33m\u001b[0m\u001b[1;33m\u001b[0m\u001b[0m\n\u001b[1;32m----> 3\u001b[1;33m     \u001b[0mx\u001b[0m \u001b[1;33m=\u001b[0m \u001b[0mx\u001b[0m \u001b[1;33m+\u001b[0m \u001b[1;36m1\u001b[0m\u001b[1;33m\u001b[0m\u001b[1;33m\u001b[0m\u001b[0m\n\u001b[0m\u001b[0;32m      4\u001b[0m     \u001b[0mprint\u001b[0m\u001b[1;33m(\u001b[0m\u001b[0mx\u001b[0m\u001b[1;33m)\u001b[0m\u001b[1;33m\u001b[0m\u001b[1;33m\u001b[0m\u001b[0m\n\u001b[0;32m      5\u001b[0m \u001b[1;33m\u001b[0m\u001b[0m\n",
      "\u001b[1;31mUnboundLocalError\u001b[0m: local variable 'x' referenced before assignment"
     ]
    }
   ],
   "source": [
    "x = 75\n",
    "def myfunc():\n",
    "    x = x + 1\n",
    "    print(x)\n",
    "\n",
    "myfunc()\n",
    "print(x)"
   ]
  },
  {
   "cell_type": "code",
   "execution_count": null,
   "metadata": {},
   "outputs": [],
   "source": []
  },
  {
   "cell_type": "code",
   "execution_count": 124,
   "metadata": {},
   "outputs": [
    {
     "name": "stdout",
     "output_type": "stream",
     "text": [
      "['Apple', 'Banana', 'Mango']\n"
     ]
    }
   ],
   "source": [
    "ls = ['Apple','Banana', 'Mango']\n",
    "print(ls)"
   ]
  },
  {
   "cell_type": "code",
   "execution_count": 125,
   "metadata": {},
   "outputs": [
    {
     "name": "stdout",
     "output_type": "stream",
     "text": [
      "Apple\n",
      "Banana\n",
      "Mango\n"
     ]
    }
   ],
   "source": [
    "for item in ls:\n",
    "    print(item)\n",
    "#     print(ls)"
   ]
  },
  {
   "cell_type": "code",
   "execution_count": 126,
   "metadata": {},
   "outputs": [
    {
     "name": "stdout",
     "output_type": "stream",
     "text": [
      "['Apple', 'Banana', 'Mango']\n",
      "['Apple', 'Banana', 'Apple']\n",
      "['Apple', 'Banana', 'Banana']\n",
      "['Apple', 'Banana', 'Banana']\n"
     ]
    }
   ],
   "source": [
    "print(ls)\n",
    "for ls[2] in ls:\n",
    "    print(ls)"
   ]
  },
  {
   "cell_type": "code",
   "execution_count": 131,
   "metadata": {},
   "outputs": [
    {
     "name": "stdout",
     "output_type": "stream",
     "text": [
      "0\n",
      "5\n"
     ]
    }
   ],
   "source": [
    "for i in range(0,10,5):\n",
    "    print(i)"
   ]
  },
  {
   "cell_type": "code",
   "execution_count": 141,
   "metadata": {},
   "outputs": [],
   "source": [
    "\n",
    "def get_rating(age):\n",
    "    rating = \"\"\n",
    "    if age == None:\n",
    "        rating = 'C'\n",
    "    elif age < 13:\n",
    "        rating = 'C'\n",
    "    elif age < 18:\n",
    "        rating = 'T'\n",
    "    else:\n",
    "        rating = 'A'\n",
    "    return rating"
   ]
  },
  {
   "cell_type": "code",
   "execution_count": 148,
   "metadata": {},
   "outputs": [
    {
     "data": {
      "text/plain": [
       "'T'"
      ]
     },
     "execution_count": 148,
     "metadata": {},
     "output_type": "execute_result"
    }
   ],
   "source": [
    "get_rating(13)"
   ]
  },
  {
   "cell_type": "code",
   "execution_count": 158,
   "metadata": {},
   "outputs": [
    {
     "ename": "SyntaxError",
     "evalue": "invalid syntax (<ipython-input-158-e677cfcae335>, line 3)",
     "output_type": "error",
     "traceback": [
      "\u001b[1;36m  File \u001b[1;32m\"<ipython-input-158-e677cfcae335>\"\u001b[1;36m, line \u001b[1;32m3\u001b[0m\n\u001b[1;33m    get_rating(i+=15)\u001b[0m\n\u001b[1;37m                 ^\u001b[0m\n\u001b[1;31mSyntaxError\u001b[0m\u001b[1;31m:\u001b[0m invalid syntax\n"
     ]
    }
   ],
   "source": [
    "i = 15\n",
    "i+=15\n",
    "get_rating(i+=15)"
   ]
  },
  {
   "cell_type": "code",
   "execution_count": 161,
   "metadata": {
    "scrolled": true
   },
   "outputs": [
    {
     "name": "stdout",
     "output_type": "stream",
     "text": [
      "\n",
      "Here is a list of the Python keywords.  Enter any keyword to get more help.\n",
      "\n",
      "False               class               from                or\n",
      "None                continue            global              pass\n",
      "True                def                 if                  raise\n",
      "and                 del                 import              return\n",
      "as                  elif                in                  try\n",
      "assert              else                is                  while\n",
      "async               except              lambda              with\n",
      "await               finally             nonlocal            yield\n",
      "break               for                 not                 \n",
      "\n"
     ]
    }
   ],
   "source": [
    "help(\"keywords\")"
   ]
  },
  {
   "cell_type": "code",
   "execution_count": 162,
   "metadata": {},
   "outputs": [
    {
     "name": "stdout",
     "output_type": "stream",
     "text": [
      "0\n"
     ]
    }
   ],
   "source": [
    "print(2%2)"
   ]
  },
  {
   "cell_type": "code",
   "execution_count": 166,
   "metadata": {},
   "outputs": [
    {
     "name": "stdout",
     "output_type": "stream",
     "text": [
      "2\n",
      "print:  2\n",
      "3\n",
      "2 3\n",
      "print:  3\n",
      "4\n",
      "2 4\n",
      "5\n",
      "2 5\n",
      "3 5\n",
      "4 5\n",
      "print:  5\n",
      "6\n",
      "2 6\n",
      "7\n",
      "2 7\n",
      "3 7\n",
      "4 7\n",
      "5 7\n",
      "6 7\n",
      "print:  7\n",
      "8\n",
      "2 8\n",
      "9\n",
      "2 9\n",
      "3 9\n",
      "10\n",
      "2 10\n",
      "11\n",
      "2 11\n",
      "3 11\n",
      "4 11\n",
      "5 11\n",
      "6 11\n",
      "7 11\n",
      "8 11\n",
      "9 11\n",
      "10 11\n",
      "print:  11\n",
      "12\n",
      "2 12\n",
      "13\n",
      "2 13\n",
      "3 13\n",
      "4 13\n",
      "5 13\n",
      "6 13\n",
      "7 13\n",
      "8 13\n",
      "9 13\n",
      "10 13\n",
      "11 13\n",
      "12 13\n",
      "print:  13\n",
      "14\n",
      "2 14\n",
      "15\n",
      "2 15\n",
      "3 15\n",
      "16\n",
      "2 16\n",
      "17\n",
      "2 17\n",
      "3 17\n",
      "4 17\n",
      "5 17\n",
      "6 17\n",
      "7 17\n",
      "8 17\n",
      "9 17\n",
      "10 17\n",
      "11 17\n",
      "12 17\n",
      "13 17\n",
      "14 17\n",
      "15 17\n",
      "16 17\n",
      "print:  17\n",
      "18\n",
      "2 18\n",
      "19\n",
      "2 19\n",
      "3 19\n",
      "4 19\n",
      "5 19\n",
      "6 19\n",
      "7 19\n",
      "8 19\n",
      "9 19\n",
      "10 19\n",
      "11 19\n",
      "12 19\n",
      "13 19\n",
      "14 19\n",
      "15 19\n",
      "16 19\n",
      "17 19\n",
      "18 19\n",
      "print:  19\n",
      "20\n",
      "2 20\n",
      "21\n",
      "2 21\n",
      "3 21\n",
      "22\n",
      "2 22\n",
      "23\n",
      "2 23\n",
      "3 23\n",
      "4 23\n",
      "5 23\n",
      "6 23\n",
      "7 23\n",
      "8 23\n",
      "9 23\n",
      "10 23\n",
      "11 23\n",
      "12 23\n",
      "13 23\n",
      "14 23\n",
      "15 23\n",
      "16 23\n",
      "17 23\n",
      "18 23\n",
      "19 23\n",
      "20 23\n",
      "21 23\n",
      "22 23\n",
      "print:  23\n",
      "24\n",
      "2 24\n",
      "25\n",
      "2 25\n",
      "3 25\n",
      "4 25\n",
      "5 25\n",
      "26\n",
      "2 26\n",
      "27\n",
      "2 27\n",
      "3 27\n",
      "28\n",
      "2 28\n",
      "29\n",
      "2 29\n",
      "3 29\n",
      "4 29\n",
      "5 29\n",
      "6 29\n",
      "7 29\n",
      "8 29\n",
      "9 29\n",
      "10 29\n",
      "11 29\n",
      "12 29\n",
      "13 29\n",
      "14 29\n",
      "15 29\n",
      "16 29\n",
      "17 29\n",
      "18 29\n",
      "19 29\n",
      "20 29\n",
      "21 29\n",
      "22 29\n",
      "23 29\n",
      "24 29\n",
      "25 29\n",
      "26 29\n",
      "27 29\n",
      "28 29\n",
      "print:  29\n",
      "30\n",
      "2 30\n",
      "31\n",
      "2 31\n",
      "3 31\n",
      "4 31\n",
      "5 31\n",
      "6 31\n",
      "7 31\n",
      "8 31\n",
      "9 31\n",
      "10 31\n",
      "11 31\n",
      "12 31\n",
      "13 31\n",
      "14 31\n",
      "15 31\n",
      "16 31\n",
      "17 31\n",
      "18 31\n",
      "19 31\n",
      "20 31\n",
      "21 31\n",
      "22 31\n",
      "23 31\n",
      "24 31\n",
      "25 31\n",
      "26 31\n",
      "27 31\n",
      "28 31\n",
      "29 31\n",
      "30 31\n",
      "print:  31\n",
      "32\n",
      "2 32\n",
      "33\n",
      "2 33\n",
      "3 33\n",
      "34\n",
      "2 34\n",
      "35\n",
      "2 35\n",
      "3 35\n",
      "4 35\n",
      "5 35\n",
      "36\n",
      "2 36\n",
      "37\n",
      "2 37\n",
      "3 37\n",
      "4 37\n",
      "5 37\n",
      "6 37\n",
      "7 37\n",
      "8 37\n",
      "9 37\n",
      "10 37\n",
      "11 37\n",
      "12 37\n",
      "13 37\n",
      "14 37\n",
      "15 37\n",
      "16 37\n",
      "17 37\n",
      "18 37\n",
      "19 37\n",
      "20 37\n",
      "21 37\n",
      "22 37\n",
      "23 37\n",
      "24 37\n",
      "25 37\n",
      "26 37\n",
      "27 37\n",
      "28 37\n",
      "29 37\n",
      "30 37\n",
      "31 37\n",
      "32 37\n",
      "33 37\n",
      "34 37\n",
      "35 37\n",
      "36 37\n",
      "print:  37\n",
      "38\n",
      "2 38\n",
      "39\n",
      "2 39\n",
      "3 39\n",
      "40\n",
      "2 40\n",
      "41\n",
      "2 41\n",
      "3 41\n",
      "4 41\n",
      "5 41\n",
      "6 41\n",
      "7 41\n",
      "8 41\n",
      "9 41\n",
      "10 41\n",
      "11 41\n",
      "12 41\n",
      "13 41\n",
      "14 41\n",
      "15 41\n",
      "16 41\n",
      "17 41\n",
      "18 41\n",
      "19 41\n",
      "20 41\n",
      "21 41\n",
      "22 41\n",
      "23 41\n",
      "24 41\n",
      "25 41\n",
      "26 41\n",
      "27 41\n",
      "28 41\n",
      "29 41\n",
      "30 41\n",
      "31 41\n",
      "32 41\n",
      "33 41\n",
      "34 41\n",
      "35 41\n",
      "36 41\n",
      "37 41\n",
      "38 41\n",
      "39 41\n",
      "40 41\n",
      "print:  41\n",
      "42\n",
      "2 42\n",
      "43\n",
      "2 43\n",
      "3 43\n",
      "4 43\n",
      "5 43\n",
      "6 43\n",
      "7 43\n",
      "8 43\n",
      "9 43\n",
      "10 43\n",
      "11 43\n",
      "12 43\n",
      "13 43\n",
      "14 43\n",
      "15 43\n",
      "16 43\n",
      "17 43\n",
      "18 43\n",
      "19 43\n",
      "20 43\n",
      "21 43\n",
      "22 43\n",
      "23 43\n",
      "24 43\n",
      "25 43\n",
      "26 43\n",
      "27 43\n",
      "28 43\n",
      "29 43\n",
      "30 43\n",
      "31 43\n",
      "32 43\n",
      "33 43\n",
      "34 43\n",
      "35 43\n",
      "36 43\n",
      "37 43\n",
      "38 43\n",
      "39 43\n",
      "40 43\n",
      "41 43\n",
      "42 43\n",
      "print:  43\n",
      "44\n",
      "2 44\n",
      "45\n",
      "2 45\n",
      "3 45\n",
      "46\n",
      "2 46\n",
      "47\n",
      "2 47\n",
      "3 47\n",
      "4 47\n",
      "5 47\n",
      "6 47\n",
      "7 47\n",
      "8 47\n",
      "9 47\n",
      "10 47\n",
      "11 47\n",
      "12 47\n",
      "13 47\n",
      "14 47\n",
      "15 47\n",
      "16 47\n",
      "17 47\n",
      "18 47\n",
      "19 47\n",
      "20 47\n",
      "21 47\n",
      "22 47\n",
      "23 47\n",
      "24 47\n",
      "25 47\n",
      "26 47\n",
      "27 47\n",
      "28 47\n",
      "29 47\n",
      "30 47\n",
      "31 47\n",
      "32 47\n",
      "33 47\n",
      "34 47\n",
      "35 47\n",
      "36 47\n",
      "37 47\n",
      "38 47\n",
      "39 47\n",
      "40 47\n",
      "41 47\n",
      "42 47\n",
      "43 47\n",
      "44 47\n",
      "45 47\n",
      "46 47\n",
      "print:  47\n",
      "48\n",
      "2 48\n",
      "49\n",
      "2 49\n",
      "3 49\n",
      "4 49\n",
      "5 49\n",
      "6 49\n",
      "7 49\n",
      "50\n",
      "2 50\n",
      "51\n",
      "2 51\n",
      "3 51\n",
      "52\n",
      "2 52\n",
      "53\n",
      "2 53\n",
      "3 53\n",
      "4 53\n",
      "5 53\n",
      "6 53\n",
      "7 53\n",
      "8 53\n",
      "9 53\n",
      "10 53\n",
      "11 53\n",
      "12 53\n",
      "13 53\n",
      "14 53\n",
      "15 53\n",
      "16 53\n",
      "17 53\n",
      "18 53\n",
      "19 53\n",
      "20 53\n",
      "21 53\n",
      "22 53\n",
      "23 53\n",
      "24 53\n",
      "25 53\n",
      "26 53\n",
      "27 53\n",
      "28 53\n",
      "29 53\n",
      "30 53\n",
      "31 53\n",
      "32 53\n",
      "33 53\n",
      "34 53\n",
      "35 53\n",
      "36 53\n",
      "37 53\n",
      "38 53\n",
      "39 53\n",
      "40 53\n",
      "41 53\n",
      "42 53\n",
      "43 53\n",
      "44 53\n",
      "45 53\n",
      "46 53\n",
      "47 53\n",
      "48 53\n",
      "49 53\n",
      "50 53\n",
      "51 53\n",
      "52 53\n",
      "print:  53\n",
      "54\n",
      "2 54\n",
      "55\n",
      "2 55\n",
      "3 55\n",
      "4 55\n",
      "5 55\n",
      "56\n",
      "2 56\n",
      "57\n",
      "2 57\n",
      "3 57\n",
      "58\n",
      "2 58\n",
      "59\n",
      "2 59\n",
      "3 59\n",
      "4 59\n",
      "5 59\n",
      "6 59\n",
      "7 59\n",
      "8 59\n",
      "9 59\n",
      "10 59\n",
      "11 59\n",
      "12 59\n",
      "13 59\n",
      "14 59\n",
      "15 59\n",
      "16 59\n",
      "17 59\n",
      "18 59\n",
      "19 59\n",
      "20 59\n",
      "21 59\n",
      "22 59\n",
      "23 59\n",
      "24 59\n",
      "25 59\n",
      "26 59\n",
      "27 59\n",
      "28 59\n",
      "29 59\n",
      "30 59\n",
      "31 59\n",
      "32 59\n",
      "33 59\n",
      "34 59\n",
      "35 59\n",
      "36 59\n",
      "37 59\n",
      "38 59\n",
      "39 59\n",
      "40 59\n",
      "41 59\n",
      "42 59\n",
      "43 59\n",
      "44 59\n",
      "45 59\n",
      "46 59\n",
      "47 59\n",
      "48 59\n",
      "49 59\n",
      "50 59\n",
      "51 59\n",
      "52 59\n",
      "53 59\n",
      "54 59\n",
      "55 59\n",
      "56 59\n",
      "57 59\n",
      "58 59\n",
      "print:  59\n",
      "60\n",
      "2 60\n",
      "61\n",
      "2 61\n",
      "3 61\n",
      "4 61\n",
      "5 61\n",
      "6 61\n",
      "7 61\n",
      "8 61\n",
      "9 61\n",
      "10 61\n",
      "11 61\n",
      "12 61\n",
      "13 61\n",
      "14 61\n",
      "15 61\n",
      "16 61\n",
      "17 61\n",
      "18 61\n",
      "19 61\n",
      "20 61\n",
      "21 61\n",
      "22 61\n",
      "23 61\n",
      "24 61\n",
      "25 61\n",
      "26 61\n",
      "27 61\n",
      "28 61\n",
      "29 61\n",
      "30 61\n",
      "31 61\n",
      "32 61\n",
      "33 61\n",
      "34 61\n",
      "35 61\n",
      "36 61\n",
      "37 61\n",
      "38 61\n",
      "39 61\n",
      "40 61\n",
      "41 61\n",
      "42 61\n",
      "43 61\n",
      "44 61\n",
      "45 61\n",
      "46 61\n",
      "47 61\n",
      "48 61\n",
      "49 61\n",
      "50 61\n",
      "51 61\n",
      "52 61\n",
      "53 61\n",
      "54 61\n",
      "55 61\n",
      "56 61\n",
      "57 61\n",
      "58 61\n",
      "59 61\n",
      "60 61\n",
      "print:  61\n",
      "62\n",
      "2 62\n",
      "63\n",
      "2 63\n",
      "3 63\n",
      "64\n",
      "2 64\n",
      "65\n",
      "2 65\n",
      "3 65\n",
      "4 65\n",
      "5 65\n",
      "66\n",
      "2 66\n",
      "67\n",
      "2 67\n",
      "3 67\n",
      "4 67\n",
      "5 67\n",
      "6 67\n",
      "7 67\n",
      "8 67\n",
      "9 67\n",
      "10 67\n",
      "11 67\n",
      "12 67\n",
      "13 67\n",
      "14 67\n",
      "15 67\n",
      "16 67\n",
      "17 67\n",
      "18 67\n",
      "19 67\n",
      "20 67\n",
      "21 67\n",
      "22 67\n",
      "23 67\n",
      "24 67\n",
      "25 67\n",
      "26 67\n",
      "27 67\n",
      "28 67\n",
      "29 67\n",
      "30 67\n",
      "31 67\n",
      "32 67\n",
      "33 67\n",
      "34 67\n",
      "35 67\n",
      "36 67\n",
      "37 67\n",
      "38 67\n",
      "39 67\n",
      "40 67\n",
      "41 67\n",
      "42 67\n",
      "43 67\n",
      "44 67\n",
      "45 67\n",
      "46 67\n",
      "47 67\n",
      "48 67\n",
      "49 67\n",
      "50 67\n",
      "51 67\n",
      "52 67\n",
      "53 67\n",
      "54 67\n",
      "55 67\n",
      "56 67\n",
      "57 67\n",
      "58 67\n",
      "59 67\n",
      "60 67\n",
      "61 67\n",
      "62 67\n",
      "63 67\n",
      "64 67\n",
      "65 67\n",
      "66 67\n",
      "print:  67\n",
      "68\n",
      "2 68\n",
      "69\n",
      "2 69\n",
      "3 69\n",
      "70\n",
      "2 70\n",
      "71\n",
      "2 71\n",
      "3 71\n",
      "4 71\n",
      "5 71\n",
      "6 71\n",
      "7 71\n",
      "8 71\n",
      "9 71\n",
      "10 71\n",
      "11 71\n",
      "12 71\n",
      "13 71\n",
      "14 71\n",
      "15 71\n",
      "16 71\n",
      "17 71\n",
      "18 71\n",
      "19 71\n",
      "20 71\n",
      "21 71\n",
      "22 71\n",
      "23 71\n",
      "24 71\n",
      "25 71\n",
      "26 71\n",
      "27 71\n",
      "28 71\n",
      "29 71\n",
      "30 71\n",
      "31 71\n",
      "32 71\n",
      "33 71\n",
      "34 71\n",
      "35 71\n",
      "36 71\n",
      "37 71\n",
      "38 71\n",
      "39 71\n",
      "40 71\n",
      "41 71\n",
      "42 71\n",
      "43 71\n",
      "44 71\n",
      "45 71\n",
      "46 71\n",
      "47 71\n",
      "48 71\n",
      "49 71\n",
      "50 71\n",
      "51 71\n",
      "52 71\n",
      "53 71\n",
      "54 71\n",
      "55 71\n",
      "56 71\n",
      "57 71\n",
      "58 71\n",
      "59 71\n",
      "60 71\n",
      "61 71\n",
      "62 71\n",
      "63 71\n",
      "64 71\n",
      "65 71\n",
      "66 71\n",
      "67 71\n",
      "68 71\n",
      "69 71\n",
      "70 71\n",
      "print:  71\n",
      "72\n",
      "2 72\n",
      "73\n",
      "2 73\n",
      "3 73\n",
      "4 73\n",
      "5 73\n",
      "6 73\n",
      "7 73\n",
      "8 73\n",
      "9 73\n",
      "10 73\n",
      "11 73\n",
      "12 73\n",
      "13 73\n",
      "14 73\n",
      "15 73\n",
      "16 73\n",
      "17 73\n",
      "18 73\n",
      "19 73\n",
      "20 73\n",
      "21 73\n",
      "22 73\n",
      "23 73\n",
      "24 73\n",
      "25 73\n",
      "26 73\n",
      "27 73\n",
      "28 73\n",
      "29 73\n",
      "30 73\n",
      "31 73\n",
      "32 73\n",
      "33 73\n",
      "34 73\n",
      "35 73\n",
      "36 73\n",
      "37 73\n",
      "38 73\n",
      "39 73\n",
      "40 73\n",
      "41 73\n",
      "42 73\n",
      "43 73\n",
      "44 73\n",
      "45 73\n",
      "46 73\n",
      "47 73\n",
      "48 73\n",
      "49 73\n",
      "50 73\n",
      "51 73\n",
      "52 73\n",
      "53 73\n",
      "54 73\n",
      "55 73\n",
      "56 73\n",
      "57 73\n",
      "58 73\n",
      "59 73\n",
      "60 73\n",
      "61 73\n",
      "62 73\n",
      "63 73\n",
      "64 73\n",
      "65 73\n",
      "66 73\n",
      "67 73\n",
      "68 73\n",
      "69 73\n",
      "70 73\n",
      "71 73\n",
      "72 73\n",
      "print:  73\n",
      "74\n",
      "2 74\n",
      "75\n",
      "2 75\n",
      "3 75\n",
      "76\n",
      "2 76\n",
      "77\n",
      "2 77\n",
      "3 77\n",
      "4 77\n",
      "5 77\n",
      "6 77\n",
      "7 77\n",
      "78\n",
      "2 78\n",
      "79\n",
      "2 79\n",
      "3 79\n",
      "4 79\n",
      "5 79\n",
      "6 79\n",
      "7 79\n",
      "8 79\n",
      "9 79\n",
      "10 79\n",
      "11 79\n",
      "12 79\n",
      "13 79\n",
      "14 79\n",
      "15 79\n",
      "16 79\n",
      "17 79\n",
      "18 79\n",
      "19 79\n",
      "20 79\n",
      "21 79\n",
      "22 79\n",
      "23 79\n",
      "24 79\n",
      "25 79\n",
      "26 79\n",
      "27 79\n",
      "28 79\n",
      "29 79\n",
      "30 79\n",
      "31 79\n",
      "32 79\n",
      "33 79\n",
      "34 79\n",
      "35 79\n",
      "36 79\n",
      "37 79\n",
      "38 79\n",
      "39 79\n",
      "40 79\n",
      "41 79\n",
      "42 79\n",
      "43 79\n",
      "44 79\n",
      "45 79\n",
      "46 79\n",
      "47 79\n",
      "48 79\n",
      "49 79\n",
      "50 79\n",
      "51 79\n",
      "52 79\n",
      "53 79\n",
      "54 79\n",
      "55 79\n",
      "56 79\n",
      "57 79\n",
      "58 79\n",
      "59 79\n",
      "60 79\n",
      "61 79\n",
      "62 79\n",
      "63 79\n",
      "64 79\n",
      "65 79\n",
      "66 79\n",
      "67 79\n",
      "68 79\n",
      "69 79\n",
      "70 79\n",
      "71 79\n",
      "72 79\n",
      "73 79\n",
      "74 79\n",
      "75 79\n",
      "76 79\n",
      "77 79\n",
      "78 79\n",
      "print:  79\n",
      "80\n",
      "2 80\n",
      "81\n",
      "2 81\n",
      "3 81\n",
      "82\n",
      "2 82\n",
      "83\n",
      "2 83\n",
      "3 83\n",
      "4 83\n",
      "5 83\n",
      "6 83\n",
      "7 83\n",
      "8 83\n",
      "9 83\n",
      "10 83\n",
      "11 83\n",
      "12 83\n",
      "13 83\n",
      "14 83\n",
      "15 83\n",
      "16 83\n",
      "17 83\n",
      "18 83\n",
      "19 83\n",
      "20 83\n",
      "21 83\n",
      "22 83\n",
      "23 83\n",
      "24 83\n",
      "25 83\n",
      "26 83\n",
      "27 83\n",
      "28 83\n",
      "29 83\n",
      "30 83\n",
      "31 83\n",
      "32 83\n",
      "33 83\n",
      "34 83\n",
      "35 83\n",
      "36 83\n",
      "37 83\n",
      "38 83\n",
      "39 83\n",
      "40 83\n",
      "41 83\n",
      "42 83\n",
      "43 83\n",
      "44 83\n",
      "45 83\n",
      "46 83\n",
      "47 83\n",
      "48 83\n",
      "49 83\n",
      "50 83\n",
      "51 83\n",
      "52 83\n",
      "53 83\n",
      "54 83\n",
      "55 83\n",
      "56 83\n",
      "57 83\n",
      "58 83\n",
      "59 83\n",
      "60 83\n",
      "61 83\n",
      "62 83\n",
      "63 83\n",
      "64 83\n",
      "65 83\n",
      "66 83\n",
      "67 83\n",
      "68 83\n",
      "69 83\n",
      "70 83\n",
      "71 83\n",
      "72 83\n",
      "73 83\n",
      "74 83\n",
      "75 83\n",
      "76 83\n",
      "77 83\n",
      "78 83\n",
      "79 83\n",
      "80 83\n",
      "81 83\n",
      "82 83\n",
      "print:  83\n",
      "84\n",
      "2 84\n",
      "85\n",
      "2 85\n",
      "3 85\n",
      "4 85\n",
      "5 85\n",
      "86\n",
      "2 86\n",
      "87\n",
      "2 87\n",
      "3 87\n",
      "88\n",
      "2 88\n",
      "89\n",
      "2 89\n",
      "3 89\n",
      "4 89\n",
      "5 89\n",
      "6 89\n",
      "7 89\n",
      "8 89\n",
      "9 89\n",
      "10 89\n",
      "11 89\n",
      "12 89\n",
      "13 89\n",
      "14 89\n",
      "15 89\n",
      "16 89\n",
      "17 89\n",
      "18 89\n",
      "19 89\n",
      "20 89\n",
      "21 89\n",
      "22 89\n",
      "23 89\n",
      "24 89\n",
      "25 89\n",
      "26 89\n",
      "27 89\n",
      "28 89\n",
      "29 89\n",
      "30 89\n",
      "31 89\n",
      "32 89\n",
      "33 89\n",
      "34 89\n",
      "35 89\n",
      "36 89\n",
      "37 89\n",
      "38 89\n",
      "39 89\n",
      "40 89\n",
      "41 89\n",
      "42 89\n",
      "43 89\n",
      "44 89\n",
      "45 89\n",
      "46 89\n",
      "47 89\n",
      "48 89\n",
      "49 89\n",
      "50 89\n",
      "51 89\n",
      "52 89\n",
      "53 89\n",
      "54 89\n",
      "55 89\n",
      "56 89\n",
      "57 89\n",
      "58 89\n",
      "59 89\n",
      "60 89\n",
      "61 89\n",
      "62 89\n",
      "63 89\n",
      "64 89\n",
      "65 89\n",
      "66 89\n",
      "67 89\n",
      "68 89\n",
      "69 89\n",
      "70 89\n",
      "71 89\n",
      "72 89\n",
      "73 89\n",
      "74 89\n",
      "75 89\n",
      "76 89\n",
      "77 89\n",
      "78 89\n",
      "79 89\n",
      "80 89\n",
      "81 89\n",
      "82 89\n",
      "83 89\n",
      "84 89\n",
      "85 89\n",
      "86 89\n",
      "87 89\n",
      "88 89\n",
      "print:  89\n",
      "90\n",
      "2 90\n",
      "91\n",
      "2 91\n",
      "3 91\n",
      "4 91\n",
      "5 91\n",
      "6 91\n",
      "7 91\n",
      "92\n",
      "2 92\n",
      "93\n",
      "2 93\n",
      "3 93\n",
      "94\n",
      "2 94\n",
      "95\n",
      "2 95\n",
      "3 95\n",
      "4 95\n",
      "5 95\n",
      "96\n",
      "2 96\n",
      "97\n",
      "2 97\n",
      "3 97\n",
      "4 97\n",
      "5 97\n",
      "6 97\n",
      "7 97\n",
      "8 97\n",
      "9 97\n",
      "10 97\n",
      "11 97\n",
      "12 97\n",
      "13 97\n",
      "14 97\n",
      "15 97\n",
      "16 97\n",
      "17 97\n",
      "18 97\n",
      "19 97\n",
      "20 97\n",
      "21 97\n",
      "22 97\n",
      "23 97\n",
      "24 97\n",
      "25 97\n",
      "26 97\n",
      "27 97\n",
      "28 97\n",
      "29 97\n",
      "30 97\n",
      "31 97\n",
      "32 97\n",
      "33 97\n",
      "34 97\n",
      "35 97\n",
      "36 97\n",
      "37 97\n",
      "38 97\n",
      "39 97\n",
      "40 97\n",
      "41 97\n",
      "42 97\n",
      "43 97\n",
      "44 97\n",
      "45 97\n",
      "46 97\n",
      "47 97\n",
      "48 97\n",
      "49 97\n",
      "50 97\n",
      "51 97\n",
      "52 97\n",
      "53 97\n",
      "54 97\n",
      "55 97\n",
      "56 97\n",
      "57 97\n",
      "58 97\n",
      "59 97\n",
      "60 97\n",
      "61 97\n",
      "62 97\n",
      "63 97\n",
      "64 97\n",
      "65 97\n",
      "66 97\n",
      "67 97\n",
      "68 97\n",
      "69 97\n",
      "70 97\n",
      "71 97\n",
      "72 97\n",
      "73 97\n",
      "74 97\n",
      "75 97\n",
      "76 97\n",
      "77 97\n",
      "78 97\n",
      "79 97\n",
      "80 97\n",
      "81 97\n",
      "82 97\n",
      "83 97\n",
      "84 97\n",
      "85 97\n",
      "86 97\n",
      "87 97\n",
      "88 97\n",
      "89 97\n",
      "90 97\n",
      "91 97\n",
      "92 97\n",
      "93 97\n",
      "94 97\n",
      "95 97\n",
      "96 97\n",
      "print:  97\n",
      "98\n",
      "2 98\n",
      "99\n",
      "2 99\n",
      "3 99\n",
      "100\n",
      "2 100\n"
     ]
    }
   ],
   "source": [
    "p = 2\n",
    "while p<=100:\n",
    "    is_prime = True\n",
    "    print(p)\n",
    "    for i in range(2, p):\n",
    "        print(i, p)\n",
    "        if p%i == 0:\n",
    "            is_prime = False\n",
    "            break\n",
    "    if is_prime == True:\n",
    "        print(\"print: \",p)\n",
    "    p += 1"
   ]
  },
  {
   "cell_type": "code",
   "execution_count": 172,
   "metadata": {},
   "outputs": [
    {
     "name": "stdout",
     "output_type": "stream",
     "text": [
      "2\n"
     ]
    }
   ],
   "source": [
    "for i in range(2,3, 1):\n",
    "    print(i)"
   ]
  },
  {
   "cell_type": "code",
   "execution_count": 175,
   "metadata": {},
   "outputs": [
    {
     "data": {
      "text/plain": [
       "[]"
      ]
     },
     "execution_count": 175,
     "metadata": {},
     "output_type": "execute_result"
    }
   ],
   "source": [
    "ls = ['a','b','c']\n",
    "ls[1:1]"
   ]
  },
  {
   "cell_type": "code",
   "execution_count": null,
   "metadata": {},
   "outputs": [],
   "source": []
  },
  {
   "cell_type": "code",
   "execution_count": null,
   "metadata": {},
   "outputs": [],
   "source": []
  },
  {
   "cell_type": "code",
   "execution_count": 94,
   "metadata": {},
   "outputs": [
    {
     "name": "stdout",
     "output_type": "stream",
     "text": [
      "3\n",
      "List:  0\n",
      "List:  1\n",
      "List:  2\n",
      "List:  2\n"
     ]
    }
   ],
   "source": [
    "ls = [0,1,2,3]\n",
    "print(ls[3])\n",
    "for ls[3] in ls:\n",
    "#     print(\"i: \", i)\n",
    "    print(\"List: \", ls[3])"
   ]
  }
 ],
 "metadata": {
  "kernelspec": {
   "display_name": "Python 3",
   "language": "python",
   "name": "python3"
  },
  "language_info": {
   "codemirror_mode": {
    "name": "ipython",
    "version": 3
   },
   "file_extension": ".py",
   "mimetype": "text/x-python",
   "name": "python",
   "nbconvert_exporter": "python",
   "pygments_lexer": "ipython3",
   "version": "3.7.4"
  }
 },
 "nbformat": 4,
 "nbformat_minor": 2
}
