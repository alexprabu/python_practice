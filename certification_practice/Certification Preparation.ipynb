{
 "cells": [
  {
   "cell_type": "code",
   "execution_count": null,
   "metadata": {},
   "outputs": [],
   "source": [
    "print(\"AA\\tBB\\nCC\\x7EDD\")\n",
    "print(\"\\x7E\")\n"
   ]
  },
  {
   "cell_type": "code",
   "execution_count": null,
   "metadata": {},
   "outputs": [],
   "source": [
    "'a' + 'x' if '123'.isdigit() else 'y' + 'b'"
   ]
  },
  {
   "cell_type": "code",
   "execution_count": null,
   "metadata": {},
   "outputs": [],
   "source": [
    "print('Shopping List')\n",
    "print(\"item1:\",\"Rice\")\n",
    "print(\"item2:\",\"Sugar\")"
   ]
  },
  {
   "cell_type": "code",
   "execution_count": null,
   "metadata": {},
   "outputs": [],
   "source": [
    "print('{0:>25}'.format('Shopping List'))\n",
    "print('{0:<25}'.format('Shopping List'))"
   ]
  },
  {
   "cell_type": "code",
   "execution_count": null,
   "metadata": {},
   "outputs": [],
   "source": [
    "print('{0:^25}'.format('Shopping List'))\n",
    "print('{0:8}|{1:>8}'.format(\"item1\",\"Rice\"))\n",
    "print('{0:8}|{1:>8}'.format(\"item2\",\"Sugar\"))"
   ]
  },
  {
   "cell_type": "code",
   "execution_count": null,
   "metadata": {},
   "outputs": [],
   "source": [
    "f = open('test_file.txt', 'w')\n",
    "f.write(\"Hello, World!\")\n",
    "f.close()"
   ]
  },
  {
   "cell_type": "code",
   "execution_count": null,
   "metadata": {},
   "outputs": [],
   "source": [
    "f = open('test_file.txt', 'r')\n",
    "print(f.read())\n",
    "f.close()"
   ]
  },
  {
   "cell_type": "code",
   "execution_count": null,
   "metadata": {},
   "outputs": [],
   "source": [
    "f = open('test_file.txt', 'a')\n",
    "f.write(\"Hello, World!\")\n",
    "f.close()"
   ]
  },
  {
   "cell_type": "code",
   "execution_count": null,
   "metadata": {},
   "outputs": [],
   "source": [
    "f = open('test_file.txt', 'r')\n",
    "print(f.read())\n",
    "f.close()"
   ]
  },
  {
   "cell_type": "code",
   "execution_count": null,
   "metadata": {},
   "outputs": [],
   "source": [
    "f = open('test_file.txt', 'a+')\n",
    "f.write(\"How are you?\")\n",
    "f.close()"
   ]
  },
  {
   "cell_type": "code",
   "execution_count": null,
   "metadata": {},
   "outputs": [],
   "source": [
    "f = open('test_file.txt', 'r')\n",
    "print(f.read())\n",
    "f.close()"
   ]
  },
  {
   "cell_type": "code",
   "execution_count": null,
   "metadata": {},
   "outputs": [],
   "source": [
    "f = open('test_file.txt', 'r+')\n",
    "f.write(\"Hello, World!\")\n",
    "f.close()"
   ]
  },
  {
   "cell_type": "code",
   "execution_count": null,
   "metadata": {},
   "outputs": [],
   "source": [
    "f = open('test_file.txt', 'r')\n",
    "print(f.read())\n",
    "f.close()"
   ]
  },
  {
   "cell_type": "code",
   "execution_count": null,
   "metadata": {},
   "outputs": [],
   "source": [
    "f = open('test_file.txt', 'w+')\n",
    "f.write(\"Hello, World!\")\n",
    "f.close()"
   ]
  },
  {
   "cell_type": "code",
   "execution_count": null,
   "metadata": {},
   "outputs": [],
   "source": [
    "f = open('test_file.txt', 'r')\n",
    "print(f.read())\n",
    "f.close()"
   ]
  },
  {
   "cell_type": "code",
   "execution_count": null,
   "metadata": {},
   "outputs": [],
   "source": [
    "f = open('test_file.txt', 'x')\n",
    "f.write(\"Hello, World!\")\n",
    "f.close()"
   ]
  },
  {
   "cell_type": "code",
   "execution_count": null,
   "metadata": {},
   "outputs": [],
   "source": [
    "f = open('test_file.txt', 'w')\n",
    "f.write(\"sample line1 \\n sample line2 \\n sample line3\")\n",
    "f.close()"
   ]
  },
  {
   "cell_type": "code",
   "execution_count": null,
   "metadata": {},
   "outputs": [],
   "source": [
    "f = open('test_file.txt', 'r')\n",
    "print(f.read())\n",
    "f.close()"
   ]
  },
  {
   "cell_type": "code",
   "execution_count": null,
   "metadata": {},
   "outputs": [],
   "source": [
    "f = open('test_file.txt', 'r')\n",
    "ls = f.readlines()\n",
    "print(ls)\n",
    "print('-'*100)\n",
    "for line in ls:\n",
    "    print(line)\n",
    "f.close()"
   ]
  },
  {
   "cell_type": "code",
   "execution_count": null,
   "metadata": {},
   "outputs": [],
   "source": [
    "f = open('test_file.txt', 'r')\n",
    "print(f.read())\n"
   ]
  },
  {
   "cell_type": "code",
   "execution_count": null,
   "metadata": {},
   "outputs": [],
   "source": [
    "print(f.read())"
   ]
  },
  {
   "cell_type": "code",
   "execution_count": null,
   "metadata": {},
   "outputs": [],
   "source": [
    "f.seek(0)"
   ]
  },
  {
   "cell_type": "code",
   "execution_count": null,
   "metadata": {},
   "outputs": [],
   "source": [
    "print(f.read())"
   ]
  },
  {
   "cell_type": "code",
   "execution_count": null,
   "metadata": {},
   "outputs": [],
   "source": [
    "f.seek(5)"
   ]
  },
  {
   "cell_type": "code",
   "execution_count": null,
   "metadata": {},
   "outputs": [],
   "source": [
    "print(f.read())"
   ]
  },
  {
   "cell_type": "code",
   "execution_count": null,
   "metadata": {},
   "outputs": [],
   "source": [
    "f.tell()"
   ]
  },
  {
   "cell_type": "code",
   "execution_count": null,
   "metadata": {},
   "outputs": [],
   "source": [
    "f.seek(0)"
   ]
  },
  {
   "cell_type": "code",
   "execution_count": null,
   "metadata": {},
   "outputs": [],
   "source": [
    "f.tell()"
   ]
  },
  {
   "cell_type": "code",
   "execution_count": null,
   "metadata": {},
   "outputs": [],
   "source": [
    "with open('test_file.txt', 'r') as f:\n",
    "    print(f.read())"
   ]
  },
  {
   "cell_type": "code",
   "execution_count": null,
   "metadata": {},
   "outputs": [],
   "source": [
    "f = open('test_file.txt', 'w')\n",
    "print(f.mode)\n",
    "f.close()"
   ]
  },
  {
   "cell_type": "code",
   "execution_count": null,
   "metadata": {},
   "outputs": [],
   "source": []
  },
  {
   "cell_type": "code",
   "execution_count": null,
   "metadata": {},
   "outputs": [],
   "source": [
    "f = open('test_file.csv', 'w')\n",
    "f.write(\"a,b,c,d,e,f\")\n",
    "f.close()"
   ]
  },
  {
   "cell_type": "code",
   "execution_count": null,
   "metadata": {},
   "outputs": [],
   "source": [
    "import csv"
   ]
  },
  {
   "cell_type": "code",
   "execution_count": null,
   "metadata": {},
   "outputs": [],
   "source": [
    "f = open('test_file.csv', 'r')\n",
    "dataFromCSV = csv.reader(f)"
   ]
  },
  {
   "cell_type": "code",
   "execution_count": null,
   "metadata": {},
   "outputs": [],
   "source": [
    "for row in dataFromCSV:\n",
    "    print(row)"
   ]
  },
  {
   "cell_type": "code",
   "execution_count": null,
   "metadata": {},
   "outputs": [],
   "source": [
    "import csv\n",
    "with open('test_file.csv') as csvfile:\n",
    "    spamreader = csv.reader(csvfile, delimiter=' ', quotechar='|')\n",
    "    for row in spamreader:\n",
    "        print(', '.join(row))"
   ]
  },
  {
   "cell_type": "code",
   "execution_count": null,
   "metadata": {},
   "outputs": [],
   "source": []
  },
  {
   "cell_type": "code",
   "execution_count": null,
   "metadata": {},
   "outputs": [],
   "source": [
    "!python test_command_line.py 3 5"
   ]
  },
  {
   "cell_type": "code",
   "execution_count": null,
   "metadata": {},
   "outputs": [],
   "source": []
  },
  {
   "cell_type": "code",
   "execution_count": null,
   "metadata": {},
   "outputs": [],
   "source": [
    "ls = []\n",
    "for i in range(10):\n",
    "    ls.append(i)"
   ]
  },
  {
   "cell_type": "code",
   "execution_count": null,
   "metadata": {},
   "outputs": [],
   "source": [
    "print(ls)"
   ]
  },
  {
   "cell_type": "code",
   "execution_count": null,
   "metadata": {},
   "outputs": [],
   "source": [
    "ls[0:10:2]"
   ]
  },
  {
   "cell_type": "code",
   "execution_count": null,
   "metadata": {},
   "outputs": [],
   "source": []
  },
  {
   "cell_type": "code",
   "execution_count": null,
   "metadata": {},
   "outputs": [],
   "source": []
  },
  {
   "cell_type": "code",
   "execution_count": null,
   "metadata": {},
   "outputs": [],
   "source": [
    "ls[5:]"
   ]
  },
  {
   "cell_type": "code",
   "execution_count": null,
   "metadata": {},
   "outputs": [],
   "source": [
    "from math import sqrt as squareRoot"
   ]
  },
  {
   "cell_type": "code",
   "execution_count": null,
   "metadata": {},
   "outputs": [],
   "source": []
  },
  {
   "cell_type": "code",
   "execution_count": null,
   "metadata": {},
   "outputs": [],
   "source": [
    "import os\n",
    "def get_first_line(filename, mode):\n",
    "    if os.path.isfile(filename):\n",
    "        with open(filename, mode) as file:\n",
    "            return file.readlines()\n",
    "    else:\n",
    "        return None"
   ]
  },
  {
   "cell_type": "code",
   "execution_count": null,
   "metadata": {},
   "outputs": [],
   "source": [
    "get_first_line('test_file.txt', 'r')"
   ]
  },
  {
   "cell_type": "code",
   "execution_count": null,
   "metadata": {},
   "outputs": [],
   "source": [
    "x = 50\n",
    "def fun1():\n",
    "    x = 25\n",
    "    print(x)\n",
    "    \n",
    "fun1()\n",
    "print(x)"
   ]
  },
  {
   "cell_type": "code",
   "execution_count": null,
   "metadata": {},
   "outputs": [],
   "source": [
    "x = 75\n",
    "def myfunc():\n",
    "    x = x + 1\n",
    "    print(x)\n",
    "\n",
    "myfunc()\n",
    "print(x)"
   ]
  },
  {
   "cell_type": "code",
   "execution_count": null,
   "metadata": {},
   "outputs": [],
   "source": []
  },
  {
   "cell_type": "code",
   "execution_count": null,
   "metadata": {},
   "outputs": [],
   "source": [
    "ls = ['Apple','Banana', 'Mango']\n",
    "print(ls)"
   ]
  },
  {
   "cell_type": "code",
   "execution_count": null,
   "metadata": {},
   "outputs": [],
   "source": [
    "for item in ls:\n",
    "    print(item)\n",
    "#     print(ls)"
   ]
  },
  {
   "cell_type": "code",
   "execution_count": null,
   "metadata": {},
   "outputs": [],
   "source": [
    "print(ls)\n",
    "for ls[2] in ls:\n",
    "    print(ls)"
   ]
  },
  {
   "cell_type": "code",
   "execution_count": null,
   "metadata": {},
   "outputs": [],
   "source": [
    "for i in range(0,10,5):\n",
    "    print(i)"
   ]
  },
  {
   "cell_type": "code",
   "execution_count": null,
   "metadata": {},
   "outputs": [],
   "source": [
    "\n",
    "def get_rating(age):\n",
    "    rating = \"\"\n",
    "    if age == None:\n",
    "        rating = 'C'\n",
    "    elif age < 13:\n",
    "        rating = 'C'\n",
    "    elif age < 18:\n",
    "        rating = 'T'\n",
    "    else:\n",
    "        rating = 'A'\n",
    "    return rating"
   ]
  },
  {
   "cell_type": "code",
   "execution_count": null,
   "metadata": {},
   "outputs": [],
   "source": [
    "get_rating(13)"
   ]
  },
  {
   "cell_type": "code",
   "execution_count": null,
   "metadata": {},
   "outputs": [],
   "source": [
    "i = 15\n",
    "i+=15\n",
    "get_rating(i+=15)"
   ]
  },
  {
   "cell_type": "code",
   "execution_count": null,
   "metadata": {
    "scrolled": true
   },
   "outputs": [],
   "source": [
    "help(\"keywords\")"
   ]
  },
  {
   "cell_type": "code",
   "execution_count": null,
   "metadata": {},
   "outputs": [],
   "source": [
    "print(2%2)"
   ]
  },
  {
   "cell_type": "code",
   "execution_count": null,
   "metadata": {},
   "outputs": [],
   "source": [
    "p = 2\n",
    "while p<=100:\n",
    "    is_prime = True\n",
    "    print(p)\n",
    "    for i in range(2, p):\n",
    "        print(i, p)\n",
    "        if p%i == 0:\n",
    "            is_prime = False\n",
    "            break\n",
    "    if is_prime == True:\n",
    "        print(\"print: \",p)\n",
    "    p += 1"
   ]
  },
  {
   "cell_type": "code",
   "execution_count": null,
   "metadata": {},
   "outputs": [],
   "source": [
    "for i in range(2,3, 1):\n",
    "    print(i)"
   ]
  },
  {
   "cell_type": "code",
   "execution_count": null,
   "metadata": {},
   "outputs": [],
   "source": [
    "ls = ['a','b','c']\n",
    "ls[1:1]"
   ]
  },
  {
   "cell_type": "code",
   "execution_count": null,
   "metadata": {},
   "outputs": [],
   "source": []
  },
  {
   "cell_type": "code",
   "execution_count": null,
   "metadata": {},
   "outputs": [],
   "source": []
  },
  {
   "cell_type": "code",
   "execution_count": null,
   "metadata": {},
   "outputs": [],
   "source": [
    "ls = [0,1,2,3]\n",
    "print(ls[3])\n",
    "for ls[3] in ls:\n",
    "#     print(\"i: \", i)\n",
    "    print(\"List: \", ls[3])"
   ]
  },
  {
   "cell_type": "code",
   "execution_count": null,
   "metadata": {},
   "outputs": [],
   "source": [
    "name = input(\"Please enter your name: \") #This case will fail if we give only numbers and symbols\n",
    "\n",
    "if name.upper() == name:\n",
    "    print('UPPER')\n",
    "elif name.lower() == name:\n",
    "    print('lower')\n",
    "else:\n",
    "    print('MiXEd')"
   ]
  },
  {
   "cell_type": "code",
   "execution_count": 3,
   "metadata": {},
   "outputs": [
    {
     "name": "stdout",
     "output_type": "stream",
     "text": [
      "test3.99\n"
     ]
    }
   ],
   "source": [
    "totalitems = float(input(\"test\"))"
   ]
  },
  {
   "cell_type": "code",
   "execution_count": null,
   "metadata": {},
   "outputs": [],
   "source": []
  },
  {
   "cell_type": "code",
   "execution_count": 12,
   "metadata": {},
   "outputs": [
    {
     "name": "stdout",
     "output_type": "stream",
     "text": [
      "enter the room number: 1\n",
      "Foyer\n"
     ]
    }
   ],
   "source": [
    "rooms = {1:\"Foyer\", 2:\"Conference Room\"}\n",
    "room = int(input(\"enter the room number: \"))\n",
    "if not room in rooms:\n",
    "    print(\"NA\")\n",
    "else:\n",
    "    print(rooms[room])"
   ]
  },
  {
   "cell_type": "code",
   "execution_count": 16,
   "metadata": {},
   "outputs": [
    {
     "name": "stdout",
     "output_type": "stream",
     "text": [
      "<class 'str'>\n"
     ]
    }
   ],
   "source": [
    "x1 = \"20\"\n",
    "y1 = 3\n",
    "a = x1 * y1\n",
    "\n",
    "print(type(a))"
   ]
  },
  {
   "cell_type": "code",
   "execution_count": 15,
   "metadata": {},
   "outputs": [
    {
     "name": "stdout",
     "output_type": "stream",
     "text": [
      "<class 'float'>\n"
     ]
    }
   ],
   "source": [
    "a = 2.4\n",
    "b = 1\n",
    "c = a/b\n",
    "print(type(c))"
   ]
  },
  {
   "cell_type": "code",
   "execution_count": 19,
   "metadata": {},
   "outputs": [
    {
     "name": "stdout",
     "output_type": "stream",
     "text": [
      "10000000000\n"
     ]
    }
   ],
   "source": [
    "print(int(+1E10))"
   ]
  },
  {
   "cell_type": "code",
   "execution_count": 30,
   "metadata": {},
   "outputs": [
    {
     "name": "stdout",
     "output_type": "stream",
     "text": [
      "[(1, 199), (2, 3), (5, 8888)]\n",
      "[(2, 3), (1, 199), (5, 8888)]\n"
     ]
    }
   ],
   "source": [
    "ls = [(5,8888),(2,3),(1,199)]\n",
    "ls.sort()\n",
    "print(ls)\n",
    "\n",
    "sorted_ls = sorted(ls,key=lambda x:x[1])\n",
    "print(sorted_ls)"
   ]
  },
  {
   "cell_type": "code",
   "execution_count": null,
   "metadata": {},
   "outputs": [],
   "source": []
  },
  {
   "cell_type": "code",
   "execution_count": 110,
   "metadata": {},
   "outputs": [
    {
     "name": "stdout",
     "output_type": "stream",
     "text": [
      "['N', 'i', 'r', 'a', 'l']\n",
      "Niral\n"
     ]
    }
   ],
   "source": [
    "ls = ['N','i','r','a','l']\n",
    "print(str(ls))\n",
    "st = \"\".join(ls)\n",
    "print(st)\n"
   ]
  },
  {
   "cell_type": "code",
   "execution_count": null,
   "metadata": {},
   "outputs": [],
   "source": []
  },
  {
   "cell_type": "code",
   "execution_count": 32,
   "metadata": {},
   "outputs": [
    {
     "name": "stdout",
     "output_type": "stream",
     "text": [
      "this executes \n"
     ]
    }
   ],
   "source": [
    "a = 10\n",
    "assert a<11\n",
    "print(\"this executes \")"
   ]
  },
  {
   "cell_type": "code",
   "execution_count": 36,
   "metadata": {},
   "outputs": [],
   "source": [
    "a='3\\''\n"
   ]
  },
  {
   "cell_type": "code",
   "execution_count": 37,
   "metadata": {},
   "outputs": [
    {
     "data": {
      "text/plain": [
       "\"3'\""
      ]
     },
     "execution_count": 37,
     "metadata": {},
     "output_type": "execute_result"
    }
   ],
   "source": [
    "a"
   ]
  },
  {
   "cell_type": "code",
   "execution_count": 38,
   "metadata": {},
   "outputs": [],
   "source": [
    "ls1 = [1,2,3,4,5]\n",
    "ls2 = ['N','i','r','a','l']"
   ]
  },
  {
   "cell_type": "code",
   "execution_count": 39,
   "metadata": {},
   "outputs": [
    {
     "name": "stdout",
     "output_type": "stream",
     "text": [
      "False\n",
      "False\n"
     ]
    }
   ],
   "source": [
    "print(ls1 is ls2)\n",
    "print(ls1 == ls2)"
   ]
  },
  {
   "cell_type": "code",
   "execution_count": 40,
   "metadata": {},
   "outputs": [],
   "source": [
    "ls1 = ls2"
   ]
  },
  {
   "cell_type": "code",
   "execution_count": 41,
   "metadata": {},
   "outputs": [
    {
     "name": "stdout",
     "output_type": "stream",
     "text": [
      "True\n",
      "True\n"
     ]
    }
   ],
   "source": [
    "print(ls1 is ls2)\n",
    "print(ls1 == ls2)"
   ]
  },
  {
   "cell_type": "code",
   "execution_count": null,
   "metadata": {},
   "outputs": [],
   "source": []
  },
  {
   "cell_type": "code",
   "execution_count": 43,
   "metadata": {},
   "outputs": [
    {
     "name": "stdout",
     "output_type": "stream",
     "text": [
      "enter the val: x**2\n",
      "enter x: 5\n",
      "25\n"
     ]
    }
   ],
   "source": [
    "expr = input(\"enter the val: \")\n",
    "x = int(input(\"enter x: \"))\n",
    "y = eval(expr)\n",
    "print(y)"
   ]
  },
  {
   "cell_type": "code",
   "execution_count": 44,
   "metadata": {},
   "outputs": [
    {
     "data": {
      "text/plain": [
       "(2+3j)"
      ]
     },
     "execution_count": 44,
     "metadata": {},
     "output_type": "execute_result"
    }
   ],
   "source": [
    "complex(2,3)"
   ]
  },
  {
   "cell_type": "code",
   "execution_count": 45,
   "metadata": {},
   "outputs": [
    {
     "data": {
      "text/plain": [
       "-5"
      ]
     },
     "execution_count": 45,
     "metadata": {},
     "output_type": "execute_result"
    }
   ],
   "source": [
    "~4"
   ]
  },
  {
   "cell_type": "code",
   "execution_count": 46,
   "metadata": {},
   "outputs": [
    {
     "data": {
      "text/plain": [
       "2417851639229258349412352"
      ]
     },
     "execution_count": 46,
     "metadata": {},
     "output_type": "execute_result"
    }
   ],
   "source": [
    "2**3**4"
   ]
  },
  {
   "cell_type": "code",
   "execution_count": null,
   "metadata": {},
   "outputs": [],
   "source": []
  },
  {
   "cell_type": "code",
   "execution_count": 47,
   "metadata": {},
   "outputs": [
    {
     "data": {
      "text/plain": [
       "2417851639229258349412352"
      ]
     },
     "execution_count": 47,
     "metadata": {},
     "output_type": "execute_result"
    }
   ],
   "source": [
    "2**81"
   ]
  },
  {
   "cell_type": "code",
   "execution_count": 48,
   "metadata": {},
   "outputs": [
    {
     "data": {
      "text/plain": [
       "0"
      ]
     },
     "execution_count": 48,
     "metadata": {},
     "output_type": "execute_result"
    }
   ],
   "source": [
    "2%2"
   ]
  },
  {
   "cell_type": "code",
   "execution_count": 50,
   "metadata": {},
   "outputs": [
    {
     "data": {
      "text/plain": [
       "6.0"
      ]
     },
     "execution_count": 50,
     "metadata": {},
     "output_type": "execute_result"
    }
   ],
   "source": [
    "float(4+int(2.34))"
   ]
  },
  {
   "cell_type": "code",
   "execution_count": 51,
   "metadata": {},
   "outputs": [
    {
     "data": {
      "text/plain": [
       "557"
      ]
     },
     "execution_count": 51,
     "metadata": {},
     "output_type": "execute_result"
    }
   ],
   "source": [
    "int(2+float(555))"
   ]
  },
  {
   "cell_type": "code",
   "execution_count": 52,
   "metadata": {},
   "outputs": [
    {
     "data": {
      "text/plain": [
       "'0b1000'"
      ]
     },
     "execution_count": 52,
     "metadata": {},
     "output_type": "execute_result"
    }
   ],
   "source": [
    "bin(10-2)"
   ]
  },
  {
   "cell_type": "code",
   "execution_count": 53,
   "metadata": {},
   "outputs": [
    {
     "data": {
      "text/plain": [
       "'0b1000'"
      ]
     },
     "execution_count": 53,
     "metadata": {},
     "output_type": "execute_result"
    }
   ],
   "source": [
    "bin(12^4)"
   ]
  },
  {
   "cell_type": "code",
   "execution_count": 54,
   "metadata": {},
   "outputs": [
    {
     "data": {
      "text/plain": [
       "16"
      ]
     },
     "execution_count": 54,
     "metadata": {},
     "output_type": "execute_result"
    }
   ],
   "source": [
    "0b1000 + 0b1000"
   ]
  },
  {
   "cell_type": "code",
   "execution_count": 55,
   "metadata": {},
   "outputs": [
    {
     "data": {
      "text/plain": [
       "'0b10000'"
      ]
     },
     "execution_count": 55,
     "metadata": {},
     "output_type": "execute_result"
    }
   ],
   "source": [
    "bin(16)"
   ]
  },
  {
   "cell_type": "code",
   "execution_count": 56,
   "metadata": {},
   "outputs": [
    {
     "data": {
      "text/plain": [
       "'0b10000b1000'"
      ]
     },
     "execution_count": 56,
     "metadata": {},
     "output_type": "execute_result"
    }
   ],
   "source": [
    "bin(10-2)+bin(12^4)"
   ]
  },
  {
   "cell_type": "code",
   "execution_count": 58,
   "metadata": {},
   "outputs": [
    {
     "data": {
      "text/plain": [
       "'-0b101100'"
      ]
     },
     "execution_count": 58,
     "metadata": {},
     "output_type": "execute_result"
    }
   ],
   "source": [
    "bin(-44)"
   ]
  },
  {
   "cell_type": "code",
   "execution_count": 3,
   "metadata": {},
   "outputs": [
    {
     "name": "stdout",
     "output_type": "stream",
     "text": [
      "[1, 4, 9, 16, 25]\n"
     ]
    }
   ],
   "source": [
    "myList = [1,2,3,4,5]\n",
    "output =  [x**2 for x in myList]\n",
    "print(output)"
   ]
  },
  {
   "cell_type": "code",
   "execution_count": 4,
   "metadata": {},
   "outputs": [
    {
     "name": "stdout",
     "output_type": "stream",
     "text": [
      "1\n",
      "2\n",
      "3\n",
      "4\n",
      "5\n",
      "6\n"
     ]
    }
   ],
   "source": [
    "i = 1\n",
    "while True:\n",
    "    if i%0o7 == 0: # 0o7 Octal number\n",
    "        break\n",
    "    print(i)\n",
    "    i += 1\n"
   ]
  },
  {
   "cell_type": "code",
   "execution_count": 12,
   "metadata": {},
   "outputs": [
    {
     "name": "stdout",
     "output_type": "stream",
     "text": [
      "i before:  5\n",
      "9\n",
      "5\n",
      "5\n",
      "i before:  6\n",
      "9\n",
      "6\n",
      "6\n",
      "i before:  7\n",
      "9\n",
      "7\n",
      "7\n",
      "i before:  8\n",
      "9\n",
      "8\n",
      "8\n",
      "i before:  9\n",
      "9\n",
      "0\n",
      "inside break\n"
     ]
    }
   ],
   "source": [
    "i = 5\n",
    "while True:\n",
    "    print(\"i before: \", i)\n",
    "    print(int(0o11))\n",
    "    print(i%0o11)\n",
    "    if i%0o11 == 0:\n",
    "        print(\"inside break\")\n",
    "        break\n",
    "    print(i)\n",
    "    i += 1"
   ]
  },
  {
   "cell_type": "code",
   "execution_count": 20,
   "metadata": {},
   "outputs": [
    {
     "name": "stdout",
     "output_type": "stream",
     "text": [
      "[1, 4, 9, 16]\n"
     ]
    }
   ],
   "source": [
    "ls = [1, 4, 9, 16, 25]\n",
    "ls = ls[:-1]\n",
    "print(ls)"
   ]
  },
  {
   "cell_type": "code",
   "execution_count": null,
   "metadata": {},
   "outputs": [],
   "source": []
  },
  {
   "cell_type": "code",
   "execution_count": 24,
   "metadata": {},
   "outputs": [
    {
     "name": "stdout",
     "output_type": "stream",
     "text": [
      "<class 'list'>\n",
      "<class 'list'>\n",
      "None\n"
     ]
    }
   ],
   "source": [
    "expr = [5, '4+3', '3', '2+2', '2**3', '12/6', 1, '9-4']\n",
    "print(type(expr))\n",
    "# print(expr.sort())\n",
    "newList = []\n",
    "for i in expr:\n",
    "   newList.append(eval(str(i)))\n",
    "print(type(ls))\n",
    "print(ls.sort())"
   ]
  },
  {
   "cell_type": "code",
   "execution_count": 43,
   "metadata": {},
   "outputs": [
    {
     "name": "stdout",
     "output_type": "stream",
     "text": [
      "<class 'list'>\n",
      "None\n"
     ]
    }
   ],
   "source": [
    "expr = [5, '4+3', '3', '2+2', '2**3', '12/6', 1, '9-4']\n",
    "ls = []\n",
    "for item in expr:\n",
    "    ls.append(eval(str(item)))"
   ]
  },
  {
   "cell_type": "code",
   "execution_count": 38,
   "metadata": {},
   "outputs": [],
   "source": [
    "ls.sort()"
   ]
  },
  {
   "cell_type": "code",
   "execution_count": 51,
   "metadata": {},
   "outputs": [
    {
     "name": "stdout",
     "output_type": "stream",
     "text": [
      "[5, 4, 3, 2, 1]\n"
     ]
    }
   ],
   "source": [
    "a=[1,2,3,4,5]\n",
    "b = a[::-1]\n",
    "print(b)\n"
   ]
  },
  {
   "cell_type": "code",
   "execution_count": 1,
   "metadata": {},
   "outputs": [
    {
     "name": "stdout",
     "output_type": "stream",
     "text": [
      "Hello\n"
     ]
    }
   ],
   "source": [
    "class test:\n",
    "    def testmethod(self):\n",
    "        print(\"Hello\")\n",
    "        \n",
    "obj = test()\n",
    "obj.testmethod()"
   ]
  },
  {
   "cell_type": "code",
   "execution_count": 1,
   "metadata": {},
   "outputs": [],
   "source": [
    "d = dict()"
   ]
  },
  {
   "cell_type": "code",
   "execution_count": 2,
   "metadata": {},
   "outputs": [],
   "source": [
    "d['abc'] = 123\n",
    "d['xyz'] = 456"
   ]
  },
  {
   "cell_type": "code",
   "execution_count": 3,
   "metadata": {},
   "outputs": [
    {
     "name": "stdout",
     "output_type": "stream",
     "text": [
      "{'abc': 123, 'xyz': 456}\n",
      "dict_keys(['abc', 'xyz'])\n",
      "dict_values([123, 456])\n"
     ]
    }
   ],
   "source": [
    "print(d)\n",
    "print(d.keys())\n",
    "print(d.values())"
   ]
  },
  {
   "cell_type": "code",
   "execution_count": 7,
   "metadata": {},
   "outputs": [
    {
     "name": "stdout",
     "output_type": "stream",
     "text": [
      "abc 123\n",
      "abc : 123\n",
      "xyz 456\n",
      "xyz : 456\n"
     ]
    }
   ],
   "source": [
    "for i in d:\n",
    "    print(i, d[i])\n",
    "    print(\"%s : %d\"%(i, d[i]))"
   ]
  },
  {
   "cell_type": "code",
   "execution_count": 8,
   "metadata": {},
   "outputs": [
    {
     "name": "stdout",
     "output_type": "stream",
     "text": [
      "0 abc 123\n",
      "1 xyz 456\n"
     ]
    }
   ],
   "source": [
    "for index, key in enumerate(d):\n",
    "    print(index, key, d[key])"
   ]
  },
  {
   "cell_type": "code",
   "execution_count": 10,
   "metadata": {},
   "outputs": [
    {
     "name": "stdout",
     "output_type": "stream",
     "text": [
      "True\n"
     ]
    }
   ],
   "source": [
    "print(\"xyz\" in d)"
   ]
  },
  {
   "cell_type": "code",
   "execution_count": 11,
   "metadata": {},
   "outputs": [],
   "source": [
    "del d[\"xyz\"]"
   ]
  },
  {
   "cell_type": "code",
   "execution_count": 12,
   "metadata": {},
   "outputs": [
    {
     "name": "stdout",
     "output_type": "stream",
     "text": [
      "False\n"
     ]
    }
   ],
   "source": [
    "print(\"xyz\" in d)"
   ]
  },
  {
   "cell_type": "code",
   "execution_count": 13,
   "metadata": {},
   "outputs": [
    {
     "name": "stdout",
     "output_type": "stream",
     "text": [
      "{'abc': 123}\n"
     ]
    }
   ],
   "source": [
    "print(d)"
   ]
  },
  {
   "cell_type": "markdown",
   "metadata": {},
   "source": [
    "#### break, continue, pass in Python \n",
    "\n",
    "   <b>break:</b> takes you out of the current loop.\n",
    "   \n",
    "   <b>continue:</b>  ends the current iteration in the loop and moves to the next iteration.\n",
    "   \n",
    "   <b>pass:</b> The pass statement does nothing. It can be used when a statement is required. syntactically but the program requires no action."
   ]
  },
  {
   "cell_type": "code",
   "execution_count": null,
   "metadata": {},
   "outputs": [],
   "source": []
  },
  {
   "cell_type": "markdown",
   "metadata": {},
   "source": [
    "#### map, filter, lambda\n",
    "\n",
    "\n",
    "   <b>map:</b> The map() function applies a function to every member of iterable and returns the result. If there are multiple arguments, map() returns a list consisting of tuples containing the corresponding items from all iterables.\n",
    "   \n",
    "   <b>filter:</b>  It takes a function returning True or False and applies it to a sequence, returning a list of only those members of the sequence for which the function returned True.\n",
    "   \n",
    "   <b>lambda:</b> Python provides the ability to create a simple (no statements allowed internally) <b>anonymous (without name) inline function</b> called lambda function. Using lambda and map you can have two for loops in one line."
   ]
  },
  {
   "cell_type": "code",
   "execution_count": 15,
   "metadata": {},
   "outputs": [
    {
     "name": "stdout",
     "output_type": "stream",
     "text": [
      "[1, 4, 9, 16, 25]\n"
     ]
    }
   ],
   "source": [
    "def sqr(n):\n",
    "    return n**2\n",
    "\n",
    "numbers = (1,2,3,4,5)\n",
    "m = map(sqr, numbers)\n",
    "print(list(m))"
   ]
  },
  {
   "cell_type": "code",
   "execution_count": 16,
   "metadata": {},
   "outputs": [
    {
     "name": "stdout",
     "output_type": "stream",
     "text": [
      "[2, 4, 6, 8, 10]\n"
     ]
    }
   ],
   "source": [
    "numbers = (1,2,3,4,5)\n",
    "m = map(lambda x: x+x, numbers)\n",
    "print(list(m))"
   ]
  },
  {
   "cell_type": "code",
   "execution_count": 19,
   "metadata": {},
   "outputs": [
    {
     "name": "stdout",
     "output_type": "stream",
     "text": [
      "[7, 9, 11, 13, 15]\n"
     ]
    }
   ],
   "source": [
    "numbers1 = [1,2,3,4,5]\n",
    "numbers2 = [6,7,8,9,10]\n",
    "m = map(lambda x,y: x+y, numbers1, numbers2)\n",
    "print(list(m))"
   ]
  },
  {
   "cell_type": "code",
   "execution_count": 23,
   "metadata": {},
   "outputs": [
    {
     "name": "stdout",
     "output_type": "stream",
     "text": [
      "[['A', 'l', 'e', 'x'], ['N', 'i', 'r', 'a', 'l'], ['S', 'u', 'g', 'i']]\n"
     ]
    }
   ],
   "source": [
    "ls = ['Alex','Niral','Sugi']\n",
    "print(list(map(list,ls))) #note here we used list built-in function"
   ]
  },
  {
   "cell_type": "markdown",
   "metadata": {},
   "source": [
    "#### reduce\n",
    "\n",
    "\n",
    "The reduce(fun,seq) function is used to apply a particular function passed in its argument to all of the list elements mentioned in the sequence passed along.This function is defined in “functools” module.\n",
    "\n",
    "     Working :  \n",
    "\n",
    "        At first step, first two elements of sequence are picked and the result is obtained.\n",
    "        \n",
    "        Next step is to apply the same function to the previously attained result and the number just \n",
    "        succeeding the second element and the result is again stored.\n",
    "        \n",
    "        This process continues till no more elements are left in the container.\n",
    "        \n",
    "        The final returned result is returned and printed on console.\n",
    "\n",
    "​\n",
    "\n",
    "Docstring:\n",
    "reduce(function, sequence[, initial]) -> value\n",
    "\n",
    "Apply a function of two arguments cumulatively to the items of a sequence,\n",
    "from left to right, so as to reduce the sequence to a single value.\n",
    "For example, reduce(lambda x, y: x+y, [1, 2, 3, 4, 5]) calculates\n",
    "((((1+2)+3)+4)+5).  If initial is present, it is placed before the items\n",
    "of the sequence in the calculation, and serves as a default when the\n",
    "sequence is empty."
   ]
  },
  {
   "cell_type": "code",
   "execution_count": 25,
   "metadata": {},
   "outputs": [],
   "source": [
    "import functools\n",
    "from functools import reduce"
   ]
  },
  {
   "cell_type": "code",
   "execution_count": 28,
   "metadata": {},
   "outputs": [
    {
     "name": "stdout",
     "output_type": "stream",
     "text": [
      "The sum of the list elements is : 15\n"
     ]
    }
   ],
   "source": [
    "lis = [1,2,3,4,5]\n",
    "\n",
    "# using reduce to compute sum of list\n",
    "print(\"The sum of the list elements is : \", end=\"\")\n",
    "\n",
    "print(reduce(lambda x,y: x+y, lis))"
   ]
  },
  {
   "cell_type": "code",
   "execution_count": 29,
   "metadata": {},
   "outputs": [
    {
     "name": "stdout",
     "output_type": "stream",
     "text": [
      "The maximum element of the list is : 5\n"
     ]
    }
   ],
   "source": [
    "# using reduce to compute maximum element from list\n",
    "print(\"The maximum element of the list is : \", end=\"\")\n",
    "\n",
    "print(reduce(lambda x,y: x if x>y else y, lis))"
   ]
  },
  {
   "cell_type": "code",
   "execution_count": 31,
   "metadata": {},
   "outputs": [
    {
     "name": "stdout",
     "output_type": "stream",
     "text": [
      "The sum of the list elements is : 17\n",
      "The product of list elements is : 180\n",
      "The concatenated product is : firstmiddlelast\n"
     ]
    }
   ],
   "source": [
    "# importing operator for operator functions\n",
    "import operator\n",
    " \n",
    "# initializing list\n",
    "lis = [1, 3, 5, 6, 2, ]\n",
    " \n",
    "# using reduce to compute sum of list\n",
    "# using operator functions\n",
    "print(\"The sum of the list elements is : \", end=\"\")\n",
    "print(functools.reduce(operator.add, lis))\n",
    " \n",
    "# using reduce to compute product\n",
    "# using operator functions\n",
    "print(\"The product of list elements is : \", end=\"\")\n",
    "print(functools.reduce(operator.mul, lis))\n",
    " \n",
    "# using reduce to concatenate string\n",
    "print(\"The concatenated product is : \", end=\"\")\n",
    "print(functools.reduce(operator.add, [\"first\", \"middle\", \"last\"]))"
   ]
  },
  {
   "cell_type": "code",
   "execution_count": 35,
   "metadata": {},
   "outputs": [
    {
     "name": "stdout",
     "output_type": "stream",
     "text": [
      "15\n"
     ]
    }
   ],
   "source": [
    "# Note that the initializer, when not None, is used as the first value instead of the first value from iterable , and after the whole iterable.\n",
    "tup = (2,1,0,2,2,0,0,2)\n",
    "print(reduce(lambda x, y: x+y, tup,6))"
   ]
  },
  {
   "cell_type": "markdown",
   "metadata": {},
   "source": [
    "#### filter()\n",
    "The filter() method filters the given sequence with the help of a function that tests each element in the sequence to be true or not.\n",
    "\n",
    "        syntax:\n",
    "\n",
    "        filter(function, sequence)\n",
    "        Parameters:\n",
    "        function: function that tests if each element of a \n",
    "        sequence true or not.\n",
    "        sequence: sequence which needs to be filtered, it can \n",
    "        be sets, lists, tuples, or containers of any iterators.\n",
    "        Returns:\n",
    "        returns an iterator that is already filtered."
   ]
  },
  {
   "cell_type": "code",
   "execution_count": 59,
   "metadata": {},
   "outputs": [
    {
     "name": "stdout",
     "output_type": "stream",
     "text": [
      "['N', 'i', 'r', 'a', 'l', 'y', 'a', ' ', 'A', 'l', 'e', 'x']\n",
      "The filtered vowels are:\n",
      "i\n",
      "a\n",
      "a\n",
      "A\n",
      "e\n"
     ]
    }
   ],
   "source": [
    "def fun(letter):\n",
    "    vowels = ['a','e','i','o','u']\n",
    "    if letter.lower() in vowels:\n",
    "        return True\n",
    "    else:\n",
    "        return False\n",
    "    \n",
    "sequence = list('Niralya Alex')\n",
    "print(sequence)\n",
    "filtered = filter(fun, sequence)\n",
    "\n",
    "\n",
    "print('The filtered vowels are:')\n",
    "for s in filtered:\n",
    "    print(s)    \n",
    "    \n",
    "    \n"
   ]
  },
  {
   "cell_type": "code",
   "execution_count": 70,
   "metadata": {},
   "outputs": [
    {
     "name": "stdout",
     "output_type": "stream",
     "text": [
      "[1, 3, 5, 13]\n",
      "[0, 2, 8]\n"
     ]
    }
   ],
   "source": [
    "seq = [0, 1, 2, 3, 5, 8, 13]\n",
    "\n",
    "odd = filter(lambda x: x%2 != 0, seq)\n",
    "even = filter(lambda x: x%2 == 0, seq) \n",
    "\n",
    "# odd = filter(lambda x: x%2, seq)\n",
    "# even = filter(lambda x: ~x%2, seq) # ~ bitwise NOT operator\n",
    "\n",
    "print(list(odd))\n",
    "print(list(even))"
   ]
  },
  {
   "cell_type": "code",
   "execution_count": null,
   "metadata": {},
   "outputs": [],
   "source": []
  },
  {
   "cell_type": "markdown",
   "metadata": {},
   "source": [
    "#### Lambda Functions\n",
    "\n",
    "Python Lambda Functions are anonymous function means that the function is without a name. As we already know that the def keyword is used to define a normal function in Python. Similarly, the lambda keyword is used to define an anonymous function in Python. \n",
    "\n",
    "\n",
    "    This function can have any number of arguments but only one expression, which is evaluated and returned.\n",
    "    \n",
    "    One is free to use lambda functions wherever function objects are required.\n",
    "    \n",
    "    You need to keep in your knowledge that lambda functions are syntactically restricted to a single expression.\n",
    "    \n",
    "    It has various uses in particular fields of programming besides other types of expressions in functions.\n",
    "\n"
   ]
  },
  {
   "cell_type": "code",
   "execution_count": 73,
   "metadata": {},
   "outputs": [
    {
     "name": "stdout",
     "output_type": "stream",
     "text": [
      "Stay focused..!\n"
     ]
    }
   ],
   "source": [
    "x = 'Stay focused..!'\n",
    "\n",
    "(lambda x:print(x))(x)"
   ]
  },
  {
   "cell_type": "code",
   "execution_count": 74,
   "metadata": {},
   "outputs": [
    {
     "name": "stdout",
     "output_type": "stream",
     "text": [
      "27\n"
     ]
    }
   ],
   "source": [
    "def cube(x):\n",
    "    return x*x*x\n",
    "\n",
    "print(cube(3))"
   ]
  },
  {
   "cell_type": "code",
   "execution_count": 79,
   "metadata": {},
   "outputs": [
    {
     "name": "stdout",
     "output_type": "stream",
     "text": [
      "27\n"
     ]
    }
   ],
   "source": [
    "lambda_cube  = lambda x:x*x*x\n",
    "print(lambda_cube (3))"
   ]
  },
  {
   "cell_type": "code",
   "execution_count": 98,
   "metadata": {},
   "outputs": [
    {
     "name": "stdout",
     "output_type": "stream",
     "text": [
      "[<function <listcomp>.<lambda> at 0x0000021128712C18>, <function <listcomp>.<lambda> at 0x0000021128712B88>, <function <listcomp>.<lambda> at 0x0000021128712AF8>, <function <listcomp>.<lambda> at 0x0000021128712A68>, <function <listcomp>.<lambda> at 0x00000211287129D8>, <function <listcomp>.<lambda> at 0x0000021128712948>, <function <listcomp>.<lambda> at 0x00000211287128B8>, <function <listcomp>.<lambda> at 0x0000021128712828>, <function <listcomp>.<lambda> at 0x0000021128712798>, <function <listcomp>.<lambda> at 0x0000021128712708>]\n",
      "10\n",
      "20\n",
      "30\n",
      "40\n",
      "50\n",
      "60\n",
      "70\n",
      "80\n",
      "90\n",
      "100\n"
     ]
    }
   ],
   "source": [
    "#printing table of 10 using lambda and list comprehension. closely watch i and j variables\n",
    "functions = [lambda j=i:j*10 for i in range(1,11)]\n",
    "print(functions)\n",
    "\n",
    "for fun in functions:\n",
    "    print(fun())"
   ]
  },
  {
   "cell_type": "code",
   "execution_count": 99,
   "metadata": {},
   "outputs": [
    {
     "name": "stdout",
     "output_type": "stream",
     "text": [
      "4\n"
     ]
    }
   ],
   "source": [
    "maxx = lambda x,y: x if x>y else y\n",
    "print(maxx(2,4))"
   ]
  },
  {
   "cell_type": "code",
   "execution_count": 109,
   "metadata": {},
   "outputs": [
    {
     "name": "stdout",
     "output_type": "stream",
     "text": [
      "['madam', 'refer', 'aa', 'noon']\n",
      "['madam', 'refer', 'aa', 'noon']\n"
     ]
    }
   ],
   "source": [
    "#Given a list of strings, filter all palindromes.\n",
    "\n",
    "my_list = [\"madam\", \"hello\", \"refer\", \"practice\", \"aa\",\"noon\"]\n",
    "\n",
    "list1 = filter(lambda x: (x == \"\".join(reversed(x))), my_list)\n",
    "print(list(list1))\n",
    "\n",
    "list2 = filter(lambda x:(x == x[::-1]), my_list)\n",
    "print(list(list2))"
   ]
  },
  {
   "cell_type": "markdown",
   "metadata": {},
   "source": [
    "#### zip()\n",
    "Python zip() method takes iterable or containers and returns a single iterator object, having mapped values from all the containers. \n",
    "\n",
    "It is used to map the similar index of multiple containers so that they can be used just using a single entity. \n",
    "\n",
    "Syntax :  zip(*iterators) \n",
    "\n",
    "Parameters : Python iterables or containers ( list, string etc ) \n",
    "Return Value : Returns a single iterator object, having mapped values from all the \n",
    "containers."
   ]
  },
  {
   "cell_type": "code",
   "execution_count": 124,
   "metadata": {},
   "outputs": [
    {
     "name": "stdout",
     "output_type": "stream",
     "text": [
      "[('Manjeet', 4), ('Nikhil', 1), ('Shambhavi', 3), ('Astha', 2)]\n"
     ]
    }
   ],
   "source": [
    "\n",
    "name = [ \"Manjeet\", \"Nikhil\", \"Shambhavi\", \"Astha\" ]\n",
    "roll_no = [ 4, 1, 3, 2 ]\n",
    "\n",
    "mapped = zip(name, roll_no)\n",
    "print(list(mapped))"
   ]
  },
  {
   "cell_type": "code",
   "execution_count": 125,
   "metadata": {},
   "outputs": [
    {
     "name": "stdout",
     "output_type": "stream",
     "text": [
      "0 Mukesh 24\n",
      "1 Roni 50\n",
      "2 Chari 18\n"
     ]
    }
   ],
   "source": [
    "\n",
    "names = ['Mukesh', 'Roni', 'Chari']\n",
    "ages = [24, 50, 18]\n",
    "\n",
    "for i, (name, age) in enumerate(zip(names, ages)):\n",
    "    print(i, name, age)"
   ]
  },
  {
   "cell_type": "code",
   "execution_count": 126,
   "metadata": {},
   "outputs": [
    {
     "name": "stdout",
     "output_type": "stream",
     "text": [
      "{'reliance': 2175, 'infosys': 1127, 'tcs': 2750}\n"
     ]
    }
   ],
   "source": [
    "\n",
    "stocks = ['reliance', 'infosys', 'tcs']\n",
    "prices = [2175, 1127, 2750]\n",
    "\n",
    "new_dict = {stocks:prices for stocks, prices in zip(stocks, prices)}\n",
    "print(new_dict)"
   ]
  },
  {
   "cell_type": "markdown",
   "metadata": {},
   "source": [
    "#### How to unzip?\n",
    "Unzipping means converting the zipped values back to the individual self as they were. This is done with the help of “*” operator."
   ]
  },
  {
   "cell_type": "code",
   "execution_count": 128,
   "metadata": {},
   "outputs": [
    {
     "name": "stdout",
     "output_type": "stream",
     "text": [
      "[('Manjeet', 4, 40), ('Nikhil', 1, 50), ('Shambhavi', 3, 60), ('Astha', 2, 70)]\n",
      "('Manjeet', 'Nikhil', 'Shambhavi', 'Astha')\n",
      "(4, 1, 3, 2)\n",
      "(40, 50, 60, 70)\n"
     ]
    }
   ],
   "source": [
    "name = [\"Manjeet\", \"Nikhil\", \"Shambhavi\", \"Astha\"]\n",
    "roll_no = [4, 1, 3, 2]\n",
    "marks = [40, 50, 60, 70]\n",
    "\n",
    "mapped = zip(name, roll_no, marks)\n",
    "mapped = list(mapped)\n",
    "\n",
    "print(mapped)\n",
    "\n",
    "#unzip\n",
    "n, r, m = zip(*mapped)\n",
    "print(n)\n",
    "print(r)\n",
    "print(m)"
   ]
  },
  {
   "cell_type": "code",
   "execution_count": null,
   "metadata": {},
   "outputs": [],
   "source": []
  },
  {
   "cell_type": "code",
   "execution_count": null,
   "metadata": {},
   "outputs": [],
   "source": []
  },
  {
   "cell_type": "code",
   "execution_count": null,
   "metadata": {},
   "outputs": [],
   "source": []
  },
  {
   "cell_type": "code",
   "execution_count": null,
   "metadata": {},
   "outputs": [],
   "source": []
  },
  {
   "cell_type": "code",
   "execution_count": null,
   "metadata": {},
   "outputs": [],
   "source": []
  },
  {
   "cell_type": "code",
   "execution_count": null,
   "metadata": {},
   "outputs": [],
   "source": []
  },
  {
   "cell_type": "markdown",
   "metadata": {},
   "source": [
    "#### Enumerate()\n",
    "Often, when dealing with iterators, we also get a need to keep a count of iterations. Python eases the programmers’ task by providing a built-in function enumerate() for this task. \n",
    "Enumerate() method adds a counter to an iterable and returns it in a form of enumerating object. This enumerated object can then be used directly for loops or converted into a list of tuples using the list() method.\n",
    "\n",
    "\n",
    "        Syntax: \n",
    "\n",
    "            enumerate(iterable, start=0)\n",
    "\n",
    "            Parameters:\n",
    "            Iterable: any object that supports iteration\n",
    "            Start: the index value from which the counter is \n",
    "                          to be started, by default it is 0"
   ]
  },
  {
   "cell_type": "code",
   "execution_count": 115,
   "metadata": {},
   "outputs": [
    {
     "name": "stdout",
     "output_type": "stream",
     "text": [
      "<class 'enumerate'>\n",
      "[(0, 'eat'), (1, 'sleep'), (2, 'repeat')]\n",
      "[(10, 'g'), (11, 'e'), (12, 'e'), (13, 'k')]\n"
     ]
    }
   ],
   "source": [
    "l1 = [\"eat\",\"sleep\",\"repeat\"]\n",
    "s1 = \"geek\"\n",
    "\n",
    "obj1 = enumerate(l1)\n",
    "obj2 = enumerate(s1, 10)\n",
    "\n",
    "print(type(obj1))\n",
    "\n",
    "print(list(obj1))\n",
    "print(list(obj2))"
   ]
  },
  {
   "cell_type": "code",
   "execution_count": 119,
   "metadata": {},
   "outputs": [
    {
     "name": "stdout",
     "output_type": "stream",
     "text": [
      "(0, 'eat')\n",
      "(1, 'sleep')\n",
      "(2, 'repeat')\n"
     ]
    }
   ],
   "source": [
    "lst = [\"eat\",\"sleep\",\"repeat\"]\n",
    "for ele in enumerate(lst):\n",
    "    print(ele)"
   ]
  },
  {
   "cell_type": "code",
   "execution_count": 120,
   "metadata": {},
   "outputs": [
    {
     "name": "stdout",
     "output_type": "stream",
     "text": [
      "0 eat\n",
      "1 sleep\n",
      "2 repeat\n"
     ]
    }
   ],
   "source": [
    "for i, ele in enumerate(lst):\n",
    "    print(i, ele)"
   ]
  },
  {
   "cell_type": "code",
   "execution_count": 122,
   "metadata": {},
   "outputs": [
    {
     "name": "stdout",
     "output_type": "stream",
     "text": [
      "100 eat\n",
      "101 sleep\n",
      "102 repeat\n"
     ]
    }
   ],
   "source": [
    "for i, ele in enumerate(lst, 100):\n",
    "    print(i, ele)"
   ]
  },
  {
   "cell_type": "code",
   "execution_count": null,
   "metadata": {},
   "outputs": [],
   "source": []
  },
  {
   "cell_type": "code",
   "execution_count": null,
   "metadata": {},
   "outputs": [],
   "source": []
  },
  {
   "cell_type": "code",
   "execution_count": null,
   "metadata": {},
   "outputs": [],
   "source": []
  },
  {
   "cell_type": "code",
   "execution_count": null,
   "metadata": {},
   "outputs": [],
   "source": []
  },
  {
   "cell_type": "code",
   "execution_count": null,
   "metadata": {},
   "outputs": [],
   "source": []
  },
  {
   "cell_type": "code",
   "execution_count": null,
   "metadata": {},
   "outputs": [],
   "source": []
  }
 ],
 "metadata": {
  "kernelspec": {
   "display_name": "Python 3",
   "language": "python",
   "name": "python3"
  },
  "language_info": {
   "codemirror_mode": {
    "name": "ipython",
    "version": 3
   },
   "file_extension": ".py",
   "mimetype": "text/x-python",
   "name": "python",
   "nbconvert_exporter": "python",
   "pygments_lexer": "ipython3",
   "version": "3.7.4"
  }
 },
 "nbformat": 4,
 "nbformat_minor": 2
}
