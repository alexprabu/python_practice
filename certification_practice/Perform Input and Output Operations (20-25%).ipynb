{
 "cells": [
  {
   "cell_type": "markdown",
   "metadata": {},
   "source": [
    "## Perform Input and Output Operations (20-25%)\n",
    "\n",
    "\n",
    "#### Construct and analyze code segments that perform file input and output operations\n",
    "   \n",
    "    open; close; read; write; append; check existence; delete; with statement\n",
    "        \n",
    "#### Construct and analyze code segments that perform console input and output operations\n",
    "\n",
    "    read input from console; print formatted text; use of command line arguments"
   ]
  },
  {
   "cell_type": "markdown",
   "metadata": {},
   "source": [
    "f = open(filename, mode)\n",
    "Where the following mode is supported:\n",
    "<b>\n",
    "    \n",
    "    r: open an existing file for a read operation.\n",
    "    w: open an existing file for a write operation. If the file already contains some data then it will be overridden.\n",
    "    a:  open an existing file for append operation. It won’t override existing data.\n",
    "    r+:  To read and write data into the file. The previous data in the file will not be deleted.\n",
    "    w+: To write and read data. It will override existing data.\n",
    "    a+: To append and read data from the file. It won’t override existing data.\n",
    "</b>    \n",
    "    \n",
    "<b>\n",
    "    Important:\n",
    "    \n",
    "    only r and r+ will not create new file if one doesn't exist. All other modes are creating new file if not exist\n",
    "    w and w+ will override the existing data\n",
    "    a and a+ will not overide the existing data\n",
    "    a, a+ cursor position at end\n",
    "    r, r+, w, w+ cursor position at start\n",
    "    \n",
    "</b>"
   ]
  },
  {
   "cell_type": "markdown",
   "metadata": {},
   "source": [
    "<img src=\"open_file_modes.jpg\"></img>"
   ]
  },
  {
   "cell_type": "code",
   "execution_count": null,
   "metadata": {},
   "outputs": [],
   "source": [
    "import sys\n",
    "fh = open(\"test.txt\", \"a\")\n",
    "print (\"Name of the file: \", fh.name )\n",
    "# sys.stdout(fh)\n",
    "print( 'Test line 111')\n",
    "orig_stdout = sys.__stdout__\n",
    "print( 'orig_stdout:' , orig_stdout)\n",
    "sys.stdout = fh\n",
    "# sys.stdin = fh\n",
    "print( 'Test line 1')\n",
    "# print( sys.stdin )\n",
    "fh.close()\n",
    "sys.stdout = orig_stdout\n",
    "print( 'Test line 555')\n"
   ]
  },
  {
   "cell_type": "code",
   "execution_count": null,
   "metadata": {},
   "outputs": [],
   "source": [
    "import pandas as pd"
   ]
  },
  {
   "cell_type": "code",
   "execution_count": null,
   "metadata": {},
   "outputs": [],
   "source": [
    "import sys\n",
    "\n",
    "try:\n",
    "    file_in = open(\"in.txt\", 'r')\n",
    "    file_out = open(\"out.txt\", 'r+')\n",
    "except IOError:\n",
    "    print('cannot open ', file_name)\n",
    "    \n",
    "else:\n",
    "    i = 1\n",
    "    for line in file_in:\n",
    "        print(line.rstrip())\n",
    "        file_out.write(\"line\" + str(i) + \" : \" + line)\n",
    "        i = i+1\n",
    "        \n",
    "    file_in.close()\n",
    "    file_out.close()"
   ]
  },
  {
   "cell_type": "code",
   "execution_count": null,
   "metadata": {},
   "outputs": [],
   "source": []
  },
  {
   "cell_type": "code",
   "execution_count": null,
   "metadata": {},
   "outputs": [],
   "source": [
    "import os\n",
    "def read_file(file):\n",
    "    line = None\n",
    "    if os.path.isfile(file):\n",
    "        data = open(file, 'r')\n",
    "        while line != '':\n",
    "            line = data.readline()\n",
    "            print(line)"
   ]
  },
  {
   "cell_type": "code",
   "execution_count": null,
   "metadata": {},
   "outputs": [],
   "source": [
    "read_file(\"in.txt\")"
   ]
  },
  {
   "cell_type": "code",
   "execution_count": null,
   "metadata": {},
   "outputs": [],
   "source": []
  },
  {
   "cell_type": "code",
   "execution_count": null,
   "metadata": {},
   "outputs": [],
   "source": [
    "employee_no = \"s\"\n",
    "parts = \"\"\n",
    "while employee_no != \"\":\n",
    "    print(\"hello\")"
   ]
  },
  {
   "cell_type": "code",
   "execution_count": null,
   "metadata": {},
   "outputs": [],
   "source": []
  },
  {
   "cell_type": "code",
   "execution_count": 1,
   "metadata": {},
   "outputs": [],
   "source": [
    "import os\n",
    "def get_first_line(filename, mode):\n",
    "    if os.path.isfile(filename):\n",
    "        with open(filename, mode) as file:\n",
    "            return file.readline()\n",
    "    else:\n",
    "        return None"
   ]
  },
  {
   "cell_type": "code",
   "execution_count": 2,
   "metadata": {},
   "outputs": [
    {
     "name": "stdout",
     "output_type": "stream",
     "text": [
      "None\n",
      "kk\n",
      "\n"
     ]
    }
   ],
   "source": [
    "ret = get_first_line('sdfdsfsin.txt', 'r')\n",
    "print(ret)\n",
    "ret = get_first_line('in.txt', 'r')\n",
    "print(ret)"
   ]
  },
  {
   "cell_type": "code",
   "execution_count": 1,
   "metadata": {},
   "outputs": [],
   "source": []
  },
  {
   "cell_type": "code",
   "execution_count": 14,
   "metadata": {},
   "outputs": [
    {
     "name": "stdout",
     "output_type": "stream",
     "text": [
      "10, 200, 5\n",
      "\n",
      "20, 100, 100\n",
      "End of File\n"
     ]
    }
   ],
   "source": [
    "inventory = open(\"inventory.txt\", 'r')\n",
    "\n",
    "eof = False\n",
    "while eof == False:\n",
    "    line = inventory.readline()\n",
    "    if line != '':\n",
    "        if line != \"\\n\":\n",
    "            print(line)\n",
    "    else:\n",
    "        print(\"End of File\")\n",
    "        eof = True\n",
    "        inventory.close()"
   ]
  },
  {
   "cell_type": "code",
   "execution_count": 1,
   "metadata": {},
   "outputs": [
    {
     "name": "stdout",
     "output_type": "stream",
     "text": [
      "What is your name?\n",
      "NIRAL\n",
      "NIRAL\n"
     ]
    }
   ],
   "source": [
    "print(\"What is your name?\")\n",
    "name = input()\n",
    "print(name)"
   ]
  },
  {
   "cell_type": "code",
   "execution_count": null,
   "metadata": {},
   "outputs": [],
   "source": []
  },
  {
   "cell_type": "code",
   "execution_count": null,
   "metadata": {},
   "outputs": [],
   "source": []
  },
  {
   "cell_type": "code",
   "execution_count": null,
   "metadata": {},
   "outputs": [],
   "source": []
  }
 ],
 "metadata": {
  "kernelspec": {
   "display_name": "Python 3",
   "language": "python",
   "name": "python3"
  },
  "language_info": {
   "codemirror_mode": {
    "name": "ipython",
    "version": 3
   },
   "file_extension": ".py",
   "mimetype": "text/x-python",
   "name": "python",
   "nbconvert_exporter": "python",
   "pygments_lexer": "ipython3",
   "version": "3.7.4"
  }
 },
 "nbformat": 4,
 "nbformat_minor": 2
}
