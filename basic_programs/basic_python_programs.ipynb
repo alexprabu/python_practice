{
 "cells": [
  {
   "cell_type": "markdown",
   "id": "bfcd8555-50cb-4471-accb-9859cb6b464a",
   "metadata": {},
   "source": [
    "## Bubble Sort: "
   ]
  },
  {
   "cell_type": "code",
   "execution_count": 17,
   "id": "db7ece98-d856-47b7-be2c-9c525440adfe",
   "metadata": {},
   "outputs": [
    {
     "name": "stdout",
     "output_type": "stream",
     "text": [
      "[13, 14, 23, 23, 64, 64, 86]\n"
     ]
    }
   ],
   "source": [
    "import numpy as np\n",
    "\n",
    "def bubble_sort(arr):\n",
    "    n = np.size(arr)\n",
    "    for i in range(0, n-1):\n",
    "        for j in range(0, n-i-1):\n",
    "            if arr[j] > arr[j+1]:\n",
    "                arr[j], arr[j+1] = arr[j+1], arr[j]\n",
    "                \n",
    "    print(arr)\n",
    "                \n",
    "arr = [23, 14, 64, 13, 64, 23, 86]  \n",
    "  \n",
    "bubble_sort(arr)  \n"
   ]
  },
  {
   "cell_type": "markdown",
   "id": "51552d2c-adec-4522-90f1-6c7337bba781",
   "metadata": {},
   "source": [
    "## Prime Number:    \r\n"
   ]
  },
  {
   "cell_type": "code",
   "execution_count": 18,
   "id": "da8e7d18-2d93-4be1-bbfe-e0ebdc20716a",
   "metadata": {},
   "outputs": [
    {
     "name": "stdout",
     "output_type": "stream",
     "text": [
      "29 is a prime number\n"
     ]
    }
   ],
   "source": [
    "# Program to check if a number is prime or not\n",
    "\n",
    "num = 29\n",
    "\n",
    "# To take input from the user\n",
    "#num = int(input(\"Enter a number: \"))\n",
    "\n",
    "# define a flag variable\n",
    "flag = False\n",
    "\n",
    "if num <= 1:\n",
    "    print(num, \"is not a prime number\")\n",
    "elif num > 1:\n",
    "    # check for factors\n",
    "    for i in range(2, num):\n",
    "        if (num % i) == 0:\n",
    "            # if factor is found, set flag to True\n",
    "            flag = True\n",
    "            # break out of loop\n",
    "            break\n",
    "\n",
    "    # check if flag is True\n",
    "    if flag:\n",
    "        print(num, \"is not a prime number\")\n",
    "    else:\n",
    "        print(num, \"is a prime number\")\n"
   ]
  },
  {
   "cell_type": "code",
   "execution_count": null,
   "id": "b4792e42-4a40-4ecc-bc15-21f65013982c",
   "metadata": {},
   "outputs": [],
   "source": []
  },
  {
   "cell_type": "markdown",
   "id": "d471b785-174d-4f6a-8d16-87fb3102431e",
   "metadata": {},
   "source": [
    "## Interview Questions: Carelon Legato"
   ]
  },
  {
   "cell_type": "markdown",
   "id": "3e1355b7-15f9-41e0-a77f-a223f3a78ca2",
   "metadata": {},
   "source": [
    "Question #2 \n",
    "## Sum Equals Target - Combinations\n",
    "\n",
    "    we have a list of numbers and a target value. Write a Python program to find all the combinations of list elements\n",
    "    whose sum equals the target value.\n",
    "         \n",
    "        Input ##\n",
    "        numbers = [1, 5, 6, 3, 2, 4]\n",
    "        target value = 7\n",
    "         \n",
    "        OUTPUT##\n",
    "        All the combinations of list numbers whose sum is 7 are\n",
    "         \n",
    "        1 and 6\n",
    "        5 and 2\n",
    "        4 and 3"
   ]
  },
  {
   "cell_type": "code",
   "execution_count": 19,
   "id": "299031fe-a8b8-4a6f-87ca-a5011c77d616",
   "metadata": {},
   "outputs": [],
   "source": [
    "numbers = [1, 5, 6, 3, 2, 4]\n",
    "\n",
    "target = 7"
   ]
  },
  {
   "cell_type": "code",
   "execution_count": 20,
   "id": "1bd9f214-477b-4b31-8319-4c48efb2a81c",
   "metadata": {},
   "outputs": [
    {
     "name": "stdout",
     "output_type": "stream",
     "text": [
      "<class 'list'>\n"
     ]
    }
   ],
   "source": [
    "print(type(numbers))\n",
    "\n",
    "\n",
    "len = np.size(numbers)"
   ]
  },
  {
   "cell_type": "code",
   "execution_count": 21,
   "id": "5f6a0b30-22b2-43d1-aaae-0ef6b8a2d63e",
   "metadata": {},
   "outputs": [
    {
     "name": "stdout",
     "output_type": "stream",
     "text": [
      "[[4, 3], [5, 2]]\n"
     ]
    }
   ],
   "source": [
    "combLst = []\n",
    "for i in range(len):\n",
    "    for j in range(1, i+1):\n",
    "        # print(i, j)\n",
    "        comb = i+j\n",
    "        lst = []\n",
    "        if(i+j) == target:\n",
    "            combLst.append([i,j])\n",
    "print(combLst)"
   ]
  },
  {
   "cell_type": "markdown",
   "id": "871b0d4c-5021-4643-a380-8d87426911b4",
   "metadata": {},
   "source": [
    "Question #1: \n",
    "\n",
    "## Zeros At End\n",
    "    \n",
    "    From a given list of numbers, move zeros to the end of the list.\n",
    "    \n",
    "    For example,\n",
    "    If the given list of numbers is:\n",
    "        lst = [1, 0, 2, 0, 4, 0, 6, 5]\n",
    "    Then the output should be:\n",
    "        [1, 2, 4, 6, 5, 0, 0, 0]"
   ]
  },
  {
   "cell_type": "code",
   "execution_count": 22,
   "id": "2cfa2345-52cd-427e-b870-e17317166f37",
   "metadata": {},
   "outputs": [],
   "source": [
    "lst = [1, 0, 2, 0, 4, 0, 6, 5]"
   ]
  },
  {
   "cell_type": "code",
   "execution_count": 23,
   "id": "1aa7f37a-8cb1-4e2a-b40f-78aea054b02e",
   "metadata": {},
   "outputs": [
    {
     "name": "stdout",
     "output_type": "stream",
     "text": [
      "[0, 0, 0]\n",
      "[1, 2, 4, 6, 5]\n"
     ]
    }
   ],
   "source": [
    "zeroLst = []\n",
    "numLst = []\n",
    "for i in lst:\n",
    "    if(i==0):\n",
    "        zeroLst.append(i)\n",
    "    else:\n",
    "        numLst.append(i)\n",
    "\n",
    "print(zeroLst)\n",
    "print(numLst)"
   ]
  },
  {
   "cell_type": "code",
   "execution_count": 24,
   "id": "0b0882fe-620a-4e39-972f-88551fc6957a",
   "metadata": {},
   "outputs": [],
   "source": [
    "lst = numLst + zeroLst"
   ]
  },
  {
   "cell_type": "code",
   "execution_count": 25,
   "id": "882d191d-dcaa-46a0-9f8f-afa679b85ff4",
   "metadata": {},
   "outputs": [
    {
     "name": "stdout",
     "output_type": "stream",
     "text": [
      "[1, 2, 4, 6, 5, 0, 0, 0]\n"
     ]
    }
   ],
   "source": [
    "print(lst)"
   ]
  },
  {
   "cell_type": "code",
   "execution_count": null,
   "id": "86132aa1-6404-41b0-942b-126224d0a1c5",
   "metadata": {},
   "outputs": [],
   "source": []
  },
  {
   "cell_type": "code",
   "execution_count": null,
   "id": "e6491b27-12ff-4178-b6f4-997401013f8b",
   "metadata": {},
   "outputs": [],
   "source": []
  },
  {
   "cell_type": "code",
   "execution_count": null,
   "id": "f3ff1b90-4752-45ae-82d0-bfc5a350ba43",
   "metadata": {},
   "outputs": [],
   "source": []
  },
  {
   "cell_type": "code",
   "execution_count": null,
   "id": "ac7651bc-d3cc-46d2-883c-92d58f4f81b9",
   "metadata": {},
   "outputs": [],
   "source": []
  },
  {
   "cell_type": "code",
   "execution_count": null,
   "id": "fc5dae13-5501-4d04-95e1-a7b835af3a3b",
   "metadata": {},
   "outputs": [],
   "source": []
  },
  {
   "cell_type": "code",
   "execution_count": null,
   "id": "58e68487-cc0d-4191-94ae-3c3f157488db",
   "metadata": {},
   "outputs": [],
   "source": []
  },
  {
   "cell_type": "code",
   "execution_count": null,
   "id": "0799376e-796a-4622-b14b-1f2a03b4eae0",
   "metadata": {},
   "outputs": [],
   "source": []
  },
  {
   "cell_type": "code",
   "execution_count": null,
   "id": "4a5cb184-c1da-4d5f-a5ae-c75b5e34cfae",
   "metadata": {},
   "outputs": [],
   "source": []
  },
  {
   "cell_type": "code",
   "execution_count": null,
   "id": "a069dc28-57cc-423c-a57c-35a42709e19a",
   "metadata": {},
   "outputs": [],
   "source": []
  },
  {
   "cell_type": "code",
   "execution_count": null,
   "id": "c7fd32dd-848c-44bb-bd6f-32eb7d8c7811",
   "metadata": {},
   "outputs": [],
   "source": []
  },
  {
   "cell_type": "code",
   "execution_count": null,
   "id": "bc5dd929-5598-4c29-a2e6-a9db4e980166",
   "metadata": {},
   "outputs": [],
   "source": []
  },
  {
   "cell_type": "code",
   "execution_count": null,
   "id": "0d0720dd-0a37-4b70-8ec4-b89014e0536a",
   "metadata": {},
   "outputs": [],
   "source": []
  },
  {
   "cell_type": "code",
   "execution_count": null,
   "id": "8363198d-5b7c-473c-97eb-7813d4537038",
   "metadata": {},
   "outputs": [],
   "source": []
  },
  {
   "cell_type": "code",
   "execution_count": null,
   "id": "920bc23a-1bc6-414e-b73c-5de755536552",
   "metadata": {},
   "outputs": [],
   "source": []
  }
 ],
 "metadata": {
  "kernelspec": {
   "display_name": "Python 3 (ipykernel)",
   "language": "python",
   "name": "python3"
  },
  "language_info": {
   "codemirror_mode": {
    "name": "ipython",
    "version": 3
   },
   "file_extension": ".py",
   "mimetype": "text/x-python",
   "name": "python",
   "nbconvert_exporter": "python",
   "pygments_lexer": "ipython3",
   "version": "3.11.4"
  }
 },
 "nbformat": 4,
 "nbformat_minor": 5
}
